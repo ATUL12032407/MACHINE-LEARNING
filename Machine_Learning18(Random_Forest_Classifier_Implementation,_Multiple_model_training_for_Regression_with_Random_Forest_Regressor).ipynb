{
  "cells": [
    {
      "cell_type": "markdown",
      "id": "320bbbc1-a537-4e21-803b-bd9e7592f6f2",
      "metadata": {
        "id": "320bbbc1-a537-4e21-803b-bd9e7592f6f2"
      },
      "source": [
        "# Multiple models with Pipeline and ColumnTransformer"
      ]
    },
    {
      "cell_type": "code",
      "execution_count": null,
      "id": "c67a61e9-8df1-4987-b79d-4ad5758ee8e5",
      "metadata": {
        "id": "c67a61e9-8df1-4987-b79d-4ad5758ee8e5"
      },
      "outputs": [],
      "source": [
        "import pandas as pd\n",
        "import numpy as np\n",
        "import matplotlib.pyplot as plt\n",
        "import seaborn as sns\n",
        "\n",
        "import warnings\n",
        "warnings.filterwarnings(\"ignore\")"
      ]
    },
    {
      "cell_type": "code",
      "execution_count": null,
      "id": "57268c60-f26a-484e-97ab-b9de5179f483",
      "metadata": {
        "id": "57268c60-f26a-484e-97ab-b9de5179f483",
        "outputId": "a55a4c4e-ad26-4212-f401-2198cbfd30d2"
      },
      "outputs": [
        {
          "data": {
            "text/html": [
              "<div>\n",
              "<style scoped>\n",
              "    .dataframe tbody tr th:only-of-type {\n",
              "        vertical-align: middle;\n",
              "    }\n",
              "\n",
              "    .dataframe tbody tr th {\n",
              "        vertical-align: top;\n",
              "    }\n",
              "\n",
              "    .dataframe thead th {\n",
              "        text-align: right;\n",
              "    }\n",
              "</style>\n",
              "<table border=\"1\" class=\"dataframe\">\n",
              "  <thead>\n",
              "    <tr style=\"text-align: right;\">\n",
              "      <th></th>\n",
              "      <th>total_bill</th>\n",
              "      <th>tip</th>\n",
              "      <th>sex</th>\n",
              "      <th>smoker</th>\n",
              "      <th>day</th>\n",
              "      <th>time</th>\n",
              "      <th>size</th>\n",
              "    </tr>\n",
              "  </thead>\n",
              "  <tbody>\n",
              "    <tr>\n",
              "      <th>0</th>\n",
              "      <td>16.99</td>\n",
              "      <td>1.01</td>\n",
              "      <td>Female</td>\n",
              "      <td>No</td>\n",
              "      <td>Sun</td>\n",
              "      <td>Dinner</td>\n",
              "      <td>2</td>\n",
              "    </tr>\n",
              "    <tr>\n",
              "      <th>1</th>\n",
              "      <td>10.34</td>\n",
              "      <td>1.66</td>\n",
              "      <td>Male</td>\n",
              "      <td>No</td>\n",
              "      <td>Sun</td>\n",
              "      <td>Dinner</td>\n",
              "      <td>3</td>\n",
              "    </tr>\n",
              "    <tr>\n",
              "      <th>2</th>\n",
              "      <td>21.01</td>\n",
              "      <td>3.50</td>\n",
              "      <td>Male</td>\n",
              "      <td>No</td>\n",
              "      <td>Sun</td>\n",
              "      <td>Dinner</td>\n",
              "      <td>3</td>\n",
              "    </tr>\n",
              "    <tr>\n",
              "      <th>3</th>\n",
              "      <td>23.68</td>\n",
              "      <td>3.31</td>\n",
              "      <td>Male</td>\n",
              "      <td>No</td>\n",
              "      <td>Sun</td>\n",
              "      <td>Dinner</td>\n",
              "      <td>2</td>\n",
              "    </tr>\n",
              "    <tr>\n",
              "      <th>4</th>\n",
              "      <td>24.59</td>\n",
              "      <td>3.61</td>\n",
              "      <td>Female</td>\n",
              "      <td>No</td>\n",
              "      <td>Sun</td>\n",
              "      <td>Dinner</td>\n",
              "      <td>4</td>\n",
              "    </tr>\n",
              "  </tbody>\n",
              "</table>\n",
              "</div>"
            ],
            "text/plain": [
              "   total_bill   tip     sex smoker  day    time  size\n",
              "0       16.99  1.01  Female     No  Sun  Dinner     2\n",
              "1       10.34  1.66    Male     No  Sun  Dinner     3\n",
              "2       21.01  3.50    Male     No  Sun  Dinner     3\n",
              "3       23.68  3.31    Male     No  Sun  Dinner     2\n",
              "4       24.59  3.61  Female     No  Sun  Dinner     4"
            ]
          },
          "execution_count": 36,
          "metadata": {},
          "output_type": "execute_result"
        }
      ],
      "source": [
        "df = sns.load_dataset(\"tips\")\n",
        "df.head()"
      ]
    },
    {
      "cell_type": "code",
      "execution_count": null,
      "id": "6262fbba-51ac-4ccb-a3f0-1134c2924e59",
      "metadata": {
        "id": "6262fbba-51ac-4ccb-a3f0-1134c2924e59",
        "outputId": "3f1901ea-cf91-43f3-f461-d6f72764cf3d"
      },
      "outputs": [
        {
          "data": {
            "text/plain": [
              "['Dinner', 'Lunch']\n",
              "Categories (2, object): ['Lunch', 'Dinner']"
            ]
          },
          "execution_count": 37,
          "metadata": {},
          "output_type": "execute_result"
        }
      ],
      "source": [
        "#predictthe total_bill? total_bill is target variables\n",
        "df.time.unique()"
      ]
    },
    {
      "cell_type": "code",
      "execution_count": null,
      "id": "8bd4da43-840a-4435-8f6d-eb97c969b325",
      "metadata": {
        "id": "8bd4da43-840a-4435-8f6d-eb97c969b325",
        "outputId": "18b10d5d-69f0-4d13-9622-60395b7babdc"
      },
      "outputs": [
        {
          "name": "stdout",
          "output_type": "stream",
          "text": [
            "<class 'pandas.core.frame.DataFrame'>\n",
            "RangeIndex: 244 entries, 0 to 243\n",
            "Data columns (total 7 columns):\n",
            " #   Column      Non-Null Count  Dtype   \n",
            "---  ------      --------------  -----   \n",
            " 0   total_bill  244 non-null    float64 \n",
            " 1   tip         244 non-null    float64 \n",
            " 2   sex         244 non-null    category\n",
            " 3   smoker      244 non-null    category\n",
            " 4   day         244 non-null    category\n",
            " 5   time        244 non-null    category\n",
            " 6   size        244 non-null    int64   \n",
            "dtypes: category(4), float64(2), int64(1)\n",
            "memory usage: 7.4 KB\n"
          ]
        }
      ],
      "source": [
        "#EDA>> subjective\n",
        "#encoding, missing value treatiment, scaling>> automate\n",
        "df.info()"
      ]
    },
    {
      "cell_type": "code",
      "execution_count": null,
      "id": "9cd46c0e-9a63-4cf5-93da-42bb82026d97",
      "metadata": {
        "id": "9cd46c0e-9a63-4cf5-93da-42bb82026d97"
      },
      "outputs": [],
      "source": [
        "X = df.drop('total_bill', axis =1)\n",
        "y = df['total_bill']"
      ]
    },
    {
      "cell_type": "code",
      "execution_count": null,
      "id": "5f6f6c78-8ebb-4f61-ab86-7be087c9f499",
      "metadata": {
        "id": "5f6f6c78-8ebb-4f61-ab86-7be087c9f499",
        "outputId": "49a26d04-3ced-4195-9b91-996ee5109ada"
      },
      "outputs": [
        {
          "data": {
            "text/html": [
              "<div>\n",
              "<style scoped>\n",
              "    .dataframe tbody tr th:only-of-type {\n",
              "        vertical-align: middle;\n",
              "    }\n",
              "\n",
              "    .dataframe tbody tr th {\n",
              "        vertical-align: top;\n",
              "    }\n",
              "\n",
              "    .dataframe thead th {\n",
              "        text-align: right;\n",
              "    }\n",
              "</style>\n",
              "<table border=\"1\" class=\"dataframe\">\n",
              "  <thead>\n",
              "    <tr style=\"text-align: right;\">\n",
              "      <th></th>\n",
              "      <th>tip</th>\n",
              "      <th>sex</th>\n",
              "      <th>smoker</th>\n",
              "      <th>day</th>\n",
              "      <th>time</th>\n",
              "      <th>size</th>\n",
              "    </tr>\n",
              "  </thead>\n",
              "  <tbody>\n",
              "    <tr>\n",
              "      <th>0</th>\n",
              "      <td>1.01</td>\n",
              "      <td>Female</td>\n",
              "      <td>No</td>\n",
              "      <td>Sun</td>\n",
              "      <td>Dinner</td>\n",
              "      <td>2</td>\n",
              "    </tr>\n",
              "    <tr>\n",
              "      <th>1</th>\n",
              "      <td>1.66</td>\n",
              "      <td>Male</td>\n",
              "      <td>No</td>\n",
              "      <td>Sun</td>\n",
              "      <td>Dinner</td>\n",
              "      <td>3</td>\n",
              "    </tr>\n",
              "    <tr>\n",
              "      <th>2</th>\n",
              "      <td>3.50</td>\n",
              "      <td>Male</td>\n",
              "      <td>No</td>\n",
              "      <td>Sun</td>\n",
              "      <td>Dinner</td>\n",
              "      <td>3</td>\n",
              "    </tr>\n",
              "    <tr>\n",
              "      <th>3</th>\n",
              "      <td>3.31</td>\n",
              "      <td>Male</td>\n",
              "      <td>No</td>\n",
              "      <td>Sun</td>\n",
              "      <td>Dinner</td>\n",
              "      <td>2</td>\n",
              "    </tr>\n",
              "    <tr>\n",
              "      <th>4</th>\n",
              "      <td>3.61</td>\n",
              "      <td>Female</td>\n",
              "      <td>No</td>\n",
              "      <td>Sun</td>\n",
              "      <td>Dinner</td>\n",
              "      <td>4</td>\n",
              "    </tr>\n",
              "    <tr>\n",
              "      <th>...</th>\n",
              "      <td>...</td>\n",
              "      <td>...</td>\n",
              "      <td>...</td>\n",
              "      <td>...</td>\n",
              "      <td>...</td>\n",
              "      <td>...</td>\n",
              "    </tr>\n",
              "    <tr>\n",
              "      <th>239</th>\n",
              "      <td>5.92</td>\n",
              "      <td>Male</td>\n",
              "      <td>No</td>\n",
              "      <td>Sat</td>\n",
              "      <td>Dinner</td>\n",
              "      <td>3</td>\n",
              "    </tr>\n",
              "    <tr>\n",
              "      <th>240</th>\n",
              "      <td>2.00</td>\n",
              "      <td>Female</td>\n",
              "      <td>Yes</td>\n",
              "      <td>Sat</td>\n",
              "      <td>Dinner</td>\n",
              "      <td>2</td>\n",
              "    </tr>\n",
              "    <tr>\n",
              "      <th>241</th>\n",
              "      <td>2.00</td>\n",
              "      <td>Male</td>\n",
              "      <td>Yes</td>\n",
              "      <td>Sat</td>\n",
              "      <td>Dinner</td>\n",
              "      <td>2</td>\n",
              "    </tr>\n",
              "    <tr>\n",
              "      <th>242</th>\n",
              "      <td>1.75</td>\n",
              "      <td>Male</td>\n",
              "      <td>No</td>\n",
              "      <td>Sat</td>\n",
              "      <td>Dinner</td>\n",
              "      <td>2</td>\n",
              "    </tr>\n",
              "    <tr>\n",
              "      <th>243</th>\n",
              "      <td>3.00</td>\n",
              "      <td>Female</td>\n",
              "      <td>No</td>\n",
              "      <td>Thur</td>\n",
              "      <td>Dinner</td>\n",
              "      <td>2</td>\n",
              "    </tr>\n",
              "  </tbody>\n",
              "</table>\n",
              "<p>244 rows × 6 columns</p>\n",
              "</div>"
            ],
            "text/plain": [
              "      tip     sex smoker   day    time  size\n",
              "0    1.01  Female     No   Sun  Dinner     2\n",
              "1    1.66    Male     No   Sun  Dinner     3\n",
              "2    3.50    Male     No   Sun  Dinner     3\n",
              "3    3.31    Male     No   Sun  Dinner     2\n",
              "4    3.61  Female     No   Sun  Dinner     4\n",
              "..    ...     ...    ...   ...     ...   ...\n",
              "239  5.92    Male     No   Sat  Dinner     3\n",
              "240  2.00  Female    Yes   Sat  Dinner     2\n",
              "241  2.00    Male    Yes   Sat  Dinner     2\n",
              "242  1.75    Male     No   Sat  Dinner     2\n",
              "243  3.00  Female     No  Thur  Dinner     2\n",
              "\n",
              "[244 rows x 6 columns]"
            ]
          },
          "execution_count": 40,
          "metadata": {},
          "output_type": "execute_result"
        }
      ],
      "source": [
        "X"
      ]
    },
    {
      "cell_type": "code",
      "execution_count": null,
      "id": "f588eea6-5055-411b-8952-bbd82769d735",
      "metadata": {
        "id": "f588eea6-5055-411b-8952-bbd82769d735",
        "outputId": "0a932b20-4a2a-4656-ce80-da3a64c3a078"
      },
      "outputs": [
        {
          "data": {
            "text/plain": [
              "0      16.99\n",
              "1      10.34\n",
              "2      21.01\n",
              "3      23.68\n",
              "4      24.59\n",
              "       ...  \n",
              "239    29.03\n",
              "240    27.18\n",
              "241    22.67\n",
              "242    17.82\n",
              "243    18.78\n",
              "Name: total_bill, Length: 244, dtype: float64"
            ]
          },
          "execution_count": 41,
          "metadata": {},
          "output_type": "execute_result"
        }
      ],
      "source": [
        "y"
      ]
    },
    {
      "cell_type": "code",
      "execution_count": null,
      "id": "daee5059-9941-4ebf-80a6-b8b0799a7c5e",
      "metadata": {
        "id": "daee5059-9941-4ebf-80a6-b8b0799a7c5e"
      },
      "outputs": [],
      "source": [
        "from sklearn.model_selection import train_test_split\n",
        "X_train, X_test, y_train, y_test = train_test_split(X, y, test_size=0.20, random_state=1)"
      ]
    },
    {
      "cell_type": "code",
      "execution_count": null,
      "id": "a19e629a-2c93-41df-941a-8913139ea0fa",
      "metadata": {
        "id": "a19e629a-2c93-41df-941a-8913139ea0fa",
        "outputId": "7b160359-886f-4bfe-a3e0-b7c90dc99f21"
      },
      "outputs": [
        {
          "data": {
            "text/html": [
              "<div>\n",
              "<style scoped>\n",
              "    .dataframe tbody tr th:only-of-type {\n",
              "        vertical-align: middle;\n",
              "    }\n",
              "\n",
              "    .dataframe tbody tr th {\n",
              "        vertical-align: top;\n",
              "    }\n",
              "\n",
              "    .dataframe thead th {\n",
              "        text-align: right;\n",
              "    }\n",
              "</style>\n",
              "<table border=\"1\" class=\"dataframe\">\n",
              "  <thead>\n",
              "    <tr style=\"text-align: right;\">\n",
              "      <th></th>\n",
              "      <th>tip</th>\n",
              "      <th>sex</th>\n",
              "      <th>smoker</th>\n",
              "      <th>day</th>\n",
              "      <th>time</th>\n",
              "      <th>size</th>\n",
              "    </tr>\n",
              "  </thead>\n",
              "  <tbody>\n",
              "    <tr>\n",
              "      <th>0</th>\n",
              "      <td>1.01</td>\n",
              "      <td>Female</td>\n",
              "      <td>No</td>\n",
              "      <td>Sun</td>\n",
              "      <td>Dinner</td>\n",
              "      <td>2</td>\n",
              "    </tr>\n",
              "    <tr>\n",
              "      <th>154</th>\n",
              "      <td>2.00</td>\n",
              "      <td>Male</td>\n",
              "      <td>No</td>\n",
              "      <td>Sun</td>\n",
              "      <td>Dinner</td>\n",
              "      <td>4</td>\n",
              "    </tr>\n",
              "    <tr>\n",
              "      <th>167</th>\n",
              "      <td>4.50</td>\n",
              "      <td>Male</td>\n",
              "      <td>No</td>\n",
              "      <td>Sun</td>\n",
              "      <td>Dinner</td>\n",
              "      <td>4</td>\n",
              "    </tr>\n",
              "    <tr>\n",
              "      <th>110</th>\n",
              "      <td>3.00</td>\n",
              "      <td>Male</td>\n",
              "      <td>No</td>\n",
              "      <td>Sat</td>\n",
              "      <td>Dinner</td>\n",
              "      <td>2</td>\n",
              "    </tr>\n",
              "    <tr>\n",
              "      <th>225</th>\n",
              "      <td>2.50</td>\n",
              "      <td>Female</td>\n",
              "      <td>Yes</td>\n",
              "      <td>Fri</td>\n",
              "      <td>Lunch</td>\n",
              "      <td>2</td>\n",
              "    </tr>\n",
              "  </tbody>\n",
              "</table>\n",
              "</div>"
            ],
            "text/plain": [
              "      tip     sex smoker  day    time  size\n",
              "0    1.01  Female     No  Sun  Dinner     2\n",
              "154  2.00    Male     No  Sun  Dinner     4\n",
              "167  4.50    Male     No  Sun  Dinner     4\n",
              "110  3.00    Male     No  Sat  Dinner     2\n",
              "225  2.50  Female    Yes  Fri   Lunch     2"
            ]
          },
          "execution_count": 44,
          "metadata": {},
          "output_type": "execute_result"
        }
      ],
      "source": [
        "X_train.head()"
      ]
    },
    {
      "cell_type": "code",
      "execution_count": null,
      "id": "d433edbd-4f13-4431-851c-4af0d135ec1b",
      "metadata": {
        "id": "d433edbd-4f13-4431-851c-4af0d135ec1b",
        "outputId": "8af814c0-021b-435c-cd3f-f464d5d9f8e5"
      },
      "outputs": [
        {
          "data": {
            "text/plain": [
              "total_bill    0\n",
              "tip           0\n",
              "sex           0\n",
              "smoker        0\n",
              "day           0\n",
              "time          0\n",
              "size          0\n",
              "dtype: int64"
            ]
          },
          "execution_count": 45,
          "metadata": {},
          "output_type": "execute_result"
        }
      ],
      "source": [
        "df.isna().sum()"
      ]
    },
    {
      "cell_type": "code",
      "execution_count": null,
      "id": "e5b84c9e-ee08-4c22-a1f4-22209321407e",
      "metadata": {
        "id": "e5b84c9e-ee08-4c22-a1f4-22209321407e"
      },
      "outputs": [],
      "source": [
        "#Handling the missing value\n",
        "#data encoding\n",
        "#feature scaling\n",
        "\n",
        "from sklearn.impute import SimpleImputer #for missing vlaue\n",
        "from sklearn.preprocessing import OneHotEncoder #for encoding\n",
        "from sklearn.preprocessing import StandardScaler #for scaling\n",
        "\n",
        "from sklearn.pipeline import Pipeline #A sequence of data transformers\n",
        "from sklearn.compose import ColumnTransformer #Groups all the pipeline steps for each of the clumns"
      ]
    },
    {
      "cell_type": "code",
      "execution_count": null,
      "id": "64090c79-4f5a-4aa6-abda-17b05660119d",
      "metadata": {
        "id": "64090c79-4f5a-4aa6-abda-17b05660119d"
      },
      "outputs": [],
      "source": [
        "cat_cols = [\"sex\", \"smoker\", \"day\", \"time\"]\n",
        "num_cols = [\"tip\", \"size\"]"
      ]
    },
    {
      "cell_type": "code",
      "execution_count": null,
      "id": "1714dc5a-9e29-49e3-a058-91a07f6ae35a",
      "metadata": {
        "id": "1714dc5a-9e29-49e3-a058-91a07f6ae35a"
      },
      "outputs": [],
      "source": [
        "#feature engineering automation using pipeline and columntransformer\n",
        "\n",
        "num_pipeline = Pipeline(steps = [('imputation', SimpleImputer(strategy = \"median\")),\n",
        "                                ('scaling', StandardScaler())])\n",
        "cat_pipeline = Pipeline(steps = [('imputation', SimpleImputer(strategy = \"most_frequent\")),\n",
        "                                ('encoding', OneHotEncoder())])"
      ]
    },
    {
      "cell_type": "code",
      "execution_count": null,
      "id": "161fd070-bda4-4399-abce-734aa444221f",
      "metadata": {
        "id": "161fd070-bda4-4399-abce-734aa444221f"
      },
      "outputs": [],
      "source": [
        "preprocessor = ColumnTransformer([(\"num_pipeline\", num_pipeline, num_cols),\n",
        "                  (\"cat_pipeline\", cat_pipeline, cat_cols)])"
      ]
    },
    {
      "cell_type": "code",
      "execution_count": null,
      "id": "9b820b26-81dc-4230-8c00-437ff076570d",
      "metadata": {
        "id": "9b820b26-81dc-4230-8c00-437ff076570d"
      },
      "outputs": [],
      "source": [
        "X_train = preprocessor.fit_transform(X_train)\n",
        "X_test = preprocessor.transform(X_test)"
      ]
    },
    {
      "cell_type": "code",
      "execution_count": null,
      "id": "020df14f-e357-4511-9c8f-7aa71d53ff07",
      "metadata": {
        "id": "020df14f-e357-4511-9c8f-7aa71d53ff07",
        "outputId": "16e3a38e-db01-427e-c8f2-4708c1e30743"
      },
      "outputs": [
        {
          "data": {
            "text/plain": [
              "array([[-1.47443803, -0.57766863,  1.        , ...,  0.        ,\n",
              "         1.        ,  0.        ],\n",
              "       [-0.71612531,  1.47042924,  0.        , ...,  0.        ,\n",
              "         1.        ,  0.        ],\n",
              "       [ 1.19880579,  1.47042924,  0.        , ...,  0.        ,\n",
              "         1.        ,  0.        ],\n",
              "       ...,\n",
              "       [ 0.43283335, -0.57766863,  1.        , ...,  1.        ,\n",
              "         0.        ,  1.        ],\n",
              "       [-1.29060464, -0.57766863,  0.        , ...,  0.        ,\n",
              "         1.        ,  0.        ],\n",
              "       [ 0.1034652 ,  0.44638031,  1.        , ...,  0.        ,\n",
              "         1.        ,  0.        ]])"
            ]
          },
          "execution_count": 51,
          "metadata": {},
          "output_type": "execute_result"
        }
      ],
      "source": [
        "X_train"
      ]
    },
    {
      "cell_type": "code",
      "execution_count": null,
      "id": "e17fea17-5e7e-40dc-b97a-acbec0733dee",
      "metadata": {
        "id": "e17fea17-5e7e-40dc-b97a-acbec0733dee"
      },
      "outputs": [],
      "source": [
        "# X_test"
      ]
    },
    {
      "cell_type": "code",
      "execution_count": null,
      "id": "46cfefd6-cc74-489d-b457-77c7e4138aa3",
      "metadata": {
        "id": "46cfefd6-cc74-489d-b457-77c7e4138aa3"
      },
      "outputs": [],
      "source": [
        "from sklearn.tree import DecisionTreeRegressor\n",
        "from sklearn.svm import SVR\n",
        "from sklearn.linear_model import LinearRegression\n",
        "from sklearn.ensemble import RandomForestRegressor"
      ]
    },
    {
      "cell_type": "code",
      "execution_count": null,
      "id": "bf23b672-faf4-416c-8d74-f33fcae30dca",
      "metadata": {
        "id": "bf23b672-faf4-416c-8d74-f33fcae30dca"
      },
      "outputs": [],
      "source": [
        "models = {\"support vector Regressor\": SVR(),\n",
        "         \"DT Regressor\": DecisionTreeRegressor(),\n",
        "          \"Multiple Linear regression\": LinearRegression(),\n",
        "         \"Random_forest_Regressor\": RandomForestRegressor()}"
      ]
    },
    {
      "cell_type": "code",
      "execution_count": null,
      "id": "828f0c54-62df-4fbb-8aaa-b6a0b9cf6df8",
      "metadata": {
        "id": "828f0c54-62df-4fbb-8aaa-b6a0b9cf6df8"
      },
      "outputs": [],
      "source": [
        "from sklearn.metrics import r2_score\n",
        "def model_train_eval(X_train, y_train, X_test, y_test, models):\n",
        "    evaluation = {}\n",
        "    for i in range(len(models)):\n",
        "        model = list(models.values())[i]\n",
        "        model.fit(X_train, y_train)\n",
        "        y_pred = model.predict(X_test)\n",
        "        model_score = r2_score(y_test, y_pred)\n",
        "        evaluation[list(models.keys())[i]] = model_score\n",
        "    return evaluation"
      ]
    },
    {
      "cell_type": "code",
      "execution_count": null,
      "id": "081152c0-d041-4918-9861-1f4b439516a2",
      "metadata": {
        "id": "081152c0-d041-4918-9861-1f4b439516a2",
        "outputId": "c54da48a-b6f0-4731-8e9b-812824e81bd1"
      },
      "outputs": [
        {
          "data": {
            "text/plain": [
              "{'support vector Regressor': 0.4069433055293954,\n",
              " 'DT Regressor': 0.148273719426101,\n",
              " 'Multiple Linear regression': 0.6719006761625261,\n",
              " 'Random_forest_Regressor': 0.6344196825893511}"
            ]
          },
          "execution_count": 55,
          "metadata": {},
          "output_type": "execute_result"
        }
      ],
      "source": [
        "model_train_eval(X_train, y_train, X_test, y_test, models)"
      ]
    },
    {
      "cell_type": "code",
      "execution_count": null,
      "id": "b71a9156-c990-40ff-b4a5-eeab2c67ce99",
      "metadata": {
        "id": "b71a9156-c990-40ff-b4a5-eeab2c67ce99"
      },
      "outputs": [],
      "source": [
        "from sklearn.ensemble import RandomForestRegressor"
      ]
    },
    {
      "cell_type": "code",
      "execution_count": null,
      "id": "34a2ae1f-49b1-4233-99f3-42ff9ebb4c88",
      "metadata": {
        "id": "34a2ae1f-49b1-4233-99f3-42ff9ebb4c88"
      },
      "outputs": [],
      "source": [
        "rfr = RandomForestRegressor(oob_score=True)"
      ]
    },
    {
      "cell_type": "code",
      "execution_count": null,
      "id": "c623341a-6052-4aa3-ab18-531239aab553",
      "metadata": {
        "id": "c623341a-6052-4aa3-ab18-531239aab553",
        "outputId": "29821dac-c92f-40b3-c0ce-7312406a45d2"
      },
      "outputs": [
        {
          "data": {
            "text/html": [
              "<style>#sk-container-id-1 {color: black;background-color: white;}#sk-container-id-1 pre{padding: 0;}#sk-container-id-1 div.sk-toggleable {background-color: white;}#sk-container-id-1 label.sk-toggleable__label {cursor: pointer;display: block;width: 100%;margin-bottom: 0;padding: 0.3em;box-sizing: border-box;text-align: center;}#sk-container-id-1 label.sk-toggleable__label-arrow:before {content: \"▸\";float: left;margin-right: 0.25em;color: #696969;}#sk-container-id-1 label.sk-toggleable__label-arrow:hover:before {color: black;}#sk-container-id-1 div.sk-estimator:hover label.sk-toggleable__label-arrow:before {color: black;}#sk-container-id-1 div.sk-toggleable__content {max-height: 0;max-width: 0;overflow: hidden;text-align: left;background-color: #f0f8ff;}#sk-container-id-1 div.sk-toggleable__content pre {margin: 0.2em;color: black;border-radius: 0.25em;background-color: #f0f8ff;}#sk-container-id-1 input.sk-toggleable__control:checked~div.sk-toggleable__content {max-height: 200px;max-width: 100%;overflow: auto;}#sk-container-id-1 input.sk-toggleable__control:checked~label.sk-toggleable__label-arrow:before {content: \"▾\";}#sk-container-id-1 div.sk-estimator input.sk-toggleable__control:checked~label.sk-toggleable__label {background-color: #d4ebff;}#sk-container-id-1 div.sk-label input.sk-toggleable__control:checked~label.sk-toggleable__label {background-color: #d4ebff;}#sk-container-id-1 input.sk-hidden--visually {border: 0;clip: rect(1px 1px 1px 1px);clip: rect(1px, 1px, 1px, 1px);height: 1px;margin: -1px;overflow: hidden;padding: 0;position: absolute;width: 1px;}#sk-container-id-1 div.sk-estimator {font-family: monospace;background-color: #f0f8ff;border: 1px dotted black;border-radius: 0.25em;box-sizing: border-box;margin-bottom: 0.5em;}#sk-container-id-1 div.sk-estimator:hover {background-color: #d4ebff;}#sk-container-id-1 div.sk-parallel-item::after {content: \"\";width: 100%;border-bottom: 1px solid gray;flex-grow: 1;}#sk-container-id-1 div.sk-label:hover label.sk-toggleable__label {background-color: #d4ebff;}#sk-container-id-1 div.sk-serial::before {content: \"\";position: absolute;border-left: 1px solid gray;box-sizing: border-box;top: 0;bottom: 0;left: 50%;z-index: 0;}#sk-container-id-1 div.sk-serial {display: flex;flex-direction: column;align-items: center;background-color: white;padding-right: 0.2em;padding-left: 0.2em;position: relative;}#sk-container-id-1 div.sk-item {position: relative;z-index: 1;}#sk-container-id-1 div.sk-parallel {display: flex;align-items: stretch;justify-content: center;background-color: white;position: relative;}#sk-container-id-1 div.sk-item::before, #sk-container-id-1 div.sk-parallel-item::before {content: \"\";position: absolute;border-left: 1px solid gray;box-sizing: border-box;top: 0;bottom: 0;left: 50%;z-index: -1;}#sk-container-id-1 div.sk-parallel-item {display: flex;flex-direction: column;z-index: 1;position: relative;background-color: white;}#sk-container-id-1 div.sk-parallel-item:first-child::after {align-self: flex-end;width: 50%;}#sk-container-id-1 div.sk-parallel-item:last-child::after {align-self: flex-start;width: 50%;}#sk-container-id-1 div.sk-parallel-item:only-child::after {width: 0;}#sk-container-id-1 div.sk-dashed-wrapped {border: 1px dashed gray;margin: 0 0.4em 0.5em 0.4em;box-sizing: border-box;padding-bottom: 0.4em;background-color: white;}#sk-container-id-1 div.sk-label label {font-family: monospace;font-weight: bold;display: inline-block;line-height: 1.2em;}#sk-container-id-1 div.sk-label-container {text-align: center;}#sk-container-id-1 div.sk-container {/* jupyter's `normalize.less` sets `[hidden] { display: none; }` but bootstrap.min.css set `[hidden] { display: none !important; }` so we also need the `!important` here to be able to override the default hidden behavior on the sphinx rendered scikit-learn.org. See: https://github.com/scikit-learn/scikit-learn/issues/21755 */display: inline-block !important;position: relative;}#sk-container-id-1 div.sk-text-repr-fallback {display: none;}</style><div id=\"sk-container-id-1\" class=\"sk-top-container\"><div class=\"sk-text-repr-fallback\"><pre>RandomForestRegressor(oob_score=True)</pre><b>In a Jupyter environment, please rerun this cell to show the HTML representation or trust the notebook. <br />On GitHub, the HTML representation is unable to render, please try loading this page with nbviewer.org.</b></div><div class=\"sk-container\" hidden><div class=\"sk-item\"><div class=\"sk-estimator sk-toggleable\"><input class=\"sk-toggleable__control sk-hidden--visually\" id=\"sk-estimator-id-1\" type=\"checkbox\" checked><label for=\"sk-estimator-id-1\" class=\"sk-toggleable__label sk-toggleable__label-arrow\">RandomForestRegressor</label><div class=\"sk-toggleable__content\"><pre>RandomForestRegressor(oob_score=True)</pre></div></div></div></div></div>"
            ],
            "text/plain": [
              "RandomForestRegressor(oob_score=True)"
            ]
          },
          "execution_count": 26,
          "metadata": {},
          "output_type": "execute_result"
        }
      ],
      "source": [
        "rfr"
      ]
    },
    {
      "cell_type": "code",
      "execution_count": null,
      "id": "ba96624b-f455-4309-bb94-7454e707854a",
      "metadata": {
        "id": "ba96624b-f455-4309-bb94-7454e707854a"
      },
      "outputs": [],
      "source": [
        "# X_train, X_test"
      ]
    },
    {
      "cell_type": "code",
      "execution_count": null,
      "id": "89a2e28f-4d90-4190-8bb5-4d350d75beeb",
      "metadata": {
        "id": "89a2e28f-4d90-4190-8bb5-4d350d75beeb"
      },
      "outputs": [],
      "source": [
        "from sklearn.model_selection import RandomizedSearchCV\n",
        "params={'max_depth':[1,50, 100, 150,200],\n",
        "        'n_estimators':[50, 100,200]}"
      ]
    },
    {
      "cell_type": "code",
      "execution_count": null,
      "id": "6ee61fae-44d2-41eb-9a1a-36582d61a28b",
      "metadata": {
        "id": "6ee61fae-44d2-41eb-9a1a-36582d61a28b",
        "outputId": "f8d463bb-8b08-4b8e-d76e-62c1e134a133"
      },
      "outputs": [
        {
          "data": {
            "text/plain": [
              "{'max_depth': [1, 50, 100, 150, 200], 'n_estimators': [50, 100, 200]}"
            ]
          },
          "execution_count": 29,
          "metadata": {},
          "output_type": "execute_result"
        }
      ],
      "source": [
        "params"
      ]
    },
    {
      "cell_type": "code",
      "execution_count": null,
      "id": "9fa0a9fc-9f25-40b1-853f-513faa26fd91",
      "metadata": {
        "id": "9fa0a9fc-9f25-40b1-853f-513faa26fd91"
      },
      "outputs": [],
      "source": [
        "reg = RandomizedSearchCV(rfr, param_distributions=params, cv = 5, verbose =3, scoring = 'r2')"
      ]
    },
    {
      "cell_type": "code",
      "execution_count": null,
      "id": "7c949e4e-ae12-49b1-a7d2-0d72088d883c",
      "metadata": {
        "id": "7c949e4e-ae12-49b1-a7d2-0d72088d883c",
        "outputId": "5cf70dc4-fb24-4376-bba2-4e7c22caab6b"
      },
      "outputs": [
        {
          "data": {
            "text/html": [
              "<style>#sk-container-id-2 {color: black;background-color: white;}#sk-container-id-2 pre{padding: 0;}#sk-container-id-2 div.sk-toggleable {background-color: white;}#sk-container-id-2 label.sk-toggleable__label {cursor: pointer;display: block;width: 100%;margin-bottom: 0;padding: 0.3em;box-sizing: border-box;text-align: center;}#sk-container-id-2 label.sk-toggleable__label-arrow:before {content: \"▸\";float: left;margin-right: 0.25em;color: #696969;}#sk-container-id-2 label.sk-toggleable__label-arrow:hover:before {color: black;}#sk-container-id-2 div.sk-estimator:hover label.sk-toggleable__label-arrow:before {color: black;}#sk-container-id-2 div.sk-toggleable__content {max-height: 0;max-width: 0;overflow: hidden;text-align: left;background-color: #f0f8ff;}#sk-container-id-2 div.sk-toggleable__content pre {margin: 0.2em;color: black;border-radius: 0.25em;background-color: #f0f8ff;}#sk-container-id-2 input.sk-toggleable__control:checked~div.sk-toggleable__content {max-height: 200px;max-width: 100%;overflow: auto;}#sk-container-id-2 input.sk-toggleable__control:checked~label.sk-toggleable__label-arrow:before {content: \"▾\";}#sk-container-id-2 div.sk-estimator input.sk-toggleable__control:checked~label.sk-toggleable__label {background-color: #d4ebff;}#sk-container-id-2 div.sk-label input.sk-toggleable__control:checked~label.sk-toggleable__label {background-color: #d4ebff;}#sk-container-id-2 input.sk-hidden--visually {border: 0;clip: rect(1px 1px 1px 1px);clip: rect(1px, 1px, 1px, 1px);height: 1px;margin: -1px;overflow: hidden;padding: 0;position: absolute;width: 1px;}#sk-container-id-2 div.sk-estimator {font-family: monospace;background-color: #f0f8ff;border: 1px dotted black;border-radius: 0.25em;box-sizing: border-box;margin-bottom: 0.5em;}#sk-container-id-2 div.sk-estimator:hover {background-color: #d4ebff;}#sk-container-id-2 div.sk-parallel-item::after {content: \"\";width: 100%;border-bottom: 1px solid gray;flex-grow: 1;}#sk-container-id-2 div.sk-label:hover label.sk-toggleable__label {background-color: #d4ebff;}#sk-container-id-2 div.sk-serial::before {content: \"\";position: absolute;border-left: 1px solid gray;box-sizing: border-box;top: 0;bottom: 0;left: 50%;z-index: 0;}#sk-container-id-2 div.sk-serial {display: flex;flex-direction: column;align-items: center;background-color: white;padding-right: 0.2em;padding-left: 0.2em;position: relative;}#sk-container-id-2 div.sk-item {position: relative;z-index: 1;}#sk-container-id-2 div.sk-parallel {display: flex;align-items: stretch;justify-content: center;background-color: white;position: relative;}#sk-container-id-2 div.sk-item::before, #sk-container-id-2 div.sk-parallel-item::before {content: \"\";position: absolute;border-left: 1px solid gray;box-sizing: border-box;top: 0;bottom: 0;left: 50%;z-index: -1;}#sk-container-id-2 div.sk-parallel-item {display: flex;flex-direction: column;z-index: 1;position: relative;background-color: white;}#sk-container-id-2 div.sk-parallel-item:first-child::after {align-self: flex-end;width: 50%;}#sk-container-id-2 div.sk-parallel-item:last-child::after {align-self: flex-start;width: 50%;}#sk-container-id-2 div.sk-parallel-item:only-child::after {width: 0;}#sk-container-id-2 div.sk-dashed-wrapped {border: 1px dashed gray;margin: 0 0.4em 0.5em 0.4em;box-sizing: border-box;padding-bottom: 0.4em;background-color: white;}#sk-container-id-2 div.sk-label label {font-family: monospace;font-weight: bold;display: inline-block;line-height: 1.2em;}#sk-container-id-2 div.sk-label-container {text-align: center;}#sk-container-id-2 div.sk-container {/* jupyter's `normalize.less` sets `[hidden] { display: none; }` but bootstrap.min.css set `[hidden] { display: none !important; }` so we also need the `!important` here to be able to override the default hidden behavior on the sphinx rendered scikit-learn.org. See: https://github.com/scikit-learn/scikit-learn/issues/21755 */display: inline-block !important;position: relative;}#sk-container-id-2 div.sk-text-repr-fallback {display: none;}</style><div id=\"sk-container-id-2\" class=\"sk-top-container\"><div class=\"sk-text-repr-fallback\"><pre>RandomizedSearchCV(cv=5, estimator=RandomForestRegressor(oob_score=True),\n",
              "                   param_distributions={&#x27;max_depth&#x27;: [1, 50, 100, 150, 200],\n",
              "                                        &#x27;n_estimators&#x27;: [50, 100, 200]},\n",
              "                   scoring=&#x27;r2&#x27;, verbose=3)</pre><b>In a Jupyter environment, please rerun this cell to show the HTML representation or trust the notebook. <br />On GitHub, the HTML representation is unable to render, please try loading this page with nbviewer.org.</b></div><div class=\"sk-container\" hidden><div class=\"sk-item sk-dashed-wrapped\"><div class=\"sk-label-container\"><div class=\"sk-label sk-toggleable\"><input class=\"sk-toggleable__control sk-hidden--visually\" id=\"sk-estimator-id-2\" type=\"checkbox\" ><label for=\"sk-estimator-id-2\" class=\"sk-toggleable__label sk-toggleable__label-arrow\">RandomizedSearchCV</label><div class=\"sk-toggleable__content\"><pre>RandomizedSearchCV(cv=5, estimator=RandomForestRegressor(oob_score=True),\n",
              "                   param_distributions={&#x27;max_depth&#x27;: [1, 50, 100, 150, 200],\n",
              "                                        &#x27;n_estimators&#x27;: [50, 100, 200]},\n",
              "                   scoring=&#x27;r2&#x27;, verbose=3)</pre></div></div></div><div class=\"sk-parallel\"><div class=\"sk-parallel-item\"><div class=\"sk-item\"><div class=\"sk-label-container\"><div class=\"sk-label sk-toggleable\"><input class=\"sk-toggleable__control sk-hidden--visually\" id=\"sk-estimator-id-3\" type=\"checkbox\" ><label for=\"sk-estimator-id-3\" class=\"sk-toggleable__label sk-toggleable__label-arrow\">estimator: RandomForestRegressor</label><div class=\"sk-toggleable__content\"><pre>RandomForestRegressor(oob_score=True)</pre></div></div></div><div class=\"sk-serial\"><div class=\"sk-item\"><div class=\"sk-estimator sk-toggleable\"><input class=\"sk-toggleable__control sk-hidden--visually\" id=\"sk-estimator-id-4\" type=\"checkbox\" ><label for=\"sk-estimator-id-4\" class=\"sk-toggleable__label sk-toggleable__label-arrow\">RandomForestRegressor</label><div class=\"sk-toggleable__content\"><pre>RandomForestRegressor(oob_score=True)</pre></div></div></div></div></div></div></div></div></div></div>"
            ],
            "text/plain": [
              "RandomizedSearchCV(cv=5, estimator=RandomForestRegressor(oob_score=True),\n",
              "                   param_distributions={'max_depth': [1, 50, 100, 150, 200],\n",
              "                                        'n_estimators': [50, 100, 200]},\n",
              "                   scoring='r2', verbose=3)"
            ]
          },
          "execution_count": 31,
          "metadata": {},
          "output_type": "execute_result"
        }
      ],
      "source": [
        "reg"
      ]
    },
    {
      "cell_type": "code",
      "execution_count": null,
      "id": "521e96c5-c75a-4cf0-918d-1e670a499228",
      "metadata": {
        "id": "521e96c5-c75a-4cf0-918d-1e670a499228",
        "outputId": "517879bc-64b1-4d70-94e9-8b99742ae483"
      },
      "outputs": [
        {
          "name": "stdout",
          "output_type": "stream",
          "text": [
            "Fitting 5 folds for each of 10 candidates, totalling 50 fits\n",
            "[CV 1/5] END .....max_depth=1, n_estimators=100;, score=0.234 total time=   0.2s\n",
            "[CV 2/5] END .....max_depth=1, n_estimators=100;, score=0.249 total time=   0.2s\n",
            "[CV 3/5] END .....max_depth=1, n_estimators=100;, score=0.437 total time=   0.2s\n",
            "[CV 4/5] END .....max_depth=1, n_estimators=100;, score=0.485 total time=   0.2s\n",
            "[CV 5/5] END .....max_depth=1, n_estimators=100;, score=0.399 total time=   0.2s\n",
            "[CV 1/5] END ....max_depth=100, n_estimators=50;, score=0.278 total time=   0.1s\n",
            "[CV 2/5] END ....max_depth=100, n_estimators=50;, score=0.464 total time=   0.1s\n",
            "[CV 3/5] END ....max_depth=100, n_estimators=50;, score=0.225 total time=   0.1s\n",
            "[CV 4/5] END ....max_depth=100, n_estimators=50;, score=0.545 total time=   0.1s\n",
            "[CV 5/5] END ....max_depth=100, n_estimators=50;, score=0.356 total time=   0.1s\n",
            "[CV 1/5] END ...max_depth=200, n_estimators=200;, score=0.289 total time=   0.5s\n",
            "[CV 2/5] END ...max_depth=200, n_estimators=200;, score=0.494 total time=   0.4s\n",
            "[CV 3/5] END ...max_depth=200, n_estimators=200;, score=0.175 total time=   0.4s\n",
            "[CV 4/5] END ...max_depth=200, n_estimators=200;, score=0.587 total time=   0.4s\n",
            "[CV 5/5] END ...max_depth=200, n_estimators=200;, score=0.366 total time=   0.4s\n",
            "[CV 1/5] END ....max_depth=200, n_estimators=50;, score=0.293 total time=   0.1s\n",
            "[CV 2/5] END ....max_depth=200, n_estimators=50;, score=0.458 total time=   0.1s\n",
            "[CV 3/5] END ....max_depth=200, n_estimators=50;, score=0.225 total time=   0.1s\n",
            "[CV 4/5] END ....max_depth=200, n_estimators=50;, score=0.662 total time=   0.1s\n",
            "[CV 5/5] END ....max_depth=200, n_estimators=50;, score=0.400 total time=   0.1s\n",
            "[CV 1/5] END ...max_depth=150, n_estimators=100;, score=0.306 total time=   0.2s\n",
            "[CV 2/5] END ...max_depth=150, n_estimators=100;, score=0.499 total time=   0.2s\n",
            "[CV 3/5] END ...max_depth=150, n_estimators=100;, score=0.201 total time=   0.2s\n",
            "[CV 4/5] END ...max_depth=150, n_estimators=100;, score=0.549 total time=   0.2s\n",
            "[CV 5/5] END ...max_depth=150, n_estimators=100;, score=0.341 total time=   0.2s\n",
            "[CV 1/5] END ....max_depth=50, n_estimators=100;, score=0.312 total time=   0.2s\n",
            "[CV 2/5] END ....max_depth=50, n_estimators=100;, score=0.483 total time=   0.2s\n",
            "[CV 3/5] END ....max_depth=50, n_estimators=100;, score=0.242 total time=   0.2s\n",
            "[CV 4/5] END ....max_depth=50, n_estimators=100;, score=0.629 total time=   0.2s\n",
            "[CV 5/5] END ....max_depth=50, n_estimators=100;, score=0.359 total time=   0.2s\n",
            "[CV 1/5] END ...max_depth=100, n_estimators=200;, score=0.300 total time=   0.4s\n",
            "[CV 2/5] END ...max_depth=100, n_estimators=200;, score=0.489 total time=   0.4s\n",
            "[CV 3/5] END ...max_depth=100, n_estimators=200;, score=0.219 total time=   0.5s\n",
            "[CV 4/5] END ...max_depth=100, n_estimators=200;, score=0.565 total time=   0.4s\n",
            "[CV 5/5] END ...max_depth=100, n_estimators=200;, score=0.346 total time=   0.4s\n",
            "[CV 1/5] END ...max_depth=200, n_estimators=100;, score=0.310 total time=   0.2s\n",
            "[CV 2/5] END ...max_depth=200, n_estimators=100;, score=0.488 total time=   0.2s\n",
            "[CV 3/5] END ...max_depth=200, n_estimators=100;, score=0.251 total time=   0.2s\n",
            "[CV 4/5] END ...max_depth=200, n_estimators=100;, score=0.623 total time=   0.2s\n",
            "[CV 5/5] END ...max_depth=200, n_estimators=100;, score=0.382 total time=   0.2s\n",
            "[CV 1/5] END ......max_depth=1, n_estimators=50;, score=0.242 total time=   0.1s\n",
            "[CV 2/5] END ......max_depth=1, n_estimators=50;, score=0.261 total time=   0.1s\n",
            "[CV 3/5] END ......max_depth=1, n_estimators=50;, score=0.408 total time=   0.1s\n",
            "[CV 4/5] END ......max_depth=1, n_estimators=50;, score=0.463 total time=   0.1s\n",
            "[CV 5/5] END ......max_depth=1, n_estimators=50;, score=0.384 total time=   0.1s\n",
            "[CV 1/5] END .....max_depth=1, n_estimators=200;, score=0.227 total time=   0.4s\n",
            "[CV 2/5] END .....max_depth=1, n_estimators=200;, score=0.241 total time=   0.4s\n",
            "[CV 3/5] END .....max_depth=1, n_estimators=200;, score=0.409 total time=   0.4s\n",
            "[CV 4/5] END .....max_depth=1, n_estimators=200;, score=0.467 total time=   0.4s\n",
            "[CV 5/5] END .....max_depth=1, n_estimators=200;, score=0.397 total time=   0.4s\n"
          ]
        },
        {
          "data": {
            "text/html": [
              "<style>#sk-container-id-3 {color: black;background-color: white;}#sk-container-id-3 pre{padding: 0;}#sk-container-id-3 div.sk-toggleable {background-color: white;}#sk-container-id-3 label.sk-toggleable__label {cursor: pointer;display: block;width: 100%;margin-bottom: 0;padding: 0.3em;box-sizing: border-box;text-align: center;}#sk-container-id-3 label.sk-toggleable__label-arrow:before {content: \"▸\";float: left;margin-right: 0.25em;color: #696969;}#sk-container-id-3 label.sk-toggleable__label-arrow:hover:before {color: black;}#sk-container-id-3 div.sk-estimator:hover label.sk-toggleable__label-arrow:before {color: black;}#sk-container-id-3 div.sk-toggleable__content {max-height: 0;max-width: 0;overflow: hidden;text-align: left;background-color: #f0f8ff;}#sk-container-id-3 div.sk-toggleable__content pre {margin: 0.2em;color: black;border-radius: 0.25em;background-color: #f0f8ff;}#sk-container-id-3 input.sk-toggleable__control:checked~div.sk-toggleable__content {max-height: 200px;max-width: 100%;overflow: auto;}#sk-container-id-3 input.sk-toggleable__control:checked~label.sk-toggleable__label-arrow:before {content: \"▾\";}#sk-container-id-3 div.sk-estimator input.sk-toggleable__control:checked~label.sk-toggleable__label {background-color: #d4ebff;}#sk-container-id-3 div.sk-label input.sk-toggleable__control:checked~label.sk-toggleable__label {background-color: #d4ebff;}#sk-container-id-3 input.sk-hidden--visually {border: 0;clip: rect(1px 1px 1px 1px);clip: rect(1px, 1px, 1px, 1px);height: 1px;margin: -1px;overflow: hidden;padding: 0;position: absolute;width: 1px;}#sk-container-id-3 div.sk-estimator {font-family: monospace;background-color: #f0f8ff;border: 1px dotted black;border-radius: 0.25em;box-sizing: border-box;margin-bottom: 0.5em;}#sk-container-id-3 div.sk-estimator:hover {background-color: #d4ebff;}#sk-container-id-3 div.sk-parallel-item::after {content: \"\";width: 100%;border-bottom: 1px solid gray;flex-grow: 1;}#sk-container-id-3 div.sk-label:hover label.sk-toggleable__label {background-color: #d4ebff;}#sk-container-id-3 div.sk-serial::before {content: \"\";position: absolute;border-left: 1px solid gray;box-sizing: border-box;top: 0;bottom: 0;left: 50%;z-index: 0;}#sk-container-id-3 div.sk-serial {display: flex;flex-direction: column;align-items: center;background-color: white;padding-right: 0.2em;padding-left: 0.2em;position: relative;}#sk-container-id-3 div.sk-item {position: relative;z-index: 1;}#sk-container-id-3 div.sk-parallel {display: flex;align-items: stretch;justify-content: center;background-color: white;position: relative;}#sk-container-id-3 div.sk-item::before, #sk-container-id-3 div.sk-parallel-item::before {content: \"\";position: absolute;border-left: 1px solid gray;box-sizing: border-box;top: 0;bottom: 0;left: 50%;z-index: -1;}#sk-container-id-3 div.sk-parallel-item {display: flex;flex-direction: column;z-index: 1;position: relative;background-color: white;}#sk-container-id-3 div.sk-parallel-item:first-child::after {align-self: flex-end;width: 50%;}#sk-container-id-3 div.sk-parallel-item:last-child::after {align-self: flex-start;width: 50%;}#sk-container-id-3 div.sk-parallel-item:only-child::after {width: 0;}#sk-container-id-3 div.sk-dashed-wrapped {border: 1px dashed gray;margin: 0 0.4em 0.5em 0.4em;box-sizing: border-box;padding-bottom: 0.4em;background-color: white;}#sk-container-id-3 div.sk-label label {font-family: monospace;font-weight: bold;display: inline-block;line-height: 1.2em;}#sk-container-id-3 div.sk-label-container {text-align: center;}#sk-container-id-3 div.sk-container {/* jupyter's `normalize.less` sets `[hidden] { display: none; }` but bootstrap.min.css set `[hidden] { display: none !important; }` so we also need the `!important` here to be able to override the default hidden behavior on the sphinx rendered scikit-learn.org. See: https://github.com/scikit-learn/scikit-learn/issues/21755 */display: inline-block !important;position: relative;}#sk-container-id-3 div.sk-text-repr-fallback {display: none;}</style><div id=\"sk-container-id-3\" class=\"sk-top-container\"><div class=\"sk-text-repr-fallback\"><pre>RandomizedSearchCV(cv=5, estimator=RandomForestRegressor(oob_score=True),\n",
              "                   param_distributions={&#x27;max_depth&#x27;: [1, 50, 100, 150, 200],\n",
              "                                        &#x27;n_estimators&#x27;: [50, 100, 200]},\n",
              "                   scoring=&#x27;r2&#x27;, verbose=3)</pre><b>In a Jupyter environment, please rerun this cell to show the HTML representation or trust the notebook. <br />On GitHub, the HTML representation is unable to render, please try loading this page with nbviewer.org.</b></div><div class=\"sk-container\" hidden><div class=\"sk-item sk-dashed-wrapped\"><div class=\"sk-label-container\"><div class=\"sk-label sk-toggleable\"><input class=\"sk-toggleable__control sk-hidden--visually\" id=\"sk-estimator-id-5\" type=\"checkbox\" ><label for=\"sk-estimator-id-5\" class=\"sk-toggleable__label sk-toggleable__label-arrow\">RandomizedSearchCV</label><div class=\"sk-toggleable__content\"><pre>RandomizedSearchCV(cv=5, estimator=RandomForestRegressor(oob_score=True),\n",
              "                   param_distributions={&#x27;max_depth&#x27;: [1, 50, 100, 150, 200],\n",
              "                                        &#x27;n_estimators&#x27;: [50, 100, 200]},\n",
              "                   scoring=&#x27;r2&#x27;, verbose=3)</pre></div></div></div><div class=\"sk-parallel\"><div class=\"sk-parallel-item\"><div class=\"sk-item\"><div class=\"sk-label-container\"><div class=\"sk-label sk-toggleable\"><input class=\"sk-toggleable__control sk-hidden--visually\" id=\"sk-estimator-id-6\" type=\"checkbox\" ><label for=\"sk-estimator-id-6\" class=\"sk-toggleable__label sk-toggleable__label-arrow\">estimator: RandomForestRegressor</label><div class=\"sk-toggleable__content\"><pre>RandomForestRegressor(oob_score=True)</pre></div></div></div><div class=\"sk-serial\"><div class=\"sk-item\"><div class=\"sk-estimator sk-toggleable\"><input class=\"sk-toggleable__control sk-hidden--visually\" id=\"sk-estimator-id-7\" type=\"checkbox\" ><label for=\"sk-estimator-id-7\" class=\"sk-toggleable__label sk-toggleable__label-arrow\">RandomForestRegressor</label><div class=\"sk-toggleable__content\"><pre>RandomForestRegressor(oob_score=True)</pre></div></div></div></div></div></div></div></div></div></div>"
            ],
            "text/plain": [
              "RandomizedSearchCV(cv=5, estimator=RandomForestRegressor(oob_score=True),\n",
              "                   param_distributions={'max_depth': [1, 50, 100, 150, 200],\n",
              "                                        'n_estimators': [50, 100, 200]},\n",
              "                   scoring='r2', verbose=3)"
            ]
          },
          "execution_count": 32,
          "metadata": {},
          "output_type": "execute_result"
        }
      ],
      "source": [
        "reg.fit(X_train, y_train)"
      ]
    },
    {
      "cell_type": "code",
      "execution_count": null,
      "id": "ee1f971a-6241-4e83-bc60-de87d4a2d59c",
      "metadata": {
        "id": "ee1f971a-6241-4e83-bc60-de87d4a2d59c",
        "outputId": "e37caea0-fe8f-421e-d468-8c801b082036"
      },
      "outputs": [
        {
          "data": {
            "text/plain": [
              "{'n_estimators': 100, 'max_depth': 200}"
            ]
          },
          "execution_count": 33,
          "metadata": {},
          "output_type": "execute_result"
        }
      ],
      "source": [
        "reg.best_params_"
      ]
    },
    {
      "cell_type": "code",
      "execution_count": null,
      "id": "f1b0a76c-af69-478f-bbb4-546fee60e3a2",
      "metadata": {
        "id": "f1b0a76c-af69-478f-bbb4-546fee60e3a2",
        "outputId": "dabca454-01df-476e-c6bf-b6bd8b4195b5"
      },
      "outputs": [
        {
          "data": {
            "text/plain": [
              "0.4106241440107194"
            ]
          },
          "execution_count": 34,
          "metadata": {},
          "output_type": "execute_result"
        }
      ],
      "source": [
        "reg.best_score_"
      ]
    },
    {
      "cell_type": "markdown",
      "source": [
        "# Random Forest Classifer"
      ],
      "metadata": {
        "id": "51u1wJRsPvSO"
      },
      "id": "51u1wJRsPvSO"
    },
    {
      "cell_type": "code",
      "execution_count": null,
      "metadata": {
        "id": "92128de0-ce48-441c-addc-660bd2fdef83"
      },
      "outputs": [],
      "source": [
        "import pandas as pd\n",
        "import numpy as np\n",
        "import matplotlib.pyplot as plt\n",
        "import seaborn as sns\n",
        "\n",
        "import warnings\n",
        "warnings.filterwarnings(\"ignore\")"
      ],
      "id": "92128de0-ce48-441c-addc-660bd2fdef83"
    },
    {
      "cell_type": "code",
      "execution_count": null,
      "metadata": {
        "id": "2bfec1d9-2e3d-44d1-bda3-d6de666ddb46",
        "outputId": "2a9acc67-657f-4258-e1d9-6e5ca553a66b"
      },
      "outputs": [
        {
          "data": {
            "text/html": [
              "<div>\n",
              "<style scoped>\n",
              "    .dataframe tbody tr th:only-of-type {\n",
              "        vertical-align: middle;\n",
              "    }\n",
              "\n",
              "    .dataframe tbody tr th {\n",
              "        vertical-align: top;\n",
              "    }\n",
              "\n",
              "    .dataframe thead th {\n",
              "        text-align: right;\n",
              "    }\n",
              "</style>\n",
              "<table border=\"1\" class=\"dataframe\">\n",
              "  <thead>\n",
              "    <tr style=\"text-align: right;\">\n",
              "      <th></th>\n",
              "      <th>total_bill</th>\n",
              "      <th>tip</th>\n",
              "      <th>sex</th>\n",
              "      <th>smoker</th>\n",
              "      <th>day</th>\n",
              "      <th>time</th>\n",
              "      <th>size</th>\n",
              "    </tr>\n",
              "  </thead>\n",
              "  <tbody>\n",
              "    <tr>\n",
              "      <th>0</th>\n",
              "      <td>16.99</td>\n",
              "      <td>1.01</td>\n",
              "      <td>Female</td>\n",
              "      <td>No</td>\n",
              "      <td>Sun</td>\n",
              "      <td>Dinner</td>\n",
              "      <td>2</td>\n",
              "    </tr>\n",
              "    <tr>\n",
              "      <th>1</th>\n",
              "      <td>10.34</td>\n",
              "      <td>1.66</td>\n",
              "      <td>Male</td>\n",
              "      <td>No</td>\n",
              "      <td>Sun</td>\n",
              "      <td>Dinner</td>\n",
              "      <td>3</td>\n",
              "    </tr>\n",
              "    <tr>\n",
              "      <th>2</th>\n",
              "      <td>21.01</td>\n",
              "      <td>3.50</td>\n",
              "      <td>Male</td>\n",
              "      <td>No</td>\n",
              "      <td>Sun</td>\n",
              "      <td>Dinner</td>\n",
              "      <td>3</td>\n",
              "    </tr>\n",
              "    <tr>\n",
              "      <th>3</th>\n",
              "      <td>23.68</td>\n",
              "      <td>3.31</td>\n",
              "      <td>Male</td>\n",
              "      <td>No</td>\n",
              "      <td>Sun</td>\n",
              "      <td>Dinner</td>\n",
              "      <td>2</td>\n",
              "    </tr>\n",
              "    <tr>\n",
              "      <th>4</th>\n",
              "      <td>24.59</td>\n",
              "      <td>3.61</td>\n",
              "      <td>Female</td>\n",
              "      <td>No</td>\n",
              "      <td>Sun</td>\n",
              "      <td>Dinner</td>\n",
              "      <td>4</td>\n",
              "    </tr>\n",
              "    <tr>\n",
              "      <th>...</th>\n",
              "      <td>...</td>\n",
              "      <td>...</td>\n",
              "      <td>...</td>\n",
              "      <td>...</td>\n",
              "      <td>...</td>\n",
              "      <td>...</td>\n",
              "      <td>...</td>\n",
              "    </tr>\n",
              "    <tr>\n",
              "      <th>239</th>\n",
              "      <td>29.03</td>\n",
              "      <td>5.92</td>\n",
              "      <td>Male</td>\n",
              "      <td>No</td>\n",
              "      <td>Sat</td>\n",
              "      <td>Dinner</td>\n",
              "      <td>3</td>\n",
              "    </tr>\n",
              "    <tr>\n",
              "      <th>240</th>\n",
              "      <td>27.18</td>\n",
              "      <td>2.00</td>\n",
              "      <td>Female</td>\n",
              "      <td>Yes</td>\n",
              "      <td>Sat</td>\n",
              "      <td>Dinner</td>\n",
              "      <td>2</td>\n",
              "    </tr>\n",
              "    <tr>\n",
              "      <th>241</th>\n",
              "      <td>22.67</td>\n",
              "      <td>2.00</td>\n",
              "      <td>Male</td>\n",
              "      <td>Yes</td>\n",
              "      <td>Sat</td>\n",
              "      <td>Dinner</td>\n",
              "      <td>2</td>\n",
              "    </tr>\n",
              "    <tr>\n",
              "      <th>242</th>\n",
              "      <td>17.82</td>\n",
              "      <td>1.75</td>\n",
              "      <td>Male</td>\n",
              "      <td>No</td>\n",
              "      <td>Sat</td>\n",
              "      <td>Dinner</td>\n",
              "      <td>2</td>\n",
              "    </tr>\n",
              "    <tr>\n",
              "      <th>243</th>\n",
              "      <td>18.78</td>\n",
              "      <td>3.00</td>\n",
              "      <td>Female</td>\n",
              "      <td>No</td>\n",
              "      <td>Thur</td>\n",
              "      <td>Dinner</td>\n",
              "      <td>2</td>\n",
              "    </tr>\n",
              "  </tbody>\n",
              "</table>\n",
              "<p>244 rows × 7 columns</p>\n",
              "</div>"
            ],
            "text/plain": [
              "     total_bill   tip     sex smoker   day    time  size\n",
              "0         16.99  1.01  Female     No   Sun  Dinner     2\n",
              "1         10.34  1.66    Male     No   Sun  Dinner     3\n",
              "2         21.01  3.50    Male     No   Sun  Dinner     3\n",
              "3         23.68  3.31    Male     No   Sun  Dinner     2\n",
              "4         24.59  3.61  Female     No   Sun  Dinner     4\n",
              "..          ...   ...     ...    ...   ...     ...   ...\n",
              "239       29.03  5.92    Male     No   Sat  Dinner     3\n",
              "240       27.18  2.00  Female    Yes   Sat  Dinner     2\n",
              "241       22.67  2.00    Male    Yes   Sat  Dinner     2\n",
              "242       17.82  1.75    Male     No   Sat  Dinner     2\n",
              "243       18.78  3.00  Female     No  Thur  Dinner     2\n",
              "\n",
              "[244 rows x 7 columns]"
            ]
          },
          "execution_count": 2,
          "metadata": {},
          "output_type": "execute_result"
        }
      ],
      "source": [
        "df = sns.load_dataset(\"tips\")\n",
        "df"
      ],
      "id": "2bfec1d9-2e3d-44d1-bda3-d6de666ddb46"
    },
    {
      "cell_type": "code",
      "execution_count": null,
      "metadata": {
        "id": "27ce5ff0-1e41-41ed-8847-2fd91e442ec4",
        "outputId": "f232b37b-8328-45e5-d397-ee8faeb5b250"
      },
      "outputs": [
        {
          "data": {
            "text/plain": [
              "['Dinner', 'Lunch']\n",
              "Categories (2, object): ['Lunch', 'Dinner']"
            ]
          },
          "execution_count": 3,
          "metadata": {},
          "output_type": "execute_result"
        }
      ],
      "source": [
        "df.time.unique()"
      ],
      "id": "27ce5ff0-1e41-41ed-8847-2fd91e442ec4"
    },
    {
      "cell_type": "code",
      "execution_count": null,
      "metadata": {
        "id": "e4984127-6579-413e-8f34-b2dde5303fbc"
      },
      "outputs": [],
      "source": [
        "#EDA\n",
        "#ENCODING, SCALING, MISSING"
      ],
      "id": "e4984127-6579-413e-8f34-b2dde5303fbc"
    },
    {
      "cell_type": "code",
      "execution_count": null,
      "metadata": {
        "id": "285311cf-38db-4a37-a7d0-8c50beedea94",
        "outputId": "1e9a7769-5e8d-408f-d934-b093625723bf"
      },
      "outputs": [
        {
          "data": {
            "text/html": [
              "<div>\n",
              "<style scoped>\n",
              "    .dataframe tbody tr th:only-of-type {\n",
              "        vertical-align: middle;\n",
              "    }\n",
              "\n",
              "    .dataframe tbody tr th {\n",
              "        vertical-align: top;\n",
              "    }\n",
              "\n",
              "    .dataframe thead th {\n",
              "        text-align: right;\n",
              "    }\n",
              "</style>\n",
              "<table border=\"1\" class=\"dataframe\">\n",
              "  <thead>\n",
              "    <tr style=\"text-align: right;\">\n",
              "      <th></th>\n",
              "      <th>total_bill</th>\n",
              "      <th>tip</th>\n",
              "      <th>sex</th>\n",
              "      <th>smoker</th>\n",
              "      <th>day</th>\n",
              "      <th>time</th>\n",
              "      <th>size</th>\n",
              "    </tr>\n",
              "  </thead>\n",
              "  <tbody>\n",
              "    <tr>\n",
              "      <th>0</th>\n",
              "      <td>16.99</td>\n",
              "      <td>1.01</td>\n",
              "      <td>Female</td>\n",
              "      <td>No</td>\n",
              "      <td>Sun</td>\n",
              "      <td>0</td>\n",
              "      <td>2</td>\n",
              "    </tr>\n",
              "    <tr>\n",
              "      <th>1</th>\n",
              "      <td>10.34</td>\n",
              "      <td>1.66</td>\n",
              "      <td>Male</td>\n",
              "      <td>No</td>\n",
              "      <td>Sun</td>\n",
              "      <td>0</td>\n",
              "      <td>3</td>\n",
              "    </tr>\n",
              "    <tr>\n",
              "      <th>2</th>\n",
              "      <td>21.01</td>\n",
              "      <td>3.50</td>\n",
              "      <td>Male</td>\n",
              "      <td>No</td>\n",
              "      <td>Sun</td>\n",
              "      <td>0</td>\n",
              "      <td>3</td>\n",
              "    </tr>\n",
              "    <tr>\n",
              "      <th>3</th>\n",
              "      <td>23.68</td>\n",
              "      <td>3.31</td>\n",
              "      <td>Male</td>\n",
              "      <td>No</td>\n",
              "      <td>Sun</td>\n",
              "      <td>0</td>\n",
              "      <td>2</td>\n",
              "    </tr>\n",
              "    <tr>\n",
              "      <th>4</th>\n",
              "      <td>24.59</td>\n",
              "      <td>3.61</td>\n",
              "      <td>Female</td>\n",
              "      <td>No</td>\n",
              "      <td>Sun</td>\n",
              "      <td>0</td>\n",
              "      <td>4</td>\n",
              "    </tr>\n",
              "    <tr>\n",
              "      <th>...</th>\n",
              "      <td>...</td>\n",
              "      <td>...</td>\n",
              "      <td>...</td>\n",
              "      <td>...</td>\n",
              "      <td>...</td>\n",
              "      <td>...</td>\n",
              "      <td>...</td>\n",
              "    </tr>\n",
              "    <tr>\n",
              "      <th>239</th>\n",
              "      <td>29.03</td>\n",
              "      <td>5.92</td>\n",
              "      <td>Male</td>\n",
              "      <td>No</td>\n",
              "      <td>Sat</td>\n",
              "      <td>0</td>\n",
              "      <td>3</td>\n",
              "    </tr>\n",
              "    <tr>\n",
              "      <th>240</th>\n",
              "      <td>27.18</td>\n",
              "      <td>2.00</td>\n",
              "      <td>Female</td>\n",
              "      <td>Yes</td>\n",
              "      <td>Sat</td>\n",
              "      <td>0</td>\n",
              "      <td>2</td>\n",
              "    </tr>\n",
              "    <tr>\n",
              "      <th>241</th>\n",
              "      <td>22.67</td>\n",
              "      <td>2.00</td>\n",
              "      <td>Male</td>\n",
              "      <td>Yes</td>\n",
              "      <td>Sat</td>\n",
              "      <td>0</td>\n",
              "      <td>2</td>\n",
              "    </tr>\n",
              "    <tr>\n",
              "      <th>242</th>\n",
              "      <td>17.82</td>\n",
              "      <td>1.75</td>\n",
              "      <td>Male</td>\n",
              "      <td>No</td>\n",
              "      <td>Sat</td>\n",
              "      <td>0</td>\n",
              "      <td>2</td>\n",
              "    </tr>\n",
              "    <tr>\n",
              "      <th>243</th>\n",
              "      <td>18.78</td>\n",
              "      <td>3.00</td>\n",
              "      <td>Female</td>\n",
              "      <td>No</td>\n",
              "      <td>Thur</td>\n",
              "      <td>0</td>\n",
              "      <td>2</td>\n",
              "    </tr>\n",
              "  </tbody>\n",
              "</table>\n",
              "<p>244 rows × 7 columns</p>\n",
              "</div>"
            ],
            "text/plain": [
              "     total_bill   tip     sex smoker   day  time  size\n",
              "0         16.99  1.01  Female     No   Sun     0     2\n",
              "1         10.34  1.66    Male     No   Sun     0     3\n",
              "2         21.01  3.50    Male     No   Sun     0     3\n",
              "3         23.68  3.31    Male     No   Sun     0     2\n",
              "4         24.59  3.61  Female     No   Sun     0     4\n",
              "..          ...   ...     ...    ...   ...   ...   ...\n",
              "239       29.03  5.92    Male     No   Sat     0     3\n",
              "240       27.18  2.00  Female    Yes   Sat     0     2\n",
              "241       22.67  2.00    Male    Yes   Sat     0     2\n",
              "242       17.82  1.75    Male     No   Sat     0     2\n",
              "243       18.78  3.00  Female     No  Thur     0     2\n",
              "\n",
              "[244 rows x 7 columns]"
            ]
          },
          "execution_count": 5,
          "metadata": {},
          "output_type": "execute_result"
        }
      ],
      "source": [
        "from sklearn.preprocessing import LabelEncoder\n",
        "encoder = LabelEncoder()\n",
        "df['time'] = encoder.fit_transform(df[\"time\"])\n",
        "df"
      ],
      "id": "285311cf-38db-4a37-a7d0-8c50beedea94"
    },
    {
      "cell_type": "code",
      "execution_count": null,
      "metadata": {
        "id": "12322469-9255-4f32-98f6-3118e66390bc"
      },
      "outputs": [],
      "source": [
        "#aim>>to predict time"
      ],
      "id": "12322469-9255-4f32-98f6-3118e66390bc"
    },
    {
      "cell_type": "code",
      "execution_count": null,
      "metadata": {
        "id": "fe9698fd-f1be-4ab1-87e0-1afc7f904fa2",
        "outputId": "3c343d85-0d63-4898-b7f5-abd51c438fb3"
      },
      "outputs": [
        {
          "data": {
            "text/plain": [
              "array([0, 1])"
            ]
          },
          "execution_count": 7,
          "metadata": {},
          "output_type": "execute_result"
        }
      ],
      "source": [
        "df.time.unique()#dinner>0, lunch>1"
      ],
      "id": "fe9698fd-f1be-4ab1-87e0-1afc7f904fa2"
    },
    {
      "cell_type": "code",
      "execution_count": null,
      "metadata": {
        "id": "66d36426-3b89-44a0-b389-44e54b368311"
      },
      "outputs": [],
      "source": [
        "X = df.drop('time', axis =1)\n",
        "y = df['time']"
      ],
      "id": "66d36426-3b89-44a0-b389-44e54b368311"
    },
    {
      "cell_type": "code",
      "execution_count": null,
      "metadata": {
        "id": "7cb51bdd-ca5b-4718-85b6-1b6687ac7118",
        "outputId": "ab5026d0-2692-48f2-862a-c9c68483bd8d"
      },
      "outputs": [
        {
          "data": {
            "text/html": [
              "<div>\n",
              "<style scoped>\n",
              "    .dataframe tbody tr th:only-of-type {\n",
              "        vertical-align: middle;\n",
              "    }\n",
              "\n",
              "    .dataframe tbody tr th {\n",
              "        vertical-align: top;\n",
              "    }\n",
              "\n",
              "    .dataframe thead th {\n",
              "        text-align: right;\n",
              "    }\n",
              "</style>\n",
              "<table border=\"1\" class=\"dataframe\">\n",
              "  <thead>\n",
              "    <tr style=\"text-align: right;\">\n",
              "      <th></th>\n",
              "      <th>total_bill</th>\n",
              "      <th>tip</th>\n",
              "      <th>sex</th>\n",
              "      <th>smoker</th>\n",
              "      <th>day</th>\n",
              "      <th>size</th>\n",
              "    </tr>\n",
              "  </thead>\n",
              "  <tbody>\n",
              "    <tr>\n",
              "      <th>0</th>\n",
              "      <td>16.99</td>\n",
              "      <td>1.01</td>\n",
              "      <td>Female</td>\n",
              "      <td>No</td>\n",
              "      <td>Sun</td>\n",
              "      <td>2</td>\n",
              "    </tr>\n",
              "    <tr>\n",
              "      <th>1</th>\n",
              "      <td>10.34</td>\n",
              "      <td>1.66</td>\n",
              "      <td>Male</td>\n",
              "      <td>No</td>\n",
              "      <td>Sun</td>\n",
              "      <td>3</td>\n",
              "    </tr>\n",
              "    <tr>\n",
              "      <th>2</th>\n",
              "      <td>21.01</td>\n",
              "      <td>3.50</td>\n",
              "      <td>Male</td>\n",
              "      <td>No</td>\n",
              "      <td>Sun</td>\n",
              "      <td>3</td>\n",
              "    </tr>\n",
              "    <tr>\n",
              "      <th>3</th>\n",
              "      <td>23.68</td>\n",
              "      <td>3.31</td>\n",
              "      <td>Male</td>\n",
              "      <td>No</td>\n",
              "      <td>Sun</td>\n",
              "      <td>2</td>\n",
              "    </tr>\n",
              "    <tr>\n",
              "      <th>4</th>\n",
              "      <td>24.59</td>\n",
              "      <td>3.61</td>\n",
              "      <td>Female</td>\n",
              "      <td>No</td>\n",
              "      <td>Sun</td>\n",
              "      <td>4</td>\n",
              "    </tr>\n",
              "    <tr>\n",
              "      <th>...</th>\n",
              "      <td>...</td>\n",
              "      <td>...</td>\n",
              "      <td>...</td>\n",
              "      <td>...</td>\n",
              "      <td>...</td>\n",
              "      <td>...</td>\n",
              "    </tr>\n",
              "    <tr>\n",
              "      <th>239</th>\n",
              "      <td>29.03</td>\n",
              "      <td>5.92</td>\n",
              "      <td>Male</td>\n",
              "      <td>No</td>\n",
              "      <td>Sat</td>\n",
              "      <td>3</td>\n",
              "    </tr>\n",
              "    <tr>\n",
              "      <th>240</th>\n",
              "      <td>27.18</td>\n",
              "      <td>2.00</td>\n",
              "      <td>Female</td>\n",
              "      <td>Yes</td>\n",
              "      <td>Sat</td>\n",
              "      <td>2</td>\n",
              "    </tr>\n",
              "    <tr>\n",
              "      <th>241</th>\n",
              "      <td>22.67</td>\n",
              "      <td>2.00</td>\n",
              "      <td>Male</td>\n",
              "      <td>Yes</td>\n",
              "      <td>Sat</td>\n",
              "      <td>2</td>\n",
              "    </tr>\n",
              "    <tr>\n",
              "      <th>242</th>\n",
              "      <td>17.82</td>\n",
              "      <td>1.75</td>\n",
              "      <td>Male</td>\n",
              "      <td>No</td>\n",
              "      <td>Sat</td>\n",
              "      <td>2</td>\n",
              "    </tr>\n",
              "    <tr>\n",
              "      <th>243</th>\n",
              "      <td>18.78</td>\n",
              "      <td>3.00</td>\n",
              "      <td>Female</td>\n",
              "      <td>No</td>\n",
              "      <td>Thur</td>\n",
              "      <td>2</td>\n",
              "    </tr>\n",
              "  </tbody>\n",
              "</table>\n",
              "<p>244 rows × 6 columns</p>\n",
              "</div>"
            ],
            "text/plain": [
              "     total_bill   tip     sex smoker   day  size\n",
              "0         16.99  1.01  Female     No   Sun     2\n",
              "1         10.34  1.66    Male     No   Sun     3\n",
              "2         21.01  3.50    Male     No   Sun     3\n",
              "3         23.68  3.31    Male     No   Sun     2\n",
              "4         24.59  3.61  Female     No   Sun     4\n",
              "..          ...   ...     ...    ...   ...   ...\n",
              "239       29.03  5.92    Male     No   Sat     3\n",
              "240       27.18  2.00  Female    Yes   Sat     2\n",
              "241       22.67  2.00    Male    Yes   Sat     2\n",
              "242       17.82  1.75    Male     No   Sat     2\n",
              "243       18.78  3.00  Female     No  Thur     2\n",
              "\n",
              "[244 rows x 6 columns]"
            ]
          },
          "execution_count": 9,
          "metadata": {},
          "output_type": "execute_result"
        }
      ],
      "source": [
        "X"
      ],
      "id": "7cb51bdd-ca5b-4718-85b6-1b6687ac7118"
    },
    {
      "cell_type": "code",
      "execution_count": null,
      "metadata": {
        "id": "1f5169b7-bb3e-414d-b7b9-52155eb03b3f",
        "outputId": "fb713f0b-3d2d-480e-8646-6665a43d70e2"
      },
      "outputs": [
        {
          "data": {
            "text/plain": [
              "0      0\n",
              "1      0\n",
              "2      0\n",
              "3      0\n",
              "4      0\n",
              "      ..\n",
              "239    0\n",
              "240    0\n",
              "241    0\n",
              "242    0\n",
              "243    0\n",
              "Name: time, Length: 244, dtype: int64"
            ]
          },
          "execution_count": 10,
          "metadata": {},
          "output_type": "execute_result"
        }
      ],
      "source": [
        "y"
      ],
      "id": "1f5169b7-bb3e-414d-b7b9-52155eb03b3f"
    },
    {
      "cell_type": "code",
      "execution_count": null,
      "metadata": {
        "id": "6a013b66-4608-4174-bf18-0fa91e30695c"
      },
      "outputs": [],
      "source": [
        "from sklearn.model_selection import train_test_split\n",
        "X_train, X_test, y_train, y_test = train_test_split(X, y, test_size=0.20, random_state=1)"
      ],
      "id": "6a013b66-4608-4174-bf18-0fa91e30695c"
    },
    {
      "cell_type": "code",
      "execution_count": null,
      "metadata": {
        "id": "812e1bdc-5fef-427d-90c4-4151f8fbd85d",
        "outputId": "50737a66-65b3-4a01-e5ba-531b70738b77"
      },
      "outputs": [
        {
          "data": {
            "text/html": [
              "<div>\n",
              "<style scoped>\n",
              "    .dataframe tbody tr th:only-of-type {\n",
              "        vertical-align: middle;\n",
              "    }\n",
              "\n",
              "    .dataframe tbody tr th {\n",
              "        vertical-align: top;\n",
              "    }\n",
              "\n",
              "    .dataframe thead th {\n",
              "        text-align: right;\n",
              "    }\n",
              "</style>\n",
              "<table border=\"1\" class=\"dataframe\">\n",
              "  <thead>\n",
              "    <tr style=\"text-align: right;\">\n",
              "      <th></th>\n",
              "      <th>total_bill</th>\n",
              "      <th>tip</th>\n",
              "      <th>sex</th>\n",
              "      <th>smoker</th>\n",
              "      <th>day</th>\n",
              "      <th>size</th>\n",
              "    </tr>\n",
              "  </thead>\n",
              "  <tbody>\n",
              "    <tr>\n",
              "      <th>0</th>\n",
              "      <td>16.99</td>\n",
              "      <td>1.01</td>\n",
              "      <td>Female</td>\n",
              "      <td>No</td>\n",
              "      <td>Sun</td>\n",
              "      <td>2</td>\n",
              "    </tr>\n",
              "    <tr>\n",
              "      <th>154</th>\n",
              "      <td>19.77</td>\n",
              "      <td>2.00</td>\n",
              "      <td>Male</td>\n",
              "      <td>No</td>\n",
              "      <td>Sun</td>\n",
              "      <td>4</td>\n",
              "    </tr>\n",
              "    <tr>\n",
              "      <th>167</th>\n",
              "      <td>31.71</td>\n",
              "      <td>4.50</td>\n",
              "      <td>Male</td>\n",
              "      <td>No</td>\n",
              "      <td>Sun</td>\n",
              "      <td>4</td>\n",
              "    </tr>\n",
              "    <tr>\n",
              "      <th>110</th>\n",
              "      <td>14.00</td>\n",
              "      <td>3.00</td>\n",
              "      <td>Male</td>\n",
              "      <td>No</td>\n",
              "      <td>Sat</td>\n",
              "      <td>2</td>\n",
              "    </tr>\n",
              "    <tr>\n",
              "      <th>225</th>\n",
              "      <td>16.27</td>\n",
              "      <td>2.50</td>\n",
              "      <td>Female</td>\n",
              "      <td>Yes</td>\n",
              "      <td>Fri</td>\n",
              "      <td>2</td>\n",
              "    </tr>\n",
              "    <tr>\n",
              "      <th>...</th>\n",
              "      <td>...</td>\n",
              "      <td>...</td>\n",
              "      <td>...</td>\n",
              "      <td>...</td>\n",
              "      <td>...</td>\n",
              "      <td>...</td>\n",
              "    </tr>\n",
              "    <tr>\n",
              "      <th>137</th>\n",
              "      <td>14.15</td>\n",
              "      <td>2.00</td>\n",
              "      <td>Female</td>\n",
              "      <td>No</td>\n",
              "      <td>Thur</td>\n",
              "      <td>2</td>\n",
              "    </tr>\n",
              "    <tr>\n",
              "      <th>72</th>\n",
              "      <td>26.86</td>\n",
              "      <td>3.14</td>\n",
              "      <td>Female</td>\n",
              "      <td>Yes</td>\n",
              "      <td>Sat</td>\n",
              "      <td>2</td>\n",
              "    </tr>\n",
              "    <tr>\n",
              "      <th>140</th>\n",
              "      <td>17.47</td>\n",
              "      <td>3.50</td>\n",
              "      <td>Female</td>\n",
              "      <td>No</td>\n",
              "      <td>Thur</td>\n",
              "      <td>2</td>\n",
              "    </tr>\n",
              "    <tr>\n",
              "      <th>235</th>\n",
              "      <td>10.07</td>\n",
              "      <td>1.25</td>\n",
              "      <td>Male</td>\n",
              "      <td>No</td>\n",
              "      <td>Sat</td>\n",
              "      <td>2</td>\n",
              "    </tr>\n",
              "    <tr>\n",
              "      <th>37</th>\n",
              "      <td>16.93</td>\n",
              "      <td>3.07</td>\n",
              "      <td>Female</td>\n",
              "      <td>No</td>\n",
              "      <td>Sat</td>\n",
              "      <td>3</td>\n",
              "    </tr>\n",
              "  </tbody>\n",
              "</table>\n",
              "<p>195 rows × 6 columns</p>\n",
              "</div>"
            ],
            "text/plain": [
              "     total_bill   tip     sex smoker   day  size\n",
              "0         16.99  1.01  Female     No   Sun     2\n",
              "154       19.77  2.00    Male     No   Sun     4\n",
              "167       31.71  4.50    Male     No   Sun     4\n",
              "110       14.00  3.00    Male     No   Sat     2\n",
              "225       16.27  2.50  Female    Yes   Fri     2\n",
              "..          ...   ...     ...    ...   ...   ...\n",
              "137       14.15  2.00  Female     No  Thur     2\n",
              "72        26.86  3.14  Female    Yes   Sat     2\n",
              "140       17.47  3.50  Female     No  Thur     2\n",
              "235       10.07  1.25    Male     No   Sat     2\n",
              "37        16.93  3.07  Female     No   Sat     3\n",
              "\n",
              "[195 rows x 6 columns]"
            ]
          },
          "execution_count": 12,
          "metadata": {},
          "output_type": "execute_result"
        }
      ],
      "source": [
        "X_train"
      ],
      "id": "812e1bdc-5fef-427d-90c4-4151f8fbd85d"
    },
    {
      "cell_type": "code",
      "execution_count": null,
      "metadata": {
        "id": "ea1e41a0-3e9f-48ad-b661-8c023cd519a5",
        "outputId": "2e8defac-f9ec-4f28-8c48-423d336d5b89"
      },
      "outputs": [
        {
          "data": {
            "text/html": [
              "<div>\n",
              "<style scoped>\n",
              "    .dataframe tbody tr th:only-of-type {\n",
              "        vertical-align: middle;\n",
              "    }\n",
              "\n",
              "    .dataframe tbody tr th {\n",
              "        vertical-align: top;\n",
              "    }\n",
              "\n",
              "    .dataframe thead th {\n",
              "        text-align: right;\n",
              "    }\n",
              "</style>\n",
              "<table border=\"1\" class=\"dataframe\">\n",
              "  <thead>\n",
              "    <tr style=\"text-align: right;\">\n",
              "      <th></th>\n",
              "      <th>total_bill</th>\n",
              "      <th>tip</th>\n",
              "      <th>sex</th>\n",
              "      <th>smoker</th>\n",
              "      <th>day</th>\n",
              "      <th>size</th>\n",
              "    </tr>\n",
              "  </thead>\n",
              "  <tbody>\n",
              "    <tr>\n",
              "      <th>67</th>\n",
              "      <td>3.07</td>\n",
              "      <td>1.00</td>\n",
              "      <td>Female</td>\n",
              "      <td>Yes</td>\n",
              "      <td>Sat</td>\n",
              "      <td>1</td>\n",
              "    </tr>\n",
              "    <tr>\n",
              "      <th>243</th>\n",
              "      <td>18.78</td>\n",
              "      <td>3.00</td>\n",
              "      <td>Female</td>\n",
              "      <td>No</td>\n",
              "      <td>Thur</td>\n",
              "      <td>2</td>\n",
              "    </tr>\n",
              "    <tr>\n",
              "      <th>206</th>\n",
              "      <td>26.59</td>\n",
              "      <td>3.41</td>\n",
              "      <td>Male</td>\n",
              "      <td>Yes</td>\n",
              "      <td>Sat</td>\n",
              "      <td>3</td>\n",
              "    </tr>\n",
              "    <tr>\n",
              "      <th>122</th>\n",
              "      <td>14.26</td>\n",
              "      <td>2.50</td>\n",
              "      <td>Male</td>\n",
              "      <td>No</td>\n",
              "      <td>Thur</td>\n",
              "      <td>2</td>\n",
              "    </tr>\n",
              "    <tr>\n",
              "      <th>89</th>\n",
              "      <td>21.16</td>\n",
              "      <td>3.00</td>\n",
              "      <td>Male</td>\n",
              "      <td>No</td>\n",
              "      <td>Thur</td>\n",
              "      <td>2</td>\n",
              "    </tr>\n",
              "    <tr>\n",
              "      <th>218</th>\n",
              "      <td>7.74</td>\n",
              "      <td>1.44</td>\n",
              "      <td>Male</td>\n",
              "      <td>Yes</td>\n",
              "      <td>Sat</td>\n",
              "      <td>2</td>\n",
              "    </tr>\n",
              "    <tr>\n",
              "      <th>58</th>\n",
              "      <td>11.24</td>\n",
              "      <td>1.76</td>\n",
              "      <td>Male</td>\n",
              "      <td>Yes</td>\n",
              "      <td>Sat</td>\n",
              "      <td>2</td>\n",
              "    </tr>\n",
              "    <tr>\n",
              "      <th>186</th>\n",
              "      <td>20.90</td>\n",
              "      <td>3.50</td>\n",
              "      <td>Female</td>\n",
              "      <td>Yes</td>\n",
              "      <td>Sun</td>\n",
              "      <td>3</td>\n",
              "    </tr>\n",
              "    <tr>\n",
              "      <th>177</th>\n",
              "      <td>14.48</td>\n",
              "      <td>2.00</td>\n",
              "      <td>Male</td>\n",
              "      <td>Yes</td>\n",
              "      <td>Sun</td>\n",
              "      <td>2</td>\n",
              "    </tr>\n",
              "    <tr>\n",
              "      <th>4</th>\n",
              "      <td>24.59</td>\n",
              "      <td>3.61</td>\n",
              "      <td>Female</td>\n",
              "      <td>No</td>\n",
              "      <td>Sun</td>\n",
              "      <td>4</td>\n",
              "    </tr>\n",
              "    <tr>\n",
              "      <th>220</th>\n",
              "      <td>12.16</td>\n",
              "      <td>2.20</td>\n",
              "      <td>Male</td>\n",
              "      <td>Yes</td>\n",
              "      <td>Fri</td>\n",
              "      <td>2</td>\n",
              "    </tr>\n",
              "    <tr>\n",
              "      <th>226</th>\n",
              "      <td>10.09</td>\n",
              "      <td>2.00</td>\n",
              "      <td>Female</td>\n",
              "      <td>Yes</td>\n",
              "      <td>Fri</td>\n",
              "      <td>2</td>\n",
              "    </tr>\n",
              "    <tr>\n",
              "      <th>116</th>\n",
              "      <td>29.93</td>\n",
              "      <td>5.07</td>\n",
              "      <td>Male</td>\n",
              "      <td>No</td>\n",
              "      <td>Sun</td>\n",
              "      <td>4</td>\n",
              "    </tr>\n",
              "    <tr>\n",
              "      <th>107</th>\n",
              "      <td>25.21</td>\n",
              "      <td>4.29</td>\n",
              "      <td>Male</td>\n",
              "      <td>Yes</td>\n",
              "      <td>Sat</td>\n",
              "      <td>2</td>\n",
              "    </tr>\n",
              "    <tr>\n",
              "      <th>170</th>\n",
              "      <td>50.81</td>\n",
              "      <td>10.00</td>\n",
              "      <td>Male</td>\n",
              "      <td>Yes</td>\n",
              "      <td>Sat</td>\n",
              "      <td>3</td>\n",
              "    </tr>\n",
              "    <tr>\n",
              "      <th>241</th>\n",
              "      <td>22.67</td>\n",
              "      <td>2.00</td>\n",
              "      <td>Male</td>\n",
              "      <td>Yes</td>\n",
              "      <td>Sat</td>\n",
              "      <td>2</td>\n",
              "    </tr>\n",
              "    <tr>\n",
              "      <th>181</th>\n",
              "      <td>23.33</td>\n",
              "      <td>5.65</td>\n",
              "      <td>Male</td>\n",
              "      <td>Yes</td>\n",
              "      <td>Sun</td>\n",
              "      <td>2</td>\n",
              "    </tr>\n",
              "    <tr>\n",
              "      <th>51</th>\n",
              "      <td>10.29</td>\n",
              "      <td>2.60</td>\n",
              "      <td>Female</td>\n",
              "      <td>No</td>\n",
              "      <td>Sun</td>\n",
              "      <td>2</td>\n",
              "    </tr>\n",
              "    <tr>\n",
              "      <th>27</th>\n",
              "      <td>12.69</td>\n",
              "      <td>2.00</td>\n",
              "      <td>Male</td>\n",
              "      <td>No</td>\n",
              "      <td>Sat</td>\n",
              "      <td>2</td>\n",
              "    </tr>\n",
              "    <tr>\n",
              "      <th>240</th>\n",
              "      <td>27.18</td>\n",
              "      <td>2.00</td>\n",
              "      <td>Female</td>\n",
              "      <td>Yes</td>\n",
              "      <td>Sat</td>\n",
              "      <td>2</td>\n",
              "    </tr>\n",
              "    <tr>\n",
              "      <th>219</th>\n",
              "      <td>30.14</td>\n",
              "      <td>3.09</td>\n",
              "      <td>Female</td>\n",
              "      <td>Yes</td>\n",
              "      <td>Sat</td>\n",
              "      <td>4</td>\n",
              "    </tr>\n",
              "    <tr>\n",
              "      <th>34</th>\n",
              "      <td>17.78</td>\n",
              "      <td>3.27</td>\n",
              "      <td>Male</td>\n",
              "      <td>No</td>\n",
              "      <td>Sat</td>\n",
              "      <td>2</td>\n",
              "    </tr>\n",
              "    <tr>\n",
              "      <th>93</th>\n",
              "      <td>16.32</td>\n",
              "      <td>4.30</td>\n",
              "      <td>Female</td>\n",
              "      <td>Yes</td>\n",
              "      <td>Fri</td>\n",
              "      <td>2</td>\n",
              "    </tr>\n",
              "    <tr>\n",
              "      <th>183</th>\n",
              "      <td>23.17</td>\n",
              "      <td>6.50</td>\n",
              "      <td>Male</td>\n",
              "      <td>Yes</td>\n",
              "      <td>Sun</td>\n",
              "      <td>4</td>\n",
              "    </tr>\n",
              "    <tr>\n",
              "      <th>118</th>\n",
              "      <td>12.43</td>\n",
              "      <td>1.80</td>\n",
              "      <td>Female</td>\n",
              "      <td>No</td>\n",
              "      <td>Thur</td>\n",
              "      <td>2</td>\n",
              "    </tr>\n",
              "    <tr>\n",
              "      <th>117</th>\n",
              "      <td>10.65</td>\n",
              "      <td>1.50</td>\n",
              "      <td>Female</td>\n",
              "      <td>No</td>\n",
              "      <td>Thur</td>\n",
              "      <td>2</td>\n",
              "    </tr>\n",
              "    <tr>\n",
              "      <th>106</th>\n",
              "      <td>20.49</td>\n",
              "      <td>4.06</td>\n",
              "      <td>Male</td>\n",
              "      <td>Yes</td>\n",
              "      <td>Sat</td>\n",
              "      <td>2</td>\n",
              "    </tr>\n",
              "    <tr>\n",
              "      <th>73</th>\n",
              "      <td>25.28</td>\n",
              "      <td>5.00</td>\n",
              "      <td>Female</td>\n",
              "      <td>Yes</td>\n",
              "      <td>Sat</td>\n",
              "      <td>2</td>\n",
              "    </tr>\n",
              "    <tr>\n",
              "      <th>38</th>\n",
              "      <td>18.69</td>\n",
              "      <td>2.31</td>\n",
              "      <td>Male</td>\n",
              "      <td>No</td>\n",
              "      <td>Sat</td>\n",
              "      <td>3</td>\n",
              "    </tr>\n",
              "    <tr>\n",
              "      <th>210</th>\n",
              "      <td>30.06</td>\n",
              "      <td>2.00</td>\n",
              "      <td>Male</td>\n",
              "      <td>Yes</td>\n",
              "      <td>Sat</td>\n",
              "      <td>3</td>\n",
              "    </tr>\n",
              "    <tr>\n",
              "      <th>202</th>\n",
              "      <td>13.00</td>\n",
              "      <td>2.00</td>\n",
              "      <td>Female</td>\n",
              "      <td>Yes</td>\n",
              "      <td>Thur</td>\n",
              "      <td>2</td>\n",
              "    </tr>\n",
              "    <tr>\n",
              "      <th>44</th>\n",
              "      <td>30.40</td>\n",
              "      <td>5.60</td>\n",
              "      <td>Male</td>\n",
              "      <td>No</td>\n",
              "      <td>Sun</td>\n",
              "      <td>4</td>\n",
              "    </tr>\n",
              "    <tr>\n",
              "      <th>62</th>\n",
              "      <td>11.02</td>\n",
              "      <td>1.98</td>\n",
              "      <td>Male</td>\n",
              "      <td>Yes</td>\n",
              "      <td>Sat</td>\n",
              "      <td>2</td>\n",
              "    </tr>\n",
              "    <tr>\n",
              "      <th>238</th>\n",
              "      <td>35.83</td>\n",
              "      <td>4.67</td>\n",
              "      <td>Female</td>\n",
              "      <td>No</td>\n",
              "      <td>Sat</td>\n",
              "      <td>3</td>\n",
              "    </tr>\n",
              "    <tr>\n",
              "      <th>85</th>\n",
              "      <td>34.83</td>\n",
              "      <td>5.17</td>\n",
              "      <td>Female</td>\n",
              "      <td>No</td>\n",
              "      <td>Thur</td>\n",
              "      <td>4</td>\n",
              "    </tr>\n",
              "    <tr>\n",
              "      <th>224</th>\n",
              "      <td>13.42</td>\n",
              "      <td>1.58</td>\n",
              "      <td>Male</td>\n",
              "      <td>Yes</td>\n",
              "      <td>Fri</td>\n",
              "      <td>2</td>\n",
              "    </tr>\n",
              "    <tr>\n",
              "      <th>39</th>\n",
              "      <td>31.27</td>\n",
              "      <td>5.00</td>\n",
              "      <td>Male</td>\n",
              "      <td>No</td>\n",
              "      <td>Sat</td>\n",
              "      <td>3</td>\n",
              "    </tr>\n",
              "    <tr>\n",
              "      <th>31</th>\n",
              "      <td>18.35</td>\n",
              "      <td>2.50</td>\n",
              "      <td>Male</td>\n",
              "      <td>No</td>\n",
              "      <td>Sat</td>\n",
              "      <td>4</td>\n",
              "    </tr>\n",
              "    <tr>\n",
              "      <th>18</th>\n",
              "      <td>16.97</td>\n",
              "      <td>3.50</td>\n",
              "      <td>Female</td>\n",
              "      <td>No</td>\n",
              "      <td>Sun</td>\n",
              "      <td>3</td>\n",
              "    </tr>\n",
              "    <tr>\n",
              "      <th>132</th>\n",
              "      <td>11.17</td>\n",
              "      <td>1.50</td>\n",
              "      <td>Female</td>\n",
              "      <td>No</td>\n",
              "      <td>Thur</td>\n",
              "      <td>2</td>\n",
              "    </tr>\n",
              "    <tr>\n",
              "      <th>119</th>\n",
              "      <td>24.08</td>\n",
              "      <td>2.92</td>\n",
              "      <td>Female</td>\n",
              "      <td>No</td>\n",
              "      <td>Thur</td>\n",
              "      <td>4</td>\n",
              "    </tr>\n",
              "    <tr>\n",
              "      <th>19</th>\n",
              "      <td>20.65</td>\n",
              "      <td>3.35</td>\n",
              "      <td>Male</td>\n",
              "      <td>No</td>\n",
              "      <td>Sat</td>\n",
              "      <td>3</td>\n",
              "    </tr>\n",
              "    <tr>\n",
              "      <th>91</th>\n",
              "      <td>22.49</td>\n",
              "      <td>3.50</td>\n",
              "      <td>Male</td>\n",
              "      <td>No</td>\n",
              "      <td>Fri</td>\n",
              "      <td>2</td>\n",
              "    </tr>\n",
              "    <tr>\n",
              "      <th>69</th>\n",
              "      <td>15.01</td>\n",
              "      <td>2.09</td>\n",
              "      <td>Male</td>\n",
              "      <td>Yes</td>\n",
              "      <td>Sat</td>\n",
              "      <td>2</td>\n",
              "    </tr>\n",
              "    <tr>\n",
              "      <th>33</th>\n",
              "      <td>20.69</td>\n",
              "      <td>2.45</td>\n",
              "      <td>Female</td>\n",
              "      <td>No</td>\n",
              "      <td>Sat</td>\n",
              "      <td>4</td>\n",
              "    </tr>\n",
              "    <tr>\n",
              "      <th>90</th>\n",
              "      <td>28.97</td>\n",
              "      <td>3.00</td>\n",
              "      <td>Male</td>\n",
              "      <td>Yes</td>\n",
              "      <td>Fri</td>\n",
              "      <td>2</td>\n",
              "    </tr>\n",
              "    <tr>\n",
              "      <th>35</th>\n",
              "      <td>24.06</td>\n",
              "      <td>3.60</td>\n",
              "      <td>Male</td>\n",
              "      <td>No</td>\n",
              "      <td>Sat</td>\n",
              "      <td>3</td>\n",
              "    </tr>\n",
              "    <tr>\n",
              "      <th>11</th>\n",
              "      <td>35.26</td>\n",
              "      <td>5.00</td>\n",
              "      <td>Female</td>\n",
              "      <td>No</td>\n",
              "      <td>Sun</td>\n",
              "      <td>4</td>\n",
              "    </tr>\n",
              "    <tr>\n",
              "      <th>29</th>\n",
              "      <td>19.65</td>\n",
              "      <td>3.00</td>\n",
              "      <td>Female</td>\n",
              "      <td>No</td>\n",
              "      <td>Sat</td>\n",
              "      <td>2</td>\n",
              "    </tr>\n",
              "  </tbody>\n",
              "</table>\n",
              "</div>"
            ],
            "text/plain": [
              "     total_bill    tip     sex smoker   day  size\n",
              "67         3.07   1.00  Female    Yes   Sat     1\n",
              "243       18.78   3.00  Female     No  Thur     2\n",
              "206       26.59   3.41    Male    Yes   Sat     3\n",
              "122       14.26   2.50    Male     No  Thur     2\n",
              "89        21.16   3.00    Male     No  Thur     2\n",
              "218        7.74   1.44    Male    Yes   Sat     2\n",
              "58        11.24   1.76    Male    Yes   Sat     2\n",
              "186       20.90   3.50  Female    Yes   Sun     3\n",
              "177       14.48   2.00    Male    Yes   Sun     2\n",
              "4         24.59   3.61  Female     No   Sun     4\n",
              "220       12.16   2.20    Male    Yes   Fri     2\n",
              "226       10.09   2.00  Female    Yes   Fri     2\n",
              "116       29.93   5.07    Male     No   Sun     4\n",
              "107       25.21   4.29    Male    Yes   Sat     2\n",
              "170       50.81  10.00    Male    Yes   Sat     3\n",
              "241       22.67   2.00    Male    Yes   Sat     2\n",
              "181       23.33   5.65    Male    Yes   Sun     2\n",
              "51        10.29   2.60  Female     No   Sun     2\n",
              "27        12.69   2.00    Male     No   Sat     2\n",
              "240       27.18   2.00  Female    Yes   Sat     2\n",
              "219       30.14   3.09  Female    Yes   Sat     4\n",
              "34        17.78   3.27    Male     No   Sat     2\n",
              "93        16.32   4.30  Female    Yes   Fri     2\n",
              "183       23.17   6.50    Male    Yes   Sun     4\n",
              "118       12.43   1.80  Female     No  Thur     2\n",
              "117       10.65   1.50  Female     No  Thur     2\n",
              "106       20.49   4.06    Male    Yes   Sat     2\n",
              "73        25.28   5.00  Female    Yes   Sat     2\n",
              "38        18.69   2.31    Male     No   Sat     3\n",
              "210       30.06   2.00    Male    Yes   Sat     3\n",
              "202       13.00   2.00  Female    Yes  Thur     2\n",
              "44        30.40   5.60    Male     No   Sun     4\n",
              "62        11.02   1.98    Male    Yes   Sat     2\n",
              "238       35.83   4.67  Female     No   Sat     3\n",
              "85        34.83   5.17  Female     No  Thur     4\n",
              "224       13.42   1.58    Male    Yes   Fri     2\n",
              "39        31.27   5.00    Male     No   Sat     3\n",
              "31        18.35   2.50    Male     No   Sat     4\n",
              "18        16.97   3.50  Female     No   Sun     3\n",
              "132       11.17   1.50  Female     No  Thur     2\n",
              "119       24.08   2.92  Female     No  Thur     4\n",
              "19        20.65   3.35    Male     No   Sat     3\n",
              "91        22.49   3.50    Male     No   Fri     2\n",
              "69        15.01   2.09    Male    Yes   Sat     2\n",
              "33        20.69   2.45  Female     No   Sat     4\n",
              "90        28.97   3.00    Male    Yes   Fri     2\n",
              "35        24.06   3.60    Male     No   Sat     3\n",
              "11        35.26   5.00  Female     No   Sun     4\n",
              "29        19.65   3.00  Female     No   Sat     2"
            ]
          },
          "execution_count": 13,
          "metadata": {},
          "output_type": "execute_result"
        }
      ],
      "source": [
        "X_test"
      ],
      "id": "ea1e41a0-3e9f-48ad-b661-8c023cd519a5"
    },
    {
      "cell_type": "code",
      "execution_count": null,
      "metadata": {
        "id": "8a07f5bd-7c3e-4232-be4d-9e32d93ac2f2",
        "outputId": "d2409731-bee7-44d5-c856-5174a69092ce"
      },
      "outputs": [
        {
          "data": {
            "text/plain": [
              "total_bill    0\n",
              "tip           0\n",
              "sex           0\n",
              "smoker        0\n",
              "day           0\n",
              "time          0\n",
              "size          0\n",
              "dtype: int64"
            ]
          },
          "execution_count": 14,
          "metadata": {},
          "output_type": "execute_result"
        }
      ],
      "source": [
        "df.isnull().sum()"
      ],
      "id": "8a07f5bd-7c3e-4232-be4d-9e32d93ac2f2"
    },
    {
      "cell_type": "code",
      "execution_count": null,
      "metadata": {
        "id": "a3f99f66-5e48-4a7f-b4ea-c2fbe0d16d17"
      },
      "outputs": [],
      "source": [
        "#handling missing values\n",
        "#data encoding\n",
        "#feature scaling\n",
        "\n",
        "from sklearn.impute import SimpleImputer #for missing values\n",
        "from sklearn.preprocessing import OneHotEncoder\n",
        "from sklearn.preprocessing import StandardScaler\n",
        "\n",
        "\n",
        "#pipeline>> a sequence of data transformation\n",
        "#Column transformer>> groups all the pipeline steps for each of the columns\n",
        "\n",
        "\n",
        "from sklearn.pipeline import Pipeline\n",
        "from sklearn.compose import ColumnTransformer"
      ],
      "id": "a3f99f66-5e48-4a7f-b4ea-c2fbe0d16d17"
    },
    {
      "cell_type": "code",
      "execution_count": null,
      "metadata": {
        "id": "66318745-fddd-4d81-8b60-f20e1903d15e",
        "outputId": "ff0a9b57-0443-4860-9e46-309c50df50fa"
      },
      "outputs": [
        {
          "data": {
            "text/html": [
              "<div>\n",
              "<style scoped>\n",
              "    .dataframe tbody tr th:only-of-type {\n",
              "        vertical-align: middle;\n",
              "    }\n",
              "\n",
              "    .dataframe tbody tr th {\n",
              "        vertical-align: top;\n",
              "    }\n",
              "\n",
              "    .dataframe thead th {\n",
              "        text-align: right;\n",
              "    }\n",
              "</style>\n",
              "<table border=\"1\" class=\"dataframe\">\n",
              "  <thead>\n",
              "    <tr style=\"text-align: right;\">\n",
              "      <th></th>\n",
              "      <th>total_bill</th>\n",
              "      <th>tip</th>\n",
              "      <th>sex</th>\n",
              "      <th>smoker</th>\n",
              "      <th>day</th>\n",
              "      <th>time</th>\n",
              "      <th>size</th>\n",
              "    </tr>\n",
              "  </thead>\n",
              "  <tbody>\n",
              "    <tr>\n",
              "      <th>0</th>\n",
              "      <td>16.99</td>\n",
              "      <td>1.01</td>\n",
              "      <td>Female</td>\n",
              "      <td>No</td>\n",
              "      <td>Sun</td>\n",
              "      <td>0</td>\n",
              "      <td>2</td>\n",
              "    </tr>\n",
              "    <tr>\n",
              "      <th>1</th>\n",
              "      <td>10.34</td>\n",
              "      <td>1.66</td>\n",
              "      <td>Male</td>\n",
              "      <td>No</td>\n",
              "      <td>Sun</td>\n",
              "      <td>0</td>\n",
              "      <td>3</td>\n",
              "    </tr>\n",
              "    <tr>\n",
              "      <th>2</th>\n",
              "      <td>21.01</td>\n",
              "      <td>3.50</td>\n",
              "      <td>Male</td>\n",
              "      <td>No</td>\n",
              "      <td>Sun</td>\n",
              "      <td>0</td>\n",
              "      <td>3</td>\n",
              "    </tr>\n",
              "    <tr>\n",
              "      <th>3</th>\n",
              "      <td>23.68</td>\n",
              "      <td>3.31</td>\n",
              "      <td>Male</td>\n",
              "      <td>No</td>\n",
              "      <td>Sun</td>\n",
              "      <td>0</td>\n",
              "      <td>2</td>\n",
              "    </tr>\n",
              "    <tr>\n",
              "      <th>4</th>\n",
              "      <td>24.59</td>\n",
              "      <td>3.61</td>\n",
              "      <td>Female</td>\n",
              "      <td>No</td>\n",
              "      <td>Sun</td>\n",
              "      <td>0</td>\n",
              "      <td>4</td>\n",
              "    </tr>\n",
              "    <tr>\n",
              "      <th>...</th>\n",
              "      <td>...</td>\n",
              "      <td>...</td>\n",
              "      <td>...</td>\n",
              "      <td>...</td>\n",
              "      <td>...</td>\n",
              "      <td>...</td>\n",
              "      <td>...</td>\n",
              "    </tr>\n",
              "    <tr>\n",
              "      <th>239</th>\n",
              "      <td>29.03</td>\n",
              "      <td>5.92</td>\n",
              "      <td>Male</td>\n",
              "      <td>No</td>\n",
              "      <td>Sat</td>\n",
              "      <td>0</td>\n",
              "      <td>3</td>\n",
              "    </tr>\n",
              "    <tr>\n",
              "      <th>240</th>\n",
              "      <td>27.18</td>\n",
              "      <td>2.00</td>\n",
              "      <td>Female</td>\n",
              "      <td>Yes</td>\n",
              "      <td>Sat</td>\n",
              "      <td>0</td>\n",
              "      <td>2</td>\n",
              "    </tr>\n",
              "    <tr>\n",
              "      <th>241</th>\n",
              "      <td>22.67</td>\n",
              "      <td>2.00</td>\n",
              "      <td>Male</td>\n",
              "      <td>Yes</td>\n",
              "      <td>Sat</td>\n",
              "      <td>0</td>\n",
              "      <td>2</td>\n",
              "    </tr>\n",
              "    <tr>\n",
              "      <th>242</th>\n",
              "      <td>17.82</td>\n",
              "      <td>1.75</td>\n",
              "      <td>Male</td>\n",
              "      <td>No</td>\n",
              "      <td>Sat</td>\n",
              "      <td>0</td>\n",
              "      <td>2</td>\n",
              "    </tr>\n",
              "    <tr>\n",
              "      <th>243</th>\n",
              "      <td>18.78</td>\n",
              "      <td>3.00</td>\n",
              "      <td>Female</td>\n",
              "      <td>No</td>\n",
              "      <td>Thur</td>\n",
              "      <td>0</td>\n",
              "      <td>2</td>\n",
              "    </tr>\n",
              "  </tbody>\n",
              "</table>\n",
              "<p>244 rows × 7 columns</p>\n",
              "</div>"
            ],
            "text/plain": [
              "     total_bill   tip     sex smoker   day  time  size\n",
              "0         16.99  1.01  Female     No   Sun     0     2\n",
              "1         10.34  1.66    Male     No   Sun     0     3\n",
              "2         21.01  3.50    Male     No   Sun     0     3\n",
              "3         23.68  3.31    Male     No   Sun     0     2\n",
              "4         24.59  3.61  Female     No   Sun     0     4\n",
              "..          ...   ...     ...    ...   ...   ...   ...\n",
              "239       29.03  5.92    Male     No   Sat     0     3\n",
              "240       27.18  2.00  Female    Yes   Sat     0     2\n",
              "241       22.67  2.00    Male    Yes   Sat     0     2\n",
              "242       17.82  1.75    Male     No   Sat     0     2\n",
              "243       18.78  3.00  Female     No  Thur     0     2\n",
              "\n",
              "[244 rows x 7 columns]"
            ]
          },
          "execution_count": 16,
          "metadata": {},
          "output_type": "execute_result"
        }
      ],
      "source": [
        "df"
      ],
      "id": "66318745-fddd-4d81-8b60-f20e1903d15e"
    },
    {
      "cell_type": "code",
      "execution_count": null,
      "metadata": {
        "id": "fa0f0645-8b89-4238-aded-629e644b4c3a"
      },
      "outputs": [],
      "source": [
        "cat_cols = [\"sex\", \"smoker\", \"day\"]\n",
        "num_cols = [\"total_bill\", \"tip\", \"size\"]"
      ],
      "id": "fa0f0645-8b89-4238-aded-629e644b4c3a"
    },
    {
      "cell_type": "code",
      "execution_count": null,
      "metadata": {
        "id": "fb1c4364-adfc-4a7b-b34a-1dff4b96ec09"
      },
      "outputs": [],
      "source": [
        "#feature engineering automation using pipeline and column transformer\n",
        "\n",
        "num_pipeline = Pipeline(steps = [('imputation', SimpleImputer(strategy = \"median\")),\n",
        "                                 ('scaling', StandardScaler())])\n",
        "cat_pipeline = Pipeline(steps = [(\"imputation\", SimpleImputer(strategy = \"most_frequent\")),\n",
        "                                ('encoding', OneHotEncoder())])"
      ],
      "id": "fb1c4364-adfc-4a7b-b34a-1dff4b96ec09"
    },
    {
      "cell_type": "code",
      "execution_count": null,
      "metadata": {
        "id": "71492bc0-d92e-475f-ba9f-8a17ae73625a"
      },
      "outputs": [],
      "source": [
        "preprocessor = ColumnTransformer([(\"num_pipeline\", num_pipeline, num_cols),\n",
        "                  (\"cat_pipeline\", cat_pipeline, cat_cols)])"
      ],
      "id": "71492bc0-d92e-475f-ba9f-8a17ae73625a"
    },
    {
      "cell_type": "code",
      "execution_count": null,
      "metadata": {
        "id": "604da1a0-fc1c-4409-9a06-87616d2be24c"
      },
      "outputs": [],
      "source": [
        "X_train = preprocessor.fit_transform(X_train)\n",
        "X_test = preprocessor.transform(X_test)"
      ],
      "id": "604da1a0-fc1c-4409-9a06-87616d2be24c"
    },
    {
      "cell_type": "code",
      "execution_count": null,
      "metadata": {
        "id": "cd755bc1-2711-4efc-bfef-7a84d73ef7c7",
        "outputId": "f0a6f222-4517-4a95-dfe0-2af9e4dcdc6e"
      },
      "outputs": [
        {
          "data": {
            "text/plain": [
              "array([[-0.28611937, -1.47443803, -0.57766863, ...,  0.        ,\n",
              "         1.        ,  0.        ],\n",
              "       [ 0.02695905, -0.71612531,  1.47042924, ...,  0.        ,\n",
              "         1.        ,  0.        ],\n",
              "       [ 1.3716196 ,  1.19880579,  1.47042924, ...,  0.        ,\n",
              "         1.        ,  0.        ],\n",
              "       ...,\n",
              "       [-0.23206267,  0.43283335, -0.57766863, ...,  0.        ,\n",
              "         0.        ,  1.        ],\n",
              "       [-1.06543688, -1.29060464, -0.57766863, ...,  1.        ,\n",
              "         0.        ,  0.        ],\n",
              "       [-0.29287646,  0.1034652 ,  0.44638031, ...,  1.        ,\n",
              "         0.        ,  0.        ]])"
            ]
          },
          "execution_count": 21,
          "metadata": {},
          "output_type": "execute_result"
        }
      ],
      "source": [
        "X_train"
      ],
      "id": "cd755bc1-2711-4efc-bfef-7a84d73ef7c7"
    },
    {
      "cell_type": "code",
      "execution_count": null,
      "metadata": {
        "id": "ad5278b2-800a-444a-8c16-e09daded22ee",
        "outputId": "e25a58ca-4d36-452c-eacb-c01849cf1486"
      },
      "outputs": [
        {
          "data": {
            "text/plain": [
              "array([[-1.85376383, -1.48209775, -1.60171757,  1.        ,  0.        ,\n",
              "         0.        ,  1.        ,  0.        ,  1.        ,  0.        ,\n",
              "         0.        ],\n",
              "       [-0.08453291,  0.04984713, -0.57766863,  1.        ,  0.        ,\n",
              "         1.        ,  0.        ,  0.        ,  0.        ,  0.        ,\n",
              "         1.        ],\n",
              "       [ 0.79501474,  0.36389583,  0.44638031,  0.        ,  1.        ,\n",
              "         0.        ,  1.        ,  0.        ,  1.        ,  0.        ,\n",
              "         0.        ],\n",
              "       [-0.59356688, -0.33313909, -0.57766863,  0.        ,  1.        ,\n",
              "         1.        ,  0.        ,  0.        ,  0.        ,  0.        ,\n",
              "         1.        ],\n",
              "       [ 0.18349826,  0.04984713, -0.57766863,  0.        ,  1.        ,\n",
              "         1.        ,  0.        ,  0.        ,  0.        ,  0.        ,\n",
              "         1.        ],\n",
              "       [-1.32783714, -1.14506988, -0.57766863,  0.        ,  1.        ,\n",
              "         0.        ,  1.        ,  0.        ,  1.        ,  0.        ,\n",
              "         0.        ],\n",
              "       [-0.93367366, -0.8999587 , -0.57766863,  0.        ,  1.        ,\n",
              "         0.        ,  1.        ,  0.        ,  1.        ,  0.        ,\n",
              "         0.        ],\n",
              "       [ 0.15421754,  0.43283335,  0.44638031,  1.        ,  0.        ,\n",
              "         0.        ,  1.        ,  0.        ,  0.        ,  1.        ,\n",
              "         0.        ],\n",
              "       [-0.56879089, -0.71612531, -0.57766863,  0.        ,  1.        ,\n",
              "         0.        ,  1.        ,  0.        ,  0.        ,  1.        ,\n",
              "         0.        ],\n",
              "       [ 0.56977847,  0.51709032,  1.47042924,  1.        ,  0.        ,\n",
              "         1.        ,  0.        ,  0.        ,  0.        ,  1.        ,\n",
              "         0.        ],\n",
              "       [-0.83006497, -0.56293082, -0.57766863,  0.        ,  1.        ,\n",
              "         0.        ,  1.        ,  1.        ,  0.        ,  0.        ,\n",
              "         0.        ],\n",
              "       [-1.06318451, -0.71612531, -0.57766863,  1.        ,  0.        ,\n",
              "         0.        ,  1.        ,  1.        ,  0.        ,  0.        ,\n",
              "         0.        ],\n",
              "       [ 1.17115932,  1.63541008,  1.47042924,  0.        ,  1.        ,\n",
              "         1.        ,  0.        ,  0.        ,  0.        ,  1.        ,\n",
              "         0.        ],\n",
              "       [ 0.63960171,  1.03795158, -0.57766863,  0.        ,  1.        ,\n",
              "         0.        ,  1.        ,  0.        ,  1.        ,  0.        ,\n",
              "         0.        ],\n",
              "       [ 3.52262601,  5.41165421,  0.44638031,  0.        ,  1.        ,\n",
              "         0.        ,  1.        ,  0.        ,  1.        ,  0.        ,\n",
              "         0.        ],\n",
              "       [ 0.35355165, -0.71612531, -0.57766863,  0.        ,  1.        ,\n",
              "         0.        ,  1.        ,  0.        ,  1.        ,  0.        ,\n",
              "         0.        ],\n",
              "       [ 0.42787962,  2.07967409, -0.57766863,  0.        ,  1.        ,\n",
              "         0.        ,  1.        ,  0.        ,  0.        ,  1.        ,\n",
              "         0.        ],\n",
              "       [-1.04066089, -0.25654185, -0.57766863,  1.        ,  0.        ,\n",
              "         1.        ,  0.        ,  0.        ,  0.        ,  1.        ,\n",
              "         0.        ],\n",
              "       [-0.77037736, -0.71612531, -0.57766863,  0.        ,  1.        ,\n",
              "         1.        ,  0.        ,  0.        ,  1.        ,  0.        ,\n",
              "         0.        ],\n",
              "       [ 0.86145944, -0.71612531, -0.57766863,  1.        ,  0.        ,\n",
              "         0.        ,  1.        ,  0.        ,  1.        ,  0.        ,\n",
              "         0.        ],\n",
              "       [ 1.19480913,  0.11878465,  1.47042924,  1.        ,  0.        ,\n",
              "         0.        ,  1.        ,  0.        ,  1.        ,  0.        ,\n",
              "         0.        ],\n",
              "       [-0.19715104,  0.25665969, -0.57766863,  0.        ,  1.        ,\n",
              "         1.        ,  0.        ,  0.        ,  1.        ,  0.        ,\n",
              "         0.        ],\n",
              "       [-0.36157352,  1.0456113 , -0.57766863,  1.        ,  0.        ,\n",
              "         0.        ,  1.        ,  1.        ,  0.        ,  0.        ,\n",
              "         0.        ],\n",
              "       [ 0.40986071,  2.73075067,  1.47042924,  0.        ,  1.        ,\n",
              "         0.        ,  1.        ,  0.        ,  0.        ,  1.        ,\n",
              "         0.        ],\n",
              "       [-0.79965807, -0.8693198 , -0.57766863,  1.        ,  0.        ,\n",
              "         1.        ,  0.        ,  0.        ,  0.        ,  0.        ,\n",
              "         1.        ],\n",
              "       [-1.00011836, -1.09911153, -0.57766863,  1.        ,  0.        ,\n",
              "         1.        ,  0.        ,  0.        ,  0.        ,  0.        ,\n",
              "         1.        ],\n",
              "       [ 0.10804411,  0.86177792, -0.57766863,  0.        ,  1.        ,\n",
              "         0.        ,  1.        ,  0.        ,  1.        ,  0.        ,\n",
              "         0.        ],\n",
              "       [ 0.64748498,  1.58179201, -0.57766863,  1.        ,  0.        ,\n",
              "         0.        ,  1.        ,  0.        ,  1.        ,  0.        ,\n",
              "         0.        ],\n",
              "       [-0.09466854, -0.47867385,  0.44638031,  0.        ,  1.        ,\n",
              "         1.        ,  0.        ,  0.        ,  1.        ,  0.        ,\n",
              "         0.        ],\n",
              "       [ 1.18579968, -0.71612531,  0.44638031,  0.        ,  1.        ,\n",
              "         0.        ,  1.        ,  0.        ,  1.        ,  0.        ,\n",
              "         0.        ],\n",
              "       [-0.73546574, -0.71612531, -0.57766863,  1.        ,  0.        ,\n",
              "         0.        ,  1.        ,  0.        ,  0.        ,  0.        ,\n",
              "         1.        ],\n",
              "       [ 1.22408984,  2.04137547,  1.47042924,  0.        ,  1.        ,\n",
              "         1.        ,  0.        ,  0.        ,  0.        ,  1.        ,\n",
              "         0.        ],\n",
              "       [-0.95844965, -0.73144476, -0.57766863,  0.        ,  1.        ,\n",
              "         0.        ,  1.        ,  0.        ,  1.        ,  0.        ,\n",
              "         0.        ],\n",
              "       [ 1.83560633,  1.3290211 ,  0.44638031,  1.        ,  0.        ,\n",
              "         1.        ,  0.        ,  0.        ,  1.        ,  0.        ,\n",
              "         0.        ],\n",
              "       [ 1.72298819,  1.71200732,  1.47042924,  1.        ,  0.        ,\n",
              "         1.        ,  0.        ,  0.        ,  0.        ,  0.        ,\n",
              "         1.        ],\n",
              "       [-0.68816612, -1.03783373, -0.57766863,  0.        ,  1.        ,\n",
              "         0.        ,  1.        ,  1.        ,  0.        ,  0.        ,\n",
              "         0.        ],\n",
              "       [ 1.32206762,  1.58179201,  0.44638031,  0.        ,  1.        ,\n",
              "         1.        ,  0.        ,  0.        ,  1.        ,  0.        ,\n",
              "         0.        ],\n",
              "       [-0.1329587 , -0.33313909,  1.47042924,  0.        ,  1.        ,\n",
              "         1.        ,  0.        ,  0.        ,  1.        ,  0.        ,\n",
              "         0.        ],\n",
              "       [-0.28837173,  0.43283335,  0.44638031,  1.        ,  0.        ,\n",
              "         1.        ,  0.        ,  0.        ,  0.        ,  1.        ,\n",
              "         0.        ],\n",
              "       [-0.94155693, -1.09911153, -0.57766863,  1.        ,  0.        ,\n",
              "         1.        ,  0.        ,  0.        ,  0.        ,  0.        ,\n",
              "         1.        ],\n",
              "       [ 0.51234322, -0.01143067,  1.47042924,  1.        ,  0.        ,\n",
              "         1.        ,  0.        ,  0.        ,  0.        ,  0.        ,\n",
              "         1.        ],\n",
              "       [ 0.12606301,  0.31793748,  0.44638031,  0.        ,  1.        ,\n",
              "         1.        ,  0.        ,  0.        ,  1.        ,  0.        ,\n",
              "         0.        ],\n",
              "       [ 0.33328038,  0.43283335, -0.57766863,  0.        ,  1.        ,\n",
              "         1.        ,  0.        ,  1.        ,  0.        ,  0.        ,\n",
              "         0.        ],\n",
              "       [-0.50910328, -0.64718779, -0.57766863,  0.        ,  1.        ,\n",
              "         0.        ,  1.        ,  0.        ,  1.        ,  0.        ,\n",
              "         0.        ],\n",
              "       [ 0.13056774, -0.37143771,  1.47042924,  1.        ,  0.        ,\n",
              "         1.        ,  0.        ,  0.        ,  1.        ,  0.        ,\n",
              "         0.        ],\n",
              "       [ 1.06304591,  0.04984713, -0.57766863,  0.        ,  1.        ,\n",
              "         0.        ,  1.        ,  1.        ,  0.        ,  0.        ,\n",
              "         0.        ],\n",
              "       [ 0.51009086,  0.50943059,  0.44638031,  0.        ,  1.        ,\n",
              "         1.        ,  0.        ,  0.        ,  1.        ,  0.        ,\n",
              "         0.        ],\n",
              "       [ 1.77141399,  1.58179201,  1.47042924,  1.        ,  0.        ,\n",
              "         1.        ,  0.        ,  0.        ,  0.        ,  1.        ,\n",
              "         0.        ],\n",
              "       [ 0.01344487,  0.04984713, -0.57766863,  1.        ,  0.        ,\n",
              "         1.        ,  0.        ,  0.        ,  1.        ,  0.        ,\n",
              "         0.        ]])"
            ]
          },
          "execution_count": 22,
          "metadata": {},
          "output_type": "execute_result"
        }
      ],
      "source": [
        "X_test"
      ],
      "id": "ad5278b2-800a-444a-8c16-e09daded22ee"
    },
    {
      "cell_type": "code",
      "execution_count": null,
      "metadata": {
        "id": "4cfad7aa-0368-45cf-a148-a52242191df6"
      },
      "outputs": [],
      "source": [
        "from sklearn.tree import DecisionTreeClassifier\n",
        "from sklearn.svm import SVC\n",
        "from sklearn.linear_model import LogisticRegression\n",
        "\n",
        "\n",
        "models = {\"SVC\": SVC(),\n",
        "         \"dtc\": DecisionTreeClassifier(),\n",
        "         \"Logreg\": LogisticRegression(),\n",
        "         \"rf\": RandomForestClassifier()}\n"
      ],
      "id": "4cfad7aa-0368-45cf-a148-a52242191df6"
    },
    {
      "cell_type": "code",
      "execution_count": null,
      "metadata": {
        "id": "166730d2-e240-4a6b-bb72-4e596757dbc4",
        "outputId": "480d477d-c595-41f2-f936-281c9fd226ca"
      },
      "outputs": [
        {
          "data": {
            "text/plain": [
              "dict_values([SVC(), DecisionTreeClassifier(), LogisticRegression(), RandomForestClassifier()])"
            ]
          },
          "execution_count": 41,
          "metadata": {},
          "output_type": "execute_result"
        }
      ],
      "source": [
        "models.values()"
      ],
      "id": "166730d2-e240-4a6b-bb72-4e596757dbc4"
    },
    {
      "cell_type": "code",
      "execution_count": null,
      "metadata": {
        "id": "eaad768c-78ce-4e3b-b354-b896cadba0ab"
      },
      "outputs": [],
      "source": [
        "from sklearn.metrics import accuracy_score\n",
        "\n",
        "def model_train_eval(X_train, y_train, X_test, y_test, models):\n",
        "    evaluation = {}\n",
        "    for i in range(len(models)):\n",
        "        model = list(models.values())[i]\n",
        "        model.fit(X_train, y_train)\n",
        "        y_pred = model.predict(X_test)\n",
        "        model_score = accuracy_score(y_test, y_pred)\n",
        "        evaluation[list(models.keys())[i]] = model_score\n",
        "    return evaluation"
      ],
      "id": "eaad768c-78ce-4e3b-b354-b896cadba0ab"
    },
    {
      "cell_type": "code",
      "execution_count": null,
      "metadata": {
        "id": "cc129b16-db69-4e33-9390-6b541dc16261",
        "outputId": "638a4d74-5778-4595-e322-5df8011078f3"
      },
      "outputs": [
        {
          "data": {
            "text/plain": [
              "{'SVC': 0.9183673469387755,\n",
              " 'dtc': 0.8979591836734694,\n",
              " 'Logreg': 0.9183673469387755,\n",
              " 'rf': 0.8979591836734694}"
            ]
          },
          "execution_count": 43,
          "metadata": {},
          "output_type": "execute_result"
        }
      ],
      "source": [
        "model_train_eval(X_train, y_train, X_test, y_test, models)"
      ],
      "id": "cc129b16-db69-4e33-9390-6b541dc16261"
    },
    {
      "cell_type": "code",
      "execution_count": null,
      "metadata": {
        "id": "6f788fd3-08d4-4da0-a242-43dd545cced6"
      },
      "outputs": [],
      "source": [
        "from sklearn.ensemble import RandomForestClassifier\n",
        "rf = RandomForestClassifier()"
      ],
      "id": "6f788fd3-08d4-4da0-a242-43dd545cced6"
    },
    {
      "cell_type": "code",
      "execution_count": null,
      "metadata": {
        "id": "7a0215cb-ecda-4cd3-b690-b41654646bcf",
        "outputId": "bf79e909-4c55-4ec9-9154-3bc434e24a05"
      },
      "outputs": [
        {
          "data": {
            "text/html": [
              "<style>#sk-container-id-1 {color: black;background-color: white;}#sk-container-id-1 pre{padding: 0;}#sk-container-id-1 div.sk-toggleable {background-color: white;}#sk-container-id-1 label.sk-toggleable__label {cursor: pointer;display: block;width: 100%;margin-bottom: 0;padding: 0.3em;box-sizing: border-box;text-align: center;}#sk-container-id-1 label.sk-toggleable__label-arrow:before {content: \"▸\";float: left;margin-right: 0.25em;color: #696969;}#sk-container-id-1 label.sk-toggleable__label-arrow:hover:before {color: black;}#sk-container-id-1 div.sk-estimator:hover label.sk-toggleable__label-arrow:before {color: black;}#sk-container-id-1 div.sk-toggleable__content {max-height: 0;max-width: 0;overflow: hidden;text-align: left;background-color: #f0f8ff;}#sk-container-id-1 div.sk-toggleable__content pre {margin: 0.2em;color: black;border-radius: 0.25em;background-color: #f0f8ff;}#sk-container-id-1 input.sk-toggleable__control:checked~div.sk-toggleable__content {max-height: 200px;max-width: 100%;overflow: auto;}#sk-container-id-1 input.sk-toggleable__control:checked~label.sk-toggleable__label-arrow:before {content: \"▾\";}#sk-container-id-1 div.sk-estimator input.sk-toggleable__control:checked~label.sk-toggleable__label {background-color: #d4ebff;}#sk-container-id-1 div.sk-label input.sk-toggleable__control:checked~label.sk-toggleable__label {background-color: #d4ebff;}#sk-container-id-1 input.sk-hidden--visually {border: 0;clip: rect(1px 1px 1px 1px);clip: rect(1px, 1px, 1px, 1px);height: 1px;margin: -1px;overflow: hidden;padding: 0;position: absolute;width: 1px;}#sk-container-id-1 div.sk-estimator {font-family: monospace;background-color: #f0f8ff;border: 1px dotted black;border-radius: 0.25em;box-sizing: border-box;margin-bottom: 0.5em;}#sk-container-id-1 div.sk-estimator:hover {background-color: #d4ebff;}#sk-container-id-1 div.sk-parallel-item::after {content: \"\";width: 100%;border-bottom: 1px solid gray;flex-grow: 1;}#sk-container-id-1 div.sk-label:hover label.sk-toggleable__label {background-color: #d4ebff;}#sk-container-id-1 div.sk-serial::before {content: \"\";position: absolute;border-left: 1px solid gray;box-sizing: border-box;top: 0;bottom: 0;left: 50%;z-index: 0;}#sk-container-id-1 div.sk-serial {display: flex;flex-direction: column;align-items: center;background-color: white;padding-right: 0.2em;padding-left: 0.2em;position: relative;}#sk-container-id-1 div.sk-item {position: relative;z-index: 1;}#sk-container-id-1 div.sk-parallel {display: flex;align-items: stretch;justify-content: center;background-color: white;position: relative;}#sk-container-id-1 div.sk-item::before, #sk-container-id-1 div.sk-parallel-item::before {content: \"\";position: absolute;border-left: 1px solid gray;box-sizing: border-box;top: 0;bottom: 0;left: 50%;z-index: -1;}#sk-container-id-1 div.sk-parallel-item {display: flex;flex-direction: column;z-index: 1;position: relative;background-color: white;}#sk-container-id-1 div.sk-parallel-item:first-child::after {align-self: flex-end;width: 50%;}#sk-container-id-1 div.sk-parallel-item:last-child::after {align-self: flex-start;width: 50%;}#sk-container-id-1 div.sk-parallel-item:only-child::after {width: 0;}#sk-container-id-1 div.sk-dashed-wrapped {border: 1px dashed gray;margin: 0 0.4em 0.5em 0.4em;box-sizing: border-box;padding-bottom: 0.4em;background-color: white;}#sk-container-id-1 div.sk-label label {font-family: monospace;font-weight: bold;display: inline-block;line-height: 1.2em;}#sk-container-id-1 div.sk-label-container {text-align: center;}#sk-container-id-1 div.sk-container {/* jupyter's `normalize.less` sets `[hidden] { display: none; }` but bootstrap.min.css set `[hidden] { display: none !important; }` so we also need the `!important` here to be able to override the default hidden behavior on the sphinx rendered scikit-learn.org. See: https://github.com/scikit-learn/scikit-learn/issues/21755 */display: inline-block !important;position: relative;}#sk-container-id-1 div.sk-text-repr-fallback {display: none;}</style><div id=\"sk-container-id-1\" class=\"sk-top-container\"><div class=\"sk-text-repr-fallback\"><pre>RandomForestClassifier()</pre><b>In a Jupyter environment, please rerun this cell to show the HTML representation or trust the notebook. <br />On GitHub, the HTML representation is unable to render, please try loading this page with nbviewer.org.</b></div><div class=\"sk-container\" hidden><div class=\"sk-item\"><div class=\"sk-estimator sk-toggleable\"><input class=\"sk-toggleable__control sk-hidden--visually\" id=\"sk-estimator-id-1\" type=\"checkbox\" checked><label for=\"sk-estimator-id-1\" class=\"sk-toggleable__label sk-toggleable__label-arrow\">RandomForestClassifier</label><div class=\"sk-toggleable__content\"><pre>RandomForestClassifier()</pre></div></div></div></div></div>"
            ],
            "text/plain": [
              "RandomForestClassifier()"
            ]
          },
          "execution_count": 28,
          "metadata": {},
          "output_type": "execute_result"
        }
      ],
      "source": [
        "rf"
      ],
      "id": "7a0215cb-ecda-4cd3-b690-b41654646bcf"
    },
    {
      "cell_type": "code",
      "execution_count": null,
      "metadata": {
        "id": "725f531a-219f-4a3d-949a-31727c89c303",
        "outputId": "c66c0601-9f54-4a89-da56-24a82e82ca60"
      },
      "outputs": [
        {
          "data": {
            "text/html": [
              "<style>#sk-container-id-2 {color: black;background-color: white;}#sk-container-id-2 pre{padding: 0;}#sk-container-id-2 div.sk-toggleable {background-color: white;}#sk-container-id-2 label.sk-toggleable__label {cursor: pointer;display: block;width: 100%;margin-bottom: 0;padding: 0.3em;box-sizing: border-box;text-align: center;}#sk-container-id-2 label.sk-toggleable__label-arrow:before {content: \"▸\";float: left;margin-right: 0.25em;color: #696969;}#sk-container-id-2 label.sk-toggleable__label-arrow:hover:before {color: black;}#sk-container-id-2 div.sk-estimator:hover label.sk-toggleable__label-arrow:before {color: black;}#sk-container-id-2 div.sk-toggleable__content {max-height: 0;max-width: 0;overflow: hidden;text-align: left;background-color: #f0f8ff;}#sk-container-id-2 div.sk-toggleable__content pre {margin: 0.2em;color: black;border-radius: 0.25em;background-color: #f0f8ff;}#sk-container-id-2 input.sk-toggleable__control:checked~div.sk-toggleable__content {max-height: 200px;max-width: 100%;overflow: auto;}#sk-container-id-2 input.sk-toggleable__control:checked~label.sk-toggleable__label-arrow:before {content: \"▾\";}#sk-container-id-2 div.sk-estimator input.sk-toggleable__control:checked~label.sk-toggleable__label {background-color: #d4ebff;}#sk-container-id-2 div.sk-label input.sk-toggleable__control:checked~label.sk-toggleable__label {background-color: #d4ebff;}#sk-container-id-2 input.sk-hidden--visually {border: 0;clip: rect(1px 1px 1px 1px);clip: rect(1px, 1px, 1px, 1px);height: 1px;margin: -1px;overflow: hidden;padding: 0;position: absolute;width: 1px;}#sk-container-id-2 div.sk-estimator {font-family: monospace;background-color: #f0f8ff;border: 1px dotted black;border-radius: 0.25em;box-sizing: border-box;margin-bottom: 0.5em;}#sk-container-id-2 div.sk-estimator:hover {background-color: #d4ebff;}#sk-container-id-2 div.sk-parallel-item::after {content: \"\";width: 100%;border-bottom: 1px solid gray;flex-grow: 1;}#sk-container-id-2 div.sk-label:hover label.sk-toggleable__label {background-color: #d4ebff;}#sk-container-id-2 div.sk-serial::before {content: \"\";position: absolute;border-left: 1px solid gray;box-sizing: border-box;top: 0;bottom: 0;left: 50%;z-index: 0;}#sk-container-id-2 div.sk-serial {display: flex;flex-direction: column;align-items: center;background-color: white;padding-right: 0.2em;padding-left: 0.2em;position: relative;}#sk-container-id-2 div.sk-item {position: relative;z-index: 1;}#sk-container-id-2 div.sk-parallel {display: flex;align-items: stretch;justify-content: center;background-color: white;position: relative;}#sk-container-id-2 div.sk-item::before, #sk-container-id-2 div.sk-parallel-item::before {content: \"\";position: absolute;border-left: 1px solid gray;box-sizing: border-box;top: 0;bottom: 0;left: 50%;z-index: -1;}#sk-container-id-2 div.sk-parallel-item {display: flex;flex-direction: column;z-index: 1;position: relative;background-color: white;}#sk-container-id-2 div.sk-parallel-item:first-child::after {align-self: flex-end;width: 50%;}#sk-container-id-2 div.sk-parallel-item:last-child::after {align-self: flex-start;width: 50%;}#sk-container-id-2 div.sk-parallel-item:only-child::after {width: 0;}#sk-container-id-2 div.sk-dashed-wrapped {border: 1px dashed gray;margin: 0 0.4em 0.5em 0.4em;box-sizing: border-box;padding-bottom: 0.4em;background-color: white;}#sk-container-id-2 div.sk-label label {font-family: monospace;font-weight: bold;display: inline-block;line-height: 1.2em;}#sk-container-id-2 div.sk-label-container {text-align: center;}#sk-container-id-2 div.sk-container {/* jupyter's `normalize.less` sets `[hidden] { display: none; }` but bootstrap.min.css set `[hidden] { display: none !important; }` so we also need the `!important` here to be able to override the default hidden behavior on the sphinx rendered scikit-learn.org. See: https://github.com/scikit-learn/scikit-learn/issues/21755 */display: inline-block !important;position: relative;}#sk-container-id-2 div.sk-text-repr-fallback {display: none;}</style><div id=\"sk-container-id-2\" class=\"sk-top-container\"><div class=\"sk-text-repr-fallback\"><pre>RandomForestClassifier()</pre><b>In a Jupyter environment, please rerun this cell to show the HTML representation or trust the notebook. <br />On GitHub, the HTML representation is unable to render, please try loading this page with nbviewer.org.</b></div><div class=\"sk-container\" hidden><div class=\"sk-item\"><div class=\"sk-estimator sk-toggleable\"><input class=\"sk-toggleable__control sk-hidden--visually\" id=\"sk-estimator-id-2\" type=\"checkbox\" checked><label for=\"sk-estimator-id-2\" class=\"sk-toggleable__label sk-toggleable__label-arrow\">RandomForestClassifier</label><div class=\"sk-toggleable__content\"><pre>RandomForestClassifier()</pre></div></div></div></div></div>"
            ],
            "text/plain": [
              "RandomForestClassifier()"
            ]
          },
          "execution_count": 29,
          "metadata": {},
          "output_type": "execute_result"
        }
      ],
      "source": [
        "rf.fit(X_train, y_train)"
      ],
      "id": "725f531a-219f-4a3d-949a-31727c89c303"
    },
    {
      "cell_type": "code",
      "execution_count": null,
      "metadata": {
        "id": "c256f861-dc34-4ea0-a0c9-bbbeefc3c4b5"
      },
      "outputs": [],
      "source": [
        "y_pred = rf.predict(X_test)"
      ],
      "id": "c256f861-dc34-4ea0-a0c9-bbbeefc3c4b5"
    },
    {
      "cell_type": "code",
      "execution_count": null,
      "metadata": {
        "id": "93aaef03-5f9d-42a7-835e-1c2b17b658b8",
        "outputId": "67076806-a73c-4b7e-d31b-cbcbad6c139b"
      },
      "outputs": [
        {
          "data": {
            "text/plain": [
              "0.8979591836734694"
            ]
          },
          "execution_count": 33,
          "metadata": {},
          "output_type": "execute_result"
        }
      ],
      "source": [
        "accuracy_score(y_test, y_pred)"
      ],
      "id": "93aaef03-5f9d-42a7-835e-1c2b17b658b8"
    },
    {
      "cell_type": "code",
      "execution_count": null,
      "metadata": {
        "id": "8f48eba0-8f7a-48f0-91ef-6ea3ce22b08a"
      },
      "outputs": [],
      "source": [
        "from sklearn.model_selection import GridSearchCV\n",
        "\n",
        "params = {'max_depth' : [1, 2, 3,4, 10, 20, 30],\n",
        "         'n_estimators': [50, 100, 200, 300, 400, 1000],\n",
        "         'criterion': [\"gini\", 'entropy']}"
      ],
      "id": "8f48eba0-8f7a-48f0-91ef-6ea3ce22b08a"
    },
    {
      "cell_type": "code",
      "execution_count": null,
      "metadata": {
        "id": "16af043c-283e-4451-99cb-6808695aa0df",
        "outputId": "3277c5b0-7c00-485e-8984-5d5c30b94f50"
      },
      "outputs": [
        {
          "data": {
            "text/plain": [
              "{'max_depth': [1, 2, 3, 4, 10, 20, 30],\n",
              " 'n_estimators': [50, 100, 200, 300, 400, 1000],\n",
              " 'criterion': ['gini', 'entropy']}"
            ]
          },
          "execution_count": 35,
          "metadata": {},
          "output_type": "execute_result"
        }
      ],
      "source": [
        "params"
      ],
      "id": "16af043c-283e-4451-99cb-6808695aa0df"
    },
    {
      "cell_type": "code",
      "execution_count": null,
      "metadata": {
        "id": "07f909c4-d4bd-4bdc-b910-f2cf2eda0b9a"
      },
      "outputs": [],
      "source": [
        "clf = GridSearchCV(rf, param_grid=params, cv = 5, scoring = \"accuracy\", verbose=3)"
      ],
      "id": "07f909c4-d4bd-4bdc-b910-f2cf2eda0b9a"
    },
    {
      "cell_type": "code",
      "execution_count": null,
      "metadata": {
        "id": "7708f501-a2dc-48c3-b394-9c84cdde721e",
        "outputId": "8b7a707b-7a25-4a04-bad5-09719c1e6d1a"
      },
      "outputs": [
        {
          "name": "stdout",
          "output_type": "stream",
          "text": [
            "Fitting 5 folds for each of 84 candidates, totalling 420 fits\n",
            "[CV 1/5] END criterion=gini, max_depth=1, n_estimators=50;, score=0.795 total time=   0.1s\n",
            "[CV 2/5] END criterion=gini, max_depth=1, n_estimators=50;, score=0.949 total time=   0.1s\n",
            "[CV 3/5] END criterion=gini, max_depth=1, n_estimators=50;, score=1.000 total time=   0.1s\n",
            "[CV 4/5] END criterion=gini, max_depth=1, n_estimators=50;, score=1.000 total time=   0.1s\n",
            "[CV 5/5] END criterion=gini, max_depth=1, n_estimators=50;, score=1.000 total time=   0.1s\n",
            "[CV 1/5] END criterion=gini, max_depth=1, n_estimators=100;, score=0.744 total time=   0.2s\n",
            "[CV 2/5] END criterion=gini, max_depth=1, n_estimators=100;, score=0.974 total time=   0.2s\n",
            "[CV 3/5] END criterion=gini, max_depth=1, n_estimators=100;, score=1.000 total time=   0.2s\n",
            "[CV 4/5] END criterion=gini, max_depth=1, n_estimators=100;, score=0.923 total time=   0.2s\n",
            "[CV 5/5] END criterion=gini, max_depth=1, n_estimators=100;, score=0.744 total time=   0.2s\n",
            "[CV 1/5] END criterion=gini, max_depth=1, n_estimators=200;, score=0.923 total time=   0.4s\n",
            "[CV 2/5] END criterion=gini, max_depth=1, n_estimators=200;, score=0.897 total time=   0.4s\n",
            "[CV 3/5] END criterion=gini, max_depth=1, n_estimators=200;, score=1.000 total time=   0.4s\n",
            "[CV 4/5] END criterion=gini, max_depth=1, n_estimators=200;, score=0.949 total time=   0.4s\n",
            "[CV 5/5] END criterion=gini, max_depth=1, n_estimators=200;, score=1.000 total time=   0.4s\n",
            "[CV 1/5] END criterion=gini, max_depth=1, n_estimators=300;, score=0.923 total time=   0.5s\n",
            "[CV 2/5] END criterion=gini, max_depth=1, n_estimators=300;, score=0.974 total time=   0.5s\n",
            "[CV 3/5] END criterion=gini, max_depth=1, n_estimators=300;, score=1.000 total time=   0.5s\n",
            "[CV 4/5] END criterion=gini, max_depth=1, n_estimators=300;, score=1.000 total time=   0.5s\n",
            "[CV 5/5] END criterion=gini, max_depth=1, n_estimators=300;, score=1.000 total time=   0.6s\n",
            "[CV 1/5] END criterion=gini, max_depth=1, n_estimators=400;, score=0.923 total time=   0.7s\n",
            "[CV 2/5] END criterion=gini, max_depth=1, n_estimators=400;, score=0.974 total time=   0.7s\n",
            "[CV 3/5] END criterion=gini, max_depth=1, n_estimators=400;, score=1.000 total time=   0.7s\n",
            "[CV 4/5] END criterion=gini, max_depth=1, n_estimators=400;, score=1.000 total time=   0.8s\n",
            "[CV 5/5] END criterion=gini, max_depth=1, n_estimators=400;, score=1.000 total time=   0.7s\n",
            "[CV 1/5] END criterion=gini, max_depth=1, n_estimators=1000;, score=0.923 total time=   1.9s\n",
            "[CV 2/5] END criterion=gini, max_depth=1, n_estimators=1000;, score=0.974 total time=   1.8s\n",
            "[CV 3/5] END criterion=gini, max_depth=1, n_estimators=1000;, score=1.000 total time=   1.8s\n",
            "[CV 4/5] END criterion=gini, max_depth=1, n_estimators=1000;, score=0.974 total time=   2.0s\n",
            "[CV 5/5] END criterion=gini, max_depth=1, n_estimators=1000;, score=1.000 total time=   1.8s\n",
            "[CV 1/5] END criterion=gini, max_depth=2, n_estimators=50;, score=0.923 total time=   0.1s\n",
            "[CV 2/5] END criterion=gini, max_depth=2, n_estimators=50;, score=0.974 total time=   0.1s\n",
            "[CV 3/5] END criterion=gini, max_depth=2, n_estimators=50;, score=1.000 total time=   0.1s\n",
            "[CV 4/5] END criterion=gini, max_depth=2, n_estimators=50;, score=1.000 total time=   0.1s\n",
            "[CV 5/5] END criterion=gini, max_depth=2, n_estimators=50;, score=1.000 total time=   0.1s\n",
            "[CV 1/5] END criterion=gini, max_depth=2, n_estimators=100;, score=0.923 total time=   0.2s\n",
            "[CV 2/5] END criterion=gini, max_depth=2, n_estimators=100;, score=0.974 total time=   0.2s\n",
            "[CV 3/5] END criterion=gini, max_depth=2, n_estimators=100;, score=1.000 total time=   0.2s\n",
            "[CV 4/5] END criterion=gini, max_depth=2, n_estimators=100;, score=1.000 total time=   0.2s\n",
            "[CV 5/5] END criterion=gini, max_depth=2, n_estimators=100;, score=1.000 total time=   0.2s\n",
            "[CV 1/5] END criterion=gini, max_depth=2, n_estimators=200;, score=0.923 total time=   0.4s\n",
            "[CV 2/5] END criterion=gini, max_depth=2, n_estimators=200;, score=0.974 total time=   0.4s\n",
            "[CV 3/5] END criterion=gini, max_depth=2, n_estimators=200;, score=1.000 total time=   0.4s\n",
            "[CV 4/5] END criterion=gini, max_depth=2, n_estimators=200;, score=1.000 total time=   0.4s\n",
            "[CV 5/5] END criterion=gini, max_depth=2, n_estimators=200;, score=1.000 total time=   0.4s\n",
            "[CV 1/5] END criterion=gini, max_depth=2, n_estimators=300;, score=0.923 total time=   0.5s\n",
            "[CV 2/5] END criterion=gini, max_depth=2, n_estimators=300;, score=0.974 total time=   0.6s\n",
            "[CV 3/5] END criterion=gini, max_depth=2, n_estimators=300;, score=1.000 total time=   0.6s\n",
            "[CV 4/5] END criterion=gini, max_depth=2, n_estimators=300;, score=1.000 total time=   0.5s\n",
            "[CV 5/5] END criterion=gini, max_depth=2, n_estimators=300;, score=1.000 total time=   0.5s\n",
            "[CV 1/5] END criterion=gini, max_depth=2, n_estimators=400;, score=0.923 total time=   0.7s\n",
            "[CV 2/5] END criterion=gini, max_depth=2, n_estimators=400;, score=0.974 total time=   0.8s\n",
            "[CV 3/5] END criterion=gini, max_depth=2, n_estimators=400;, score=1.000 total time=   0.7s\n",
            "[CV 4/5] END criterion=gini, max_depth=2, n_estimators=400;, score=1.000 total time=   0.8s\n",
            "[CV 5/5] END criterion=gini, max_depth=2, n_estimators=400;, score=1.000 total time=   0.7s\n",
            "[CV 1/5] END criterion=gini, max_depth=2, n_estimators=1000;, score=0.923 total time=   1.9s\n",
            "[CV 2/5] END criterion=gini, max_depth=2, n_estimators=1000;, score=0.974 total time=   1.8s\n",
            "[CV 3/5] END criterion=gini, max_depth=2, n_estimators=1000;, score=1.000 total time=   1.8s\n",
            "[CV 4/5] END criterion=gini, max_depth=2, n_estimators=1000;, score=1.000 total time=   1.8s\n",
            "[CV 5/5] END criterion=gini, max_depth=2, n_estimators=1000;, score=1.000 total time=   1.9s\n",
            "[CV 1/5] END criterion=gini, max_depth=3, n_estimators=50;, score=0.923 total time=   0.1s\n",
            "[CV 2/5] END criterion=gini, max_depth=3, n_estimators=50;, score=0.974 total time=   0.1s\n",
            "[CV 3/5] END criterion=gini, max_depth=3, n_estimators=50;, score=1.000 total time=   0.1s\n",
            "[CV 4/5] END criterion=gini, max_depth=3, n_estimators=50;, score=1.000 total time=   0.1s\n",
            "[CV 5/5] END criterion=gini, max_depth=3, n_estimators=50;, score=1.000 total time=   0.1s\n",
            "[CV 1/5] END criterion=gini, max_depth=3, n_estimators=100;, score=0.923 total time=   0.2s\n",
            "[CV 2/5] END criterion=gini, max_depth=3, n_estimators=100;, score=0.974 total time=   0.2s\n",
            "[CV 3/5] END criterion=gini, max_depth=3, n_estimators=100;, score=1.000 total time=   0.2s\n",
            "[CV 4/5] END criterion=gini, max_depth=3, n_estimators=100;, score=1.000 total time=   0.2s\n",
            "[CV 5/5] END criterion=gini, max_depth=3, n_estimators=100;, score=1.000 total time=   0.2s\n",
            "[CV 1/5] END criterion=gini, max_depth=3, n_estimators=200;, score=0.923 total time=   0.4s\n",
            "[CV 2/5] END criterion=gini, max_depth=3, n_estimators=200;, score=0.974 total time=   0.4s\n",
            "[CV 3/5] END criterion=gini, max_depth=3, n_estimators=200;, score=1.000 total time=   0.4s\n",
            "[CV 4/5] END criterion=gini, max_depth=3, n_estimators=200;, score=1.000 total time=   0.4s\n",
            "[CV 5/5] END criterion=gini, max_depth=3, n_estimators=200;, score=1.000 total time=   0.4s\n",
            "[CV 1/5] END criterion=gini, max_depth=3, n_estimators=300;, score=0.923 total time=   0.6s\n",
            "[CV 2/5] END criterion=gini, max_depth=3, n_estimators=300;, score=0.974 total time=   0.6s\n",
            "[CV 3/5] END criterion=gini, max_depth=3, n_estimators=300;, score=1.000 total time=   0.6s\n",
            "[CV 4/5] END criterion=gini, max_depth=3, n_estimators=300;, score=1.000 total time=   0.6s\n",
            "[CV 5/5] END criterion=gini, max_depth=3, n_estimators=300;, score=1.000 total time=   0.6s\n",
            "[CV 1/5] END criterion=gini, max_depth=3, n_estimators=400;, score=0.923 total time=   0.7s\n",
            "[CV 2/5] END criterion=gini, max_depth=3, n_estimators=400;, score=0.974 total time=   0.7s\n",
            "[CV 3/5] END criterion=gini, max_depth=3, n_estimators=400;, score=1.000 total time=   0.7s\n",
            "[CV 4/5] END criterion=gini, max_depth=3, n_estimators=400;, score=1.000 total time=   0.8s\n",
            "[CV 5/5] END criterion=gini, max_depth=3, n_estimators=400;, score=1.000 total time=   0.7s\n",
            "[CV 1/5] END criterion=gini, max_depth=3, n_estimators=1000;, score=0.923 total time=   1.8s\n",
            "[CV 2/5] END criterion=gini, max_depth=3, n_estimators=1000;, score=0.974 total time=   1.8s\n",
            "[CV 3/5] END criterion=gini, max_depth=3, n_estimators=1000;, score=1.000 total time=   1.9s\n",
            "[CV 4/5] END criterion=gini, max_depth=3, n_estimators=1000;, score=1.000 total time=   1.9s\n",
            "[CV 5/5] END criterion=gini, max_depth=3, n_estimators=1000;, score=1.000 total time=   1.9s\n",
            "[CV 1/5] END criterion=gini, max_depth=4, n_estimators=50;, score=0.923 total time=   0.1s\n",
            "[CV 2/5] END criterion=gini, max_depth=4, n_estimators=50;, score=0.974 total time=   0.1s\n",
            "[CV 3/5] END criterion=gini, max_depth=4, n_estimators=50;, score=1.000 total time=   0.1s\n",
            "[CV 4/5] END criterion=gini, max_depth=4, n_estimators=50;, score=1.000 total time=   0.1s\n",
            "[CV 5/5] END criterion=gini, max_depth=4, n_estimators=50;, score=1.000 total time=   0.1s\n",
            "[CV 1/5] END criterion=gini, max_depth=4, n_estimators=100;, score=0.923 total time=   0.2s\n",
            "[CV 2/5] END criterion=gini, max_depth=4, n_estimators=100;, score=0.974 total time=   0.2s\n",
            "[CV 3/5] END criterion=gini, max_depth=4, n_estimators=100;, score=1.000 total time=   0.2s\n",
            "[CV 4/5] END criterion=gini, max_depth=4, n_estimators=100;, score=1.000 total time=   0.2s\n",
            "[CV 5/5] END criterion=gini, max_depth=4, n_estimators=100;, score=1.000 total time=   0.2s\n",
            "[CV 1/5] END criterion=gini, max_depth=4, n_estimators=200;, score=0.923 total time=   0.4s\n",
            "[CV 2/5] END criterion=gini, max_depth=4, n_estimators=200;, score=0.974 total time=   0.4s\n",
            "[CV 3/5] END criterion=gini, max_depth=4, n_estimators=200;, score=1.000 total time=   0.4s\n",
            "[CV 4/5] END criterion=gini, max_depth=4, n_estimators=200;, score=1.000 total time=   0.4s\n",
            "[CV 5/5] END criterion=gini, max_depth=4, n_estimators=200;, score=1.000 total time=   0.4s\n",
            "[CV 1/5] END criterion=gini, max_depth=4, n_estimators=300;, score=0.923 total time=   0.6s\n",
            "[CV 2/5] END criterion=gini, max_depth=4, n_estimators=300;, score=0.974 total time=   0.6s\n",
            "[CV 3/5] END criterion=gini, max_depth=4, n_estimators=300;, score=1.000 total time=   0.6s\n",
            "[CV 4/5] END criterion=gini, max_depth=4, n_estimators=300;, score=1.000 total time=   0.6s\n",
            "[CV 5/5] END criterion=gini, max_depth=4, n_estimators=300;, score=1.000 total time=   0.6s\n",
            "[CV 1/5] END criterion=gini, max_depth=4, n_estimators=400;, score=0.923 total time=   0.7s\n",
            "[CV 2/5] END criterion=gini, max_depth=4, n_estimators=400;, score=0.974 total time=   0.7s\n",
            "[CV 3/5] END criterion=gini, max_depth=4, n_estimators=400;, score=1.000 total time=   0.7s\n",
            "[CV 4/5] END criterion=gini, max_depth=4, n_estimators=400;, score=1.000 total time=   0.8s\n",
            "[CV 5/5] END criterion=gini, max_depth=4, n_estimators=400;, score=1.000 total time=   0.7s\n",
            "[CV 1/5] END criterion=gini, max_depth=4, n_estimators=1000;, score=0.923 total time=   1.9s\n",
            "[CV 2/5] END criterion=gini, max_depth=4, n_estimators=1000;, score=0.974 total time=   1.9s\n",
            "[CV 3/5] END criterion=gini, max_depth=4, n_estimators=1000;, score=1.000 total time=   1.9s\n",
            "[CV 4/5] END criterion=gini, max_depth=4, n_estimators=1000;, score=1.000 total time=   1.8s\n",
            "[CV 5/5] END criterion=gini, max_depth=4, n_estimators=1000;, score=1.000 total time=   1.8s\n",
            "[CV 1/5] END criterion=gini, max_depth=10, n_estimators=50;, score=0.923 total time=   0.1s\n",
            "[CV 2/5] END criterion=gini, max_depth=10, n_estimators=50;, score=0.949 total time=   0.1s\n",
            "[CV 3/5] END criterion=gini, max_depth=10, n_estimators=50;, score=1.000 total time=   0.1s\n",
            "[CV 4/5] END criterion=gini, max_depth=10, n_estimators=50;, score=0.974 total time=   0.1s\n",
            "[CV 5/5] END criterion=gini, max_depth=10, n_estimators=50;, score=0.974 total time=   0.1s\n",
            "[CV 1/5] END criterion=gini, max_depth=10, n_estimators=100;, score=0.923 total time=   0.2s\n",
            "[CV 2/5] END criterion=gini, max_depth=10, n_estimators=100;, score=0.949 total time=   0.2s\n",
            "[CV 3/5] END criterion=gini, max_depth=10, n_estimators=100;, score=1.000 total time=   0.2s\n",
            "[CV 4/5] END criterion=gini, max_depth=10, n_estimators=100;, score=0.974 total time=   0.2s\n",
            "[CV 5/5] END criterion=gini, max_depth=10, n_estimators=100;, score=0.974 total time=   0.2s\n",
            "[CV 1/5] END criterion=gini, max_depth=10, n_estimators=200;, score=0.923 total time=   0.4s\n",
            "[CV 2/5] END criterion=gini, max_depth=10, n_estimators=200;, score=0.949 total time=   0.4s\n",
            "[CV 3/5] END criterion=gini, max_depth=10, n_estimators=200;, score=1.000 total time=   0.4s\n",
            "[CV 4/5] END criterion=gini, max_depth=10, n_estimators=200;, score=0.974 total time=   0.4s\n",
            "[CV 5/5] END criterion=gini, max_depth=10, n_estimators=200;, score=0.974 total time=   0.4s\n",
            "[CV 1/5] END criterion=gini, max_depth=10, n_estimators=300;, score=0.923 total time=   0.6s\n",
            "[CV 2/5] END criterion=gini, max_depth=10, n_estimators=300;, score=0.974 total time=   0.6s\n",
            "[CV 3/5] END criterion=gini, max_depth=10, n_estimators=300;, score=1.000 total time=   0.6s\n",
            "[CV 4/5] END criterion=gini, max_depth=10, n_estimators=300;, score=0.974 total time=   0.6s\n",
            "[CV 5/5] END criterion=gini, max_depth=10, n_estimators=300;, score=0.974 total time=   0.6s\n",
            "[CV 1/5] END criterion=gini, max_depth=10, n_estimators=400;, score=0.923 total time=   0.7s\n",
            "[CV 2/5] END criterion=gini, max_depth=10, n_estimators=400;, score=0.949 total time=   0.8s\n",
            "[CV 3/5] END criterion=gini, max_depth=10, n_estimators=400;, score=1.000 total time=   0.7s\n",
            "[CV 4/5] END criterion=gini, max_depth=10, n_estimators=400;, score=0.974 total time=   0.7s\n",
            "[CV 5/5] END criterion=gini, max_depth=10, n_estimators=400;, score=0.974 total time=   0.8s\n",
            "[CV 1/5] END criterion=gini, max_depth=10, n_estimators=1000;, score=0.923 total time=   1.9s\n",
            "[CV 2/5] END criterion=gini, max_depth=10, n_estimators=1000;, score=0.949 total time=   1.9s\n",
            "[CV 3/5] END criterion=gini, max_depth=10, n_estimators=1000;, score=1.000 total time=   1.8s\n",
            "[CV 4/5] END criterion=gini, max_depth=10, n_estimators=1000;, score=0.974 total time=   1.9s\n",
            "[CV 5/5] END criterion=gini, max_depth=10, n_estimators=1000;, score=0.974 total time=   1.8s\n",
            "[CV 1/5] END criterion=gini, max_depth=20, n_estimators=50;, score=0.923 total time=   0.1s\n",
            "[CV 2/5] END criterion=gini, max_depth=20, n_estimators=50;, score=0.949 total time=   0.1s\n",
            "[CV 3/5] END criterion=gini, max_depth=20, n_estimators=50;, score=1.000 total time=   0.1s\n",
            "[CV 4/5] END criterion=gini, max_depth=20, n_estimators=50;, score=0.974 total time=   0.1s\n",
            "[CV 5/5] END criterion=gini, max_depth=20, n_estimators=50;, score=0.974 total time=   0.1s\n",
            "[CV 1/5] END criterion=gini, max_depth=20, n_estimators=100;, score=0.923 total time=   0.2s\n",
            "[CV 2/5] END criterion=gini, max_depth=20, n_estimators=100;, score=0.949 total time=   0.2s\n",
            "[CV 3/5] END criterion=gini, max_depth=20, n_estimators=100;, score=1.000 total time=   0.2s\n",
            "[CV 4/5] END criterion=gini, max_depth=20, n_estimators=100;, score=0.974 total time=   0.2s\n",
            "[CV 5/5] END criterion=gini, max_depth=20, n_estimators=100;, score=0.974 total time=   0.2s\n",
            "[CV 1/5] END criterion=gini, max_depth=20, n_estimators=200;, score=0.923 total time=   0.4s\n",
            "[CV 2/5] END criterion=gini, max_depth=20, n_estimators=200;, score=0.949 total time=   0.4s\n",
            "[CV 3/5] END criterion=gini, max_depth=20, n_estimators=200;, score=1.000 total time=   0.4s\n",
            "[CV 4/5] END criterion=gini, max_depth=20, n_estimators=200;, score=0.974 total time=   0.4s\n",
            "[CV 5/5] END criterion=gini, max_depth=20, n_estimators=200;, score=0.974 total time=   0.4s\n",
            "[CV 1/5] END criterion=gini, max_depth=20, n_estimators=300;, score=0.923 total time=   0.6s\n",
            "[CV 2/5] END criterion=gini, max_depth=20, n_estimators=300;, score=0.949 total time=   0.6s\n",
            "[CV 3/5] END criterion=gini, max_depth=20, n_estimators=300;, score=1.000 total time=   0.6s\n",
            "[CV 4/5] END criterion=gini, max_depth=20, n_estimators=300;, score=0.974 total time=   0.6s\n",
            "[CV 5/5] END criterion=gini, max_depth=20, n_estimators=300;, score=0.974 total time=   0.6s\n",
            "[CV 1/5] END criterion=gini, max_depth=20, n_estimators=400;, score=0.923 total time=   0.8s\n",
            "[CV 2/5] END criterion=gini, max_depth=20, n_estimators=400;, score=0.949 total time=   0.8s\n",
            "[CV 3/5] END criterion=gini, max_depth=20, n_estimators=400;, score=1.000 total time=   0.7s\n",
            "[CV 4/5] END criterion=gini, max_depth=20, n_estimators=400;, score=0.974 total time=   0.8s\n",
            "[CV 5/5] END criterion=gini, max_depth=20, n_estimators=400;, score=0.974 total time=   0.8s\n",
            "[CV 1/5] END criterion=gini, max_depth=20, n_estimators=1000;, score=0.923 total time=   1.9s\n",
            "[CV 2/5] END criterion=gini, max_depth=20, n_estimators=1000;, score=0.949 total time=   1.9s\n",
            "[CV 3/5] END criterion=gini, max_depth=20, n_estimators=1000;, score=1.000 total time=   1.9s\n",
            "[CV 4/5] END criterion=gini, max_depth=20, n_estimators=1000;, score=0.974 total time=   1.9s\n",
            "[CV 5/5] END criterion=gini, max_depth=20, n_estimators=1000;, score=0.974 total time=   1.9s\n",
            "[CV 1/5] END criterion=gini, max_depth=30, n_estimators=50;, score=0.923 total time=   0.1s\n",
            "[CV 2/5] END criterion=gini, max_depth=30, n_estimators=50;, score=0.974 total time=   0.1s\n",
            "[CV 3/5] END criterion=gini, max_depth=30, n_estimators=50;, score=1.000 total time=   0.1s\n",
            "[CV 4/5] END criterion=gini, max_depth=30, n_estimators=50;, score=1.000 total time=   0.1s\n",
            "[CV 5/5] END criterion=gini, max_depth=30, n_estimators=50;, score=0.974 total time=   0.1s\n",
            "[CV 1/5] END criterion=gini, max_depth=30, n_estimators=100;, score=0.923 total time=   0.2s\n",
            "[CV 2/5] END criterion=gini, max_depth=30, n_estimators=100;, score=0.949 total time=   0.2s\n",
            "[CV 3/5] END criterion=gini, max_depth=30, n_estimators=100;, score=1.000 total time=   0.2s\n",
            "[CV 4/5] END criterion=gini, max_depth=30, n_estimators=100;, score=0.974 total time=   0.2s\n",
            "[CV 5/5] END criterion=gini, max_depth=30, n_estimators=100;, score=0.974 total time=   0.2s\n",
            "[CV 1/5] END criterion=gini, max_depth=30, n_estimators=200;, score=0.923 total time=   0.4s\n",
            "[CV 2/5] END criterion=gini, max_depth=30, n_estimators=200;, score=0.949 total time=   0.4s\n",
            "[CV 3/5] END criterion=gini, max_depth=30, n_estimators=200;, score=1.000 total time=   0.4s\n",
            "[CV 4/5] END criterion=gini, max_depth=30, n_estimators=200;, score=0.974 total time=   0.4s\n",
            "[CV 5/5] END criterion=gini, max_depth=30, n_estimators=200;, score=0.974 total time=   0.4s\n",
            "[CV 1/5] END criterion=gini, max_depth=30, n_estimators=300;, score=0.923 total time=   0.6s\n",
            "[CV 2/5] END criterion=gini, max_depth=30, n_estimators=300;, score=0.949 total time=   0.6s\n",
            "[CV 3/5] END criterion=gini, max_depth=30, n_estimators=300;, score=1.000 total time=   0.6s\n",
            "[CV 4/5] END criterion=gini, max_depth=30, n_estimators=300;, score=0.974 total time=   0.6s\n",
            "[CV 5/5] END criterion=gini, max_depth=30, n_estimators=300;, score=0.974 total time=   0.6s\n",
            "[CV 1/5] END criterion=gini, max_depth=30, n_estimators=400;, score=0.923 total time=   0.7s\n",
            "[CV 2/5] END criterion=gini, max_depth=30, n_estimators=400;, score=0.949 total time=   0.8s\n",
            "[CV 3/5] END criterion=gini, max_depth=30, n_estimators=400;, score=1.000 total time=   0.8s\n",
            "[CV 4/5] END criterion=gini, max_depth=30, n_estimators=400;, score=0.974 total time=   0.9s\n",
            "[CV 5/5] END criterion=gini, max_depth=30, n_estimators=400;, score=0.974 total time=   0.8s\n",
            "[CV 1/5] END criterion=gini, max_depth=30, n_estimators=1000;, score=0.923 total time=   1.9s\n",
            "[CV 2/5] END criterion=gini, max_depth=30, n_estimators=1000;, score=0.974 total time=   1.9s\n",
            "[CV 3/5] END criterion=gini, max_depth=30, n_estimators=1000;, score=1.000 total time=   1.9s\n",
            "[CV 4/5] END criterion=gini, max_depth=30, n_estimators=1000;, score=0.974 total time=   1.9s\n",
            "[CV 5/5] END criterion=gini, max_depth=30, n_estimators=1000;, score=0.974 total time=   1.9s\n",
            "[CV 1/5] END criterion=entropy, max_depth=1, n_estimators=50;, score=0.923 total time=   0.1s\n",
            "[CV 2/5] END criterion=entropy, max_depth=1, n_estimators=50;, score=0.718 total time=   0.1s\n",
            "[CV 3/5] END criterion=entropy, max_depth=1, n_estimators=50;, score=1.000 total time=   0.1s\n",
            "[CV 4/5] END criterion=entropy, max_depth=1, n_estimators=50;, score=0.949 total time=   0.1s\n",
            "[CV 5/5] END criterion=entropy, max_depth=1, n_estimators=50;, score=0.897 total time=   0.1s\n",
            "[CV 1/5] END criterion=entropy, max_depth=1, n_estimators=100;, score=0.923 total time=   0.2s\n",
            "[CV 2/5] END criterion=entropy, max_depth=1, n_estimators=100;, score=0.974 total time=   0.2s\n",
            "[CV 3/5] END criterion=entropy, max_depth=1, n_estimators=100;, score=0.795 total time=   0.2s\n",
            "[CV 4/5] END criterion=entropy, max_depth=1, n_estimators=100;, score=0.949 total time=   0.2s\n",
            "[CV 5/5] END criterion=entropy, max_depth=1, n_estimators=100;, score=1.000 total time=   0.2s\n",
            "[CV 1/5] END criterion=entropy, max_depth=1, n_estimators=200;, score=0.923 total time=   0.4s\n",
            "[CV 2/5] END criterion=entropy, max_depth=1, n_estimators=200;, score=0.974 total time=   0.4s\n",
            "[CV 3/5] END criterion=entropy, max_depth=1, n_estimators=200;, score=1.000 total time=   0.4s\n",
            "[CV 4/5] END criterion=entropy, max_depth=1, n_estimators=200;, score=0.949 total time=   0.4s\n",
            "[CV 5/5] END criterion=entropy, max_depth=1, n_estimators=200;, score=0.923 total time=   0.4s\n",
            "[CV 1/5] END criterion=entropy, max_depth=1, n_estimators=300;, score=0.923 total time=   0.6s\n",
            "[CV 2/5] END criterion=entropy, max_depth=1, n_estimators=300;, score=0.974 total time=   0.6s\n",
            "[CV 3/5] END criterion=entropy, max_depth=1, n_estimators=300;, score=1.000 total time=   0.6s\n",
            "[CV 4/5] END criterion=entropy, max_depth=1, n_estimators=300;, score=0.949 total time=   0.6s\n",
            "[CV 5/5] END criterion=entropy, max_depth=1, n_estimators=300;, score=1.000 total time=   0.5s\n",
            "[CV 1/5] END criterion=entropy, max_depth=1, n_estimators=400;, score=0.923 total time=   0.7s\n",
            "[CV 2/5] END criterion=entropy, max_depth=1, n_estimators=400;, score=0.974 total time=   0.7s\n",
            "[CV 3/5] END criterion=entropy, max_depth=1, n_estimators=400;, score=1.000 total time=   0.7s\n",
            "[CV 4/5] END criterion=entropy, max_depth=1, n_estimators=400;, score=1.000 total time=   0.7s\n",
            "[CV 5/5] END criterion=entropy, max_depth=1, n_estimators=400;, score=1.000 total time=   0.8s\n",
            "[CV 1/5] END criterion=entropy, max_depth=1, n_estimators=1000;, score=0.923 total time=   1.8s\n",
            "[CV 2/5] END criterion=entropy, max_depth=1, n_estimators=1000;, score=0.974 total time=   1.8s\n",
            "[CV 3/5] END criterion=entropy, max_depth=1, n_estimators=1000;, score=1.000 total time=   1.8s\n",
            "[CV 4/5] END criterion=entropy, max_depth=1, n_estimators=1000;, score=1.000 total time=   1.8s\n",
            "[CV 5/5] END criterion=entropy, max_depth=1, n_estimators=1000;, score=1.000 total time=   1.9s\n",
            "[CV 1/5] END criterion=entropy, max_depth=2, n_estimators=50;, score=0.923 total time=   0.1s\n",
            "[CV 2/5] END criterion=entropy, max_depth=2, n_estimators=50;, score=0.974 total time=   0.1s\n",
            "[CV 3/5] END criterion=entropy, max_depth=2, n_estimators=50;, score=1.000 total time=   0.1s\n",
            "[CV 4/5] END criterion=entropy, max_depth=2, n_estimators=50;, score=1.000 total time=   0.1s\n",
            "[CV 5/5] END criterion=entropy, max_depth=2, n_estimators=50;, score=1.000 total time=   0.1s\n",
            "[CV 1/5] END criterion=entropy, max_depth=2, n_estimators=100;, score=0.923 total time=   0.2s\n",
            "[CV 2/5] END criterion=entropy, max_depth=2, n_estimators=100;, score=0.974 total time=   0.2s\n",
            "[CV 3/5] END criterion=entropy, max_depth=2, n_estimators=100;, score=1.000 total time=   0.2s\n",
            "[CV 4/5] END criterion=entropy, max_depth=2, n_estimators=100;, score=1.000 total time=   0.2s\n",
            "[CV 5/5] END criterion=entropy, max_depth=2, n_estimators=100;, score=1.000 total time=   0.2s\n",
            "[CV 1/5] END criterion=entropy, max_depth=2, n_estimators=200;, score=0.923 total time=   0.4s\n",
            "[CV 2/5] END criterion=entropy, max_depth=2, n_estimators=200;, score=0.974 total time=   0.4s\n",
            "[CV 3/5] END criterion=entropy, max_depth=2, n_estimators=200;, score=1.000 total time=   0.4s\n",
            "[CV 4/5] END criterion=entropy, max_depth=2, n_estimators=200;, score=1.000 total time=   0.4s\n",
            "[CV 5/5] END criterion=entropy, max_depth=2, n_estimators=200;, score=1.000 total time=   0.4s\n",
            "[CV 1/5] END criterion=entropy, max_depth=2, n_estimators=300;, score=0.923 total time=   0.6s\n",
            "[CV 2/5] END criterion=entropy, max_depth=2, n_estimators=300;, score=0.974 total time=   0.6s\n",
            "[CV 3/5] END criterion=entropy, max_depth=2, n_estimators=300;, score=1.000 total time=   0.6s\n",
            "[CV 4/5] END criterion=entropy, max_depth=2, n_estimators=300;, score=1.000 total time=   0.6s\n",
            "[CV 5/5] END criterion=entropy, max_depth=2, n_estimators=300;, score=1.000 total time=   0.6s\n",
            "[CV 1/5] END criterion=entropy, max_depth=2, n_estimators=400;, score=0.923 total time=   0.7s\n",
            "[CV 2/5] END criterion=entropy, max_depth=2, n_estimators=400;, score=0.974 total time=   0.7s\n",
            "[CV 3/5] END criterion=entropy, max_depth=2, n_estimators=400;, score=1.000 total time=   0.7s\n",
            "[CV 4/5] END criterion=entropy, max_depth=2, n_estimators=400;, score=1.000 total time=   0.7s\n",
            "[CV 5/5] END criterion=entropy, max_depth=2, n_estimators=400;, score=1.000 total time=   0.8s\n",
            "[CV 1/5] END criterion=entropy, max_depth=2, n_estimators=1000;, score=0.923 total time=   1.8s\n",
            "[CV 2/5] END criterion=entropy, max_depth=2, n_estimators=1000;, score=0.974 total time=   1.8s\n",
            "[CV 3/5] END criterion=entropy, max_depth=2, n_estimators=1000;, score=1.000 total time=   1.9s\n",
            "[CV 4/5] END criterion=entropy, max_depth=2, n_estimators=1000;, score=1.000 total time=   1.9s\n",
            "[CV 5/5] END criterion=entropy, max_depth=2, n_estimators=1000;, score=1.000 total time=   1.9s\n",
            "[CV 1/5] END criterion=entropy, max_depth=3, n_estimators=50;, score=0.923 total time=   0.1s\n",
            "[CV 2/5] END criterion=entropy, max_depth=3, n_estimators=50;, score=0.974 total time=   0.1s\n",
            "[CV 3/5] END criterion=entropy, max_depth=3, n_estimators=50;, score=1.000 total time=   0.1s\n",
            "[CV 4/5] END criterion=entropy, max_depth=3, n_estimators=50;, score=1.000 total time=   0.1s\n",
            "[CV 5/5] END criterion=entropy, max_depth=3, n_estimators=50;, score=1.000 total time=   0.1s\n",
            "[CV 1/5] END criterion=entropy, max_depth=3, n_estimators=100;, score=0.923 total time=   0.2s\n",
            "[CV 2/5] END criterion=entropy, max_depth=3, n_estimators=100;, score=0.974 total time=   0.2s\n",
            "[CV 3/5] END criterion=entropy, max_depth=3, n_estimators=100;, score=1.000 total time=   0.2s\n",
            "[CV 4/5] END criterion=entropy, max_depth=3, n_estimators=100;, score=1.000 total time=   0.2s\n",
            "[CV 5/5] END criterion=entropy, max_depth=3, n_estimators=100;, score=1.000 total time=   0.2s\n",
            "[CV 1/5] END criterion=entropy, max_depth=3, n_estimators=200;, score=0.923 total time=   0.4s\n",
            "[CV 2/5] END criterion=entropy, max_depth=3, n_estimators=200;, score=0.974 total time=   0.4s\n",
            "[CV 3/5] END criterion=entropy, max_depth=3, n_estimators=200;, score=1.000 total time=   0.4s\n",
            "[CV 4/5] END criterion=entropy, max_depth=3, n_estimators=200;, score=1.000 total time=   0.4s\n",
            "[CV 5/5] END criterion=entropy, max_depth=3, n_estimators=200;, score=1.000 total time=   0.4s\n",
            "[CV 1/5] END criterion=entropy, max_depth=3, n_estimators=300;, score=0.923 total time=   0.6s\n",
            "[CV 2/5] END criterion=entropy, max_depth=3, n_estimators=300;, score=0.974 total time=   0.6s\n",
            "[CV 3/5] END criterion=entropy, max_depth=3, n_estimators=300;, score=1.000 total time=   0.6s\n",
            "[CV 4/5] END criterion=entropy, max_depth=3, n_estimators=300;, score=1.000 total time=   0.6s\n",
            "[CV 5/5] END criterion=entropy, max_depth=3, n_estimators=300;, score=1.000 total time=   0.6s\n",
            "[CV 1/5] END criterion=entropy, max_depth=3, n_estimators=400;, score=0.923 total time=   0.7s\n",
            "[CV 2/5] END criterion=entropy, max_depth=3, n_estimators=400;, score=0.974 total time=   0.8s\n",
            "[CV 3/5] END criterion=entropy, max_depth=3, n_estimators=400;, score=1.000 total time=   0.7s\n",
            "[CV 4/5] END criterion=entropy, max_depth=3, n_estimators=400;, score=1.000 total time=   0.8s\n",
            "[CV 5/5] END criterion=entropy, max_depth=3, n_estimators=400;, score=1.000 total time=   0.7s\n",
            "[CV 1/5] END criterion=entropy, max_depth=3, n_estimators=1000;, score=0.923 total time=   1.9s\n",
            "[CV 2/5] END criterion=entropy, max_depth=3, n_estimators=1000;, score=0.974 total time=   1.8s\n",
            "[CV 3/5] END criterion=entropy, max_depth=3, n_estimators=1000;, score=1.000 total time=   1.8s\n",
            "[CV 4/5] END criterion=entropy, max_depth=3, n_estimators=1000;, score=1.000 total time=   1.9s\n",
            "[CV 5/5] END criterion=entropy, max_depth=3, n_estimators=1000;, score=1.000 total time=   1.9s\n",
            "[CV 1/5] END criterion=entropy, max_depth=4, n_estimators=50;, score=0.923 total time=   0.1s\n",
            "[CV 2/5] END criterion=entropy, max_depth=4, n_estimators=50;, score=0.974 total time=   0.1s\n",
            "[CV 3/5] END criterion=entropy, max_depth=4, n_estimators=50;, score=1.000 total time=   0.1s\n",
            "[CV 4/5] END criterion=entropy, max_depth=4, n_estimators=50;, score=1.000 total time=   0.1s\n",
            "[CV 5/5] END criterion=entropy, max_depth=4, n_estimators=50;, score=1.000 total time=   0.1s\n",
            "[CV 1/5] END criterion=entropy, max_depth=4, n_estimators=100;, score=0.923 total time=   0.2s\n",
            "[CV 2/5] END criterion=entropy, max_depth=4, n_estimators=100;, score=0.974 total time=   0.2s\n",
            "[CV 3/5] END criterion=entropy, max_depth=4, n_estimators=100;, score=1.000 total time=   0.2s\n",
            "[CV 4/5] END criterion=entropy, max_depth=4, n_estimators=100;, score=1.000 total time=   0.2s\n",
            "[CV 5/5] END criterion=entropy, max_depth=4, n_estimators=100;, score=1.000 total time=   0.2s\n",
            "[CV 1/5] END criterion=entropy, max_depth=4, n_estimators=200;, score=0.923 total time=   0.4s\n",
            "[CV 2/5] END criterion=entropy, max_depth=4, n_estimators=200;, score=0.974 total time=   0.4s\n",
            "[CV 3/5] END criterion=entropy, max_depth=4, n_estimators=200;, score=1.000 total time=   0.4s\n",
            "[CV 4/5] END criterion=entropy, max_depth=4, n_estimators=200;, score=1.000 total time=   0.4s\n",
            "[CV 5/5] END criterion=entropy, max_depth=4, n_estimators=200;, score=1.000 total time=   0.4s\n",
            "[CV 1/5] END criterion=entropy, max_depth=4, n_estimators=300;, score=0.923 total time=   0.6s\n",
            "[CV 2/5] END criterion=entropy, max_depth=4, n_estimators=300;, score=0.974 total time=   0.6s\n",
            "[CV 3/5] END criterion=entropy, max_depth=4, n_estimators=300;, score=1.000 total time=   0.6s\n",
            "[CV 4/5] END criterion=entropy, max_depth=4, n_estimators=300;, score=1.000 total time=   0.6s\n",
            "[CV 5/5] END criterion=entropy, max_depth=4, n_estimators=300;, score=1.000 total time=   0.6s\n",
            "[CV 1/5] END criterion=entropy, max_depth=4, n_estimators=400;, score=0.923 total time=   0.8s\n",
            "[CV 2/5] END criterion=entropy, max_depth=4, n_estimators=400;, score=0.974 total time=   0.8s\n",
            "[CV 3/5] END criterion=entropy, max_depth=4, n_estimators=400;, score=1.000 total time=   0.7s\n",
            "[CV 4/5] END criterion=entropy, max_depth=4, n_estimators=400;, score=1.000 total time=   0.8s\n",
            "[CV 5/5] END criterion=entropy, max_depth=4, n_estimators=400;, score=1.000 total time=   0.7s\n",
            "[CV 1/5] END criterion=entropy, max_depth=4, n_estimators=1000;, score=0.923 total time=   1.8s\n",
            "[CV 2/5] END criterion=entropy, max_depth=4, n_estimators=1000;, score=0.974 total time=   1.9s\n",
            "[CV 3/5] END criterion=entropy, max_depth=4, n_estimators=1000;, score=1.000 total time=   1.9s\n",
            "[CV 4/5] END criterion=entropy, max_depth=4, n_estimators=1000;, score=1.000 total time=   1.9s\n",
            "[CV 5/5] END criterion=entropy, max_depth=4, n_estimators=1000;, score=1.000 total time=   1.9s\n",
            "[CV 1/5] END criterion=entropy, max_depth=10, n_estimators=50;, score=0.923 total time=   0.1s\n",
            "[CV 2/5] END criterion=entropy, max_depth=10, n_estimators=50;, score=0.949 total time=   0.1s\n",
            "[CV 3/5] END criterion=entropy, max_depth=10, n_estimators=50;, score=1.000 total time=   0.1s\n",
            "[CV 4/5] END criterion=entropy, max_depth=10, n_estimators=50;, score=1.000 total time=   0.1s\n",
            "[CV 5/5] END criterion=entropy, max_depth=10, n_estimators=50;, score=0.974 total time=   0.1s\n",
            "[CV 1/5] END criterion=entropy, max_depth=10, n_estimators=100;, score=0.923 total time=   0.2s\n",
            "[CV 2/5] END criterion=entropy, max_depth=10, n_estimators=100;, score=0.949 total time=   0.2s\n",
            "[CV 3/5] END criterion=entropy, max_depth=10, n_estimators=100;, score=1.000 total time=   0.2s\n",
            "[CV 4/5] END criterion=entropy, max_depth=10, n_estimators=100;, score=1.000 total time=   0.2s\n",
            "[CV 5/5] END criterion=entropy, max_depth=10, n_estimators=100;, score=0.974 total time=   0.2s\n",
            "[CV 1/5] END criterion=entropy, max_depth=10, n_estimators=200;, score=0.923 total time=   0.4s\n",
            "[CV 2/5] END criterion=entropy, max_depth=10, n_estimators=200;, score=0.974 total time=   0.4s\n",
            "[CV 3/5] END criterion=entropy, max_depth=10, n_estimators=200;, score=1.000 total time=   0.4s\n",
            "[CV 4/5] END criterion=entropy, max_depth=10, n_estimators=200;, score=0.974 total time=   0.4s\n",
            "[CV 5/5] END criterion=entropy, max_depth=10, n_estimators=200;, score=0.974 total time=   0.4s\n",
            "[CV 1/5] END criterion=entropy, max_depth=10, n_estimators=300;, score=0.923 total time=   0.6s\n",
            "[CV 2/5] END criterion=entropy, max_depth=10, n_estimators=300;, score=0.949 total time=   0.6s\n",
            "[CV 3/5] END criterion=entropy, max_depth=10, n_estimators=300;, score=1.000 total time=   0.6s\n",
            "[CV 4/5] END criterion=entropy, max_depth=10, n_estimators=300;, score=0.974 total time=   0.6s\n",
            "[CV 5/5] END criterion=entropy, max_depth=10, n_estimators=300;, score=0.974 total time=   0.6s\n",
            "[CV 1/5] END criterion=entropy, max_depth=10, n_estimators=400;, score=0.923 total time=   0.7s\n",
            "[CV 2/5] END criterion=entropy, max_depth=10, n_estimators=400;, score=0.949 total time=   0.8s\n",
            "[CV 3/5] END criterion=entropy, max_depth=10, n_estimators=400;, score=1.000 total time=   0.8s\n",
            "[CV 4/5] END criterion=entropy, max_depth=10, n_estimators=400;, score=0.974 total time=   0.8s\n",
            "[CV 5/5] END criterion=entropy, max_depth=10, n_estimators=400;, score=0.974 total time=   0.9s\n",
            "[CV 1/5] END criterion=entropy, max_depth=10, n_estimators=1000;, score=0.923 total time=   1.9s\n",
            "[CV 2/5] END criterion=entropy, max_depth=10, n_estimators=1000;, score=0.949 total time=   1.9s\n",
            "[CV 3/5] END criterion=entropy, max_depth=10, n_estimators=1000;, score=1.000 total time=   1.9s\n",
            "[CV 4/5] END criterion=entropy, max_depth=10, n_estimators=1000;, score=0.974 total time=   1.9s\n",
            "[CV 5/5] END criterion=entropy, max_depth=10, n_estimators=1000;, score=0.974 total time=   1.9s\n",
            "[CV 1/5] END criterion=entropy, max_depth=20, n_estimators=50;, score=0.923 total time=   0.1s\n",
            "[CV 2/5] END criterion=entropy, max_depth=20, n_estimators=50;, score=0.974 total time=   0.1s\n",
            "[CV 3/5] END criterion=entropy, max_depth=20, n_estimators=50;, score=1.000 total time=   0.1s\n",
            "[CV 4/5] END criterion=entropy, max_depth=20, n_estimators=50;, score=0.974 total time=   0.1s\n",
            "[CV 5/5] END criterion=entropy, max_depth=20, n_estimators=50;, score=0.974 total time=   0.1s\n",
            "[CV 1/5] END criterion=entropy, max_depth=20, n_estimators=100;, score=0.923 total time=   0.2s\n",
            "[CV 2/5] END criterion=entropy, max_depth=20, n_estimators=100;, score=0.949 total time=   0.2s\n",
            "[CV 3/5] END criterion=entropy, max_depth=20, n_estimators=100;, score=1.000 total time=   0.2s\n",
            "[CV 4/5] END criterion=entropy, max_depth=20, n_estimators=100;, score=0.974 total time=   0.2s\n",
            "[CV 5/5] END criterion=entropy, max_depth=20, n_estimators=100;, score=0.974 total time=   0.2s\n",
            "[CV 1/5] END criterion=entropy, max_depth=20, n_estimators=200;, score=0.923 total time=   0.4s\n",
            "[CV 2/5] END criterion=entropy, max_depth=20, n_estimators=200;, score=0.949 total time=   0.4s\n",
            "[CV 3/5] END criterion=entropy, max_depth=20, n_estimators=200;, score=1.000 total time=   0.4s\n",
            "[CV 4/5] END criterion=entropy, max_depth=20, n_estimators=200;, score=0.974 total time=   0.4s\n",
            "[CV 5/5] END criterion=entropy, max_depth=20, n_estimators=200;, score=0.974 total time=   0.4s\n",
            "[CV 1/5] END criterion=entropy, max_depth=20, n_estimators=300;, score=0.923 total time=   0.6s\n",
            "[CV 2/5] END criterion=entropy, max_depth=20, n_estimators=300;, score=0.949 total time=   0.6s\n",
            "[CV 3/5] END criterion=entropy, max_depth=20, n_estimators=300;, score=1.000 total time=   0.6s\n",
            "[CV 4/5] END criterion=entropy, max_depth=20, n_estimators=300;, score=0.974 total time=   0.6s\n",
            "[CV 5/5] END criterion=entropy, max_depth=20, n_estimators=300;, score=0.974 total time=   0.6s\n",
            "[CV 1/5] END criterion=entropy, max_depth=20, n_estimators=400;, score=0.923 total time=   0.7s\n",
            "[CV 2/5] END criterion=entropy, max_depth=20, n_estimators=400;, score=0.949 total time=   0.8s\n",
            "[CV 3/5] END criterion=entropy, max_depth=20, n_estimators=400;, score=1.000 total time=   0.7s\n",
            "[CV 4/5] END criterion=entropy, max_depth=20, n_estimators=400;, score=0.974 total time=   0.7s\n",
            "[CV 5/5] END criterion=entropy, max_depth=20, n_estimators=400;, score=0.974 total time=   0.8s\n",
            "[CV 1/5] END criterion=entropy, max_depth=20, n_estimators=1000;, score=0.923 total time=   1.9s\n",
            "[CV 2/5] END criterion=entropy, max_depth=20, n_estimators=1000;, score=0.949 total time=   1.9s\n",
            "[CV 3/5] END criterion=entropy, max_depth=20, n_estimators=1000;, score=1.000 total time=   1.9s\n",
            "[CV 4/5] END criterion=entropy, max_depth=20, n_estimators=1000;, score=0.974 total time=   1.9s\n",
            "[CV 5/5] END criterion=entropy, max_depth=20, n_estimators=1000;, score=0.974 total time=   1.9s\n",
            "[CV 1/5] END criterion=entropy, max_depth=30, n_estimators=50;, score=0.923 total time=   0.1s\n",
            "[CV 2/5] END criterion=entropy, max_depth=30, n_estimators=50;, score=0.974 total time=   0.1s\n",
            "[CV 3/5] END criterion=entropy, max_depth=30, n_estimators=50;, score=1.000 total time=   0.1s\n",
            "[CV 4/5] END criterion=entropy, max_depth=30, n_estimators=50;, score=0.974 total time=   0.1s\n",
            "[CV 5/5] END criterion=entropy, max_depth=30, n_estimators=50;, score=0.974 total time=   0.1s\n",
            "[CV 1/5] END criterion=entropy, max_depth=30, n_estimators=100;, score=0.923 total time=   0.2s\n",
            "[CV 2/5] END criterion=entropy, max_depth=30, n_estimators=100;, score=0.949 total time=   0.2s\n",
            "[CV 3/5] END criterion=entropy, max_depth=30, n_estimators=100;, score=1.000 total time=   0.2s\n",
            "[CV 4/5] END criterion=entropy, max_depth=30, n_estimators=100;, score=0.974 total time=   0.2s\n",
            "[CV 5/5] END criterion=entropy, max_depth=30, n_estimators=100;, score=0.974 total time=   0.2s\n",
            "[CV 1/5] END criterion=entropy, max_depth=30, n_estimators=200;, score=0.923 total time=   0.4s\n",
            "[CV 2/5] END criterion=entropy, max_depth=30, n_estimators=200;, score=0.949 total time=   0.4s\n",
            "[CV 3/5] END criterion=entropy, max_depth=30, n_estimators=200;, score=1.000 total time=   0.4s\n",
            "[CV 4/5] END criterion=entropy, max_depth=30, n_estimators=200;, score=1.000 total time=   0.4s\n",
            "[CV 5/5] END criterion=entropy, max_depth=30, n_estimators=200;, score=0.974 total time=   0.4s\n",
            "[CV 1/5] END criterion=entropy, max_depth=30, n_estimators=300;, score=0.923 total time=   0.6s\n",
            "[CV 2/5] END criterion=entropy, max_depth=30, n_estimators=300;, score=0.949 total time=   0.6s\n",
            "[CV 3/5] END criterion=entropy, max_depth=30, n_estimators=300;, score=1.000 total time=   0.6s\n",
            "[CV 4/5] END criterion=entropy, max_depth=30, n_estimators=300;, score=0.974 total time=   0.6s\n",
            "[CV 5/5] END criterion=entropy, max_depth=30, n_estimators=300;, score=0.974 total time=   0.6s\n",
            "[CV 1/5] END criterion=entropy, max_depth=30, n_estimators=400;, score=0.923 total time=   0.7s\n",
            "[CV 2/5] END criterion=entropy, max_depth=30, n_estimators=400;, score=0.974 total time=   0.8s\n",
            "[CV 3/5] END criterion=entropy, max_depth=30, n_estimators=400;, score=1.000 total time=   0.8s\n",
            "[CV 4/5] END criterion=entropy, max_depth=30, n_estimators=400;, score=0.974 total time=   0.8s\n",
            "[CV 5/5] END criterion=entropy, max_depth=30, n_estimators=400;, score=0.974 total time=   0.7s\n",
            "[CV 1/5] END criterion=entropy, max_depth=30, n_estimators=1000;, score=0.923 total time=   1.9s\n",
            "[CV 2/5] END criterion=entropy, max_depth=30, n_estimators=1000;, score=0.949 total time=   1.9s\n",
            "[CV 3/5] END criterion=entropy, max_depth=30, n_estimators=1000;, score=1.000 total time=   1.9s\n",
            "[CV 4/5] END criterion=entropy, max_depth=30, n_estimators=1000;, score=0.974 total time=   1.9s\n",
            "[CV 5/5] END criterion=entropy, max_depth=30, n_estimators=1000;, score=0.974 total time=   1.9s\n"
          ]
        },
        {
          "data": {
            "text/html": [
              "<style>#sk-container-id-3 {color: black;background-color: white;}#sk-container-id-3 pre{padding: 0;}#sk-container-id-3 div.sk-toggleable {background-color: white;}#sk-container-id-3 label.sk-toggleable__label {cursor: pointer;display: block;width: 100%;margin-bottom: 0;padding: 0.3em;box-sizing: border-box;text-align: center;}#sk-container-id-3 label.sk-toggleable__label-arrow:before {content: \"▸\";float: left;margin-right: 0.25em;color: #696969;}#sk-container-id-3 label.sk-toggleable__label-arrow:hover:before {color: black;}#sk-container-id-3 div.sk-estimator:hover label.sk-toggleable__label-arrow:before {color: black;}#sk-container-id-3 div.sk-toggleable__content {max-height: 0;max-width: 0;overflow: hidden;text-align: left;background-color: #f0f8ff;}#sk-container-id-3 div.sk-toggleable__content pre {margin: 0.2em;color: black;border-radius: 0.25em;background-color: #f0f8ff;}#sk-container-id-3 input.sk-toggleable__control:checked~div.sk-toggleable__content {max-height: 200px;max-width: 100%;overflow: auto;}#sk-container-id-3 input.sk-toggleable__control:checked~label.sk-toggleable__label-arrow:before {content: \"▾\";}#sk-container-id-3 div.sk-estimator input.sk-toggleable__control:checked~label.sk-toggleable__label {background-color: #d4ebff;}#sk-container-id-3 div.sk-label input.sk-toggleable__control:checked~label.sk-toggleable__label {background-color: #d4ebff;}#sk-container-id-3 input.sk-hidden--visually {border: 0;clip: rect(1px 1px 1px 1px);clip: rect(1px, 1px, 1px, 1px);height: 1px;margin: -1px;overflow: hidden;padding: 0;position: absolute;width: 1px;}#sk-container-id-3 div.sk-estimator {font-family: monospace;background-color: #f0f8ff;border: 1px dotted black;border-radius: 0.25em;box-sizing: border-box;margin-bottom: 0.5em;}#sk-container-id-3 div.sk-estimator:hover {background-color: #d4ebff;}#sk-container-id-3 div.sk-parallel-item::after {content: \"\";width: 100%;border-bottom: 1px solid gray;flex-grow: 1;}#sk-container-id-3 div.sk-label:hover label.sk-toggleable__label {background-color: #d4ebff;}#sk-container-id-3 div.sk-serial::before {content: \"\";position: absolute;border-left: 1px solid gray;box-sizing: border-box;top: 0;bottom: 0;left: 50%;z-index: 0;}#sk-container-id-3 div.sk-serial {display: flex;flex-direction: column;align-items: center;background-color: white;padding-right: 0.2em;padding-left: 0.2em;position: relative;}#sk-container-id-3 div.sk-item {position: relative;z-index: 1;}#sk-container-id-3 div.sk-parallel {display: flex;align-items: stretch;justify-content: center;background-color: white;position: relative;}#sk-container-id-3 div.sk-item::before, #sk-container-id-3 div.sk-parallel-item::before {content: \"\";position: absolute;border-left: 1px solid gray;box-sizing: border-box;top: 0;bottom: 0;left: 50%;z-index: -1;}#sk-container-id-3 div.sk-parallel-item {display: flex;flex-direction: column;z-index: 1;position: relative;background-color: white;}#sk-container-id-3 div.sk-parallel-item:first-child::after {align-self: flex-end;width: 50%;}#sk-container-id-3 div.sk-parallel-item:last-child::after {align-self: flex-start;width: 50%;}#sk-container-id-3 div.sk-parallel-item:only-child::after {width: 0;}#sk-container-id-3 div.sk-dashed-wrapped {border: 1px dashed gray;margin: 0 0.4em 0.5em 0.4em;box-sizing: border-box;padding-bottom: 0.4em;background-color: white;}#sk-container-id-3 div.sk-label label {font-family: monospace;font-weight: bold;display: inline-block;line-height: 1.2em;}#sk-container-id-3 div.sk-label-container {text-align: center;}#sk-container-id-3 div.sk-container {/* jupyter's `normalize.less` sets `[hidden] { display: none; }` but bootstrap.min.css set `[hidden] { display: none !important; }` so we also need the `!important` here to be able to override the default hidden behavior on the sphinx rendered scikit-learn.org. See: https://github.com/scikit-learn/scikit-learn/issues/21755 */display: inline-block !important;position: relative;}#sk-container-id-3 div.sk-text-repr-fallback {display: none;}</style><div id=\"sk-container-id-3\" class=\"sk-top-container\"><div class=\"sk-text-repr-fallback\"><pre>GridSearchCV(cv=5, estimator=RandomForestClassifier(),\n",
              "             param_grid={&#x27;criterion&#x27;: [&#x27;gini&#x27;, &#x27;entropy&#x27;],\n",
              "                         &#x27;max_depth&#x27;: [1, 2, 3, 4, 10, 20, 30],\n",
              "                         &#x27;n_estimators&#x27;: [50, 100, 200, 300, 400, 1000]},\n",
              "             scoring=&#x27;accuracy&#x27;, verbose=3)</pre><b>In a Jupyter environment, please rerun this cell to show the HTML representation or trust the notebook. <br />On GitHub, the HTML representation is unable to render, please try loading this page with nbviewer.org.</b></div><div class=\"sk-container\" hidden><div class=\"sk-item sk-dashed-wrapped\"><div class=\"sk-label-container\"><div class=\"sk-label sk-toggleable\"><input class=\"sk-toggleable__control sk-hidden--visually\" id=\"sk-estimator-id-3\" type=\"checkbox\" ><label for=\"sk-estimator-id-3\" class=\"sk-toggleable__label sk-toggleable__label-arrow\">GridSearchCV</label><div class=\"sk-toggleable__content\"><pre>GridSearchCV(cv=5, estimator=RandomForestClassifier(),\n",
              "             param_grid={&#x27;criterion&#x27;: [&#x27;gini&#x27;, &#x27;entropy&#x27;],\n",
              "                         &#x27;max_depth&#x27;: [1, 2, 3, 4, 10, 20, 30],\n",
              "                         &#x27;n_estimators&#x27;: [50, 100, 200, 300, 400, 1000]},\n",
              "             scoring=&#x27;accuracy&#x27;, verbose=3)</pre></div></div></div><div class=\"sk-parallel\"><div class=\"sk-parallel-item\"><div class=\"sk-item\"><div class=\"sk-label-container\"><div class=\"sk-label sk-toggleable\"><input class=\"sk-toggleable__control sk-hidden--visually\" id=\"sk-estimator-id-4\" type=\"checkbox\" ><label for=\"sk-estimator-id-4\" class=\"sk-toggleable__label sk-toggleable__label-arrow\">estimator: RandomForestClassifier</label><div class=\"sk-toggleable__content\"><pre>RandomForestClassifier()</pre></div></div></div><div class=\"sk-serial\"><div class=\"sk-item\"><div class=\"sk-estimator sk-toggleable\"><input class=\"sk-toggleable__control sk-hidden--visually\" id=\"sk-estimator-id-5\" type=\"checkbox\" ><label for=\"sk-estimator-id-5\" class=\"sk-toggleable__label sk-toggleable__label-arrow\">RandomForestClassifier</label><div class=\"sk-toggleable__content\"><pre>RandomForestClassifier()</pre></div></div></div></div></div></div></div></div></div></div>"
            ],
            "text/plain": [
              "GridSearchCV(cv=5, estimator=RandomForestClassifier(),\n",
              "             param_grid={'criterion': ['gini', 'entropy'],\n",
              "                         'max_depth': [1, 2, 3, 4, 10, 20, 30],\n",
              "                         'n_estimators': [50, 100, 200, 300, 400, 1000]},\n",
              "             scoring='accuracy', verbose=3)"
            ]
          },
          "execution_count": 37,
          "metadata": {},
          "output_type": "execute_result"
        }
      ],
      "source": [
        "clf.fit(X_train, y_train)"
      ],
      "id": "7708f501-a2dc-48c3-b394-9c84cdde721e"
    },
    {
      "cell_type": "code",
      "execution_count": null,
      "metadata": {
        "id": "4cc07385-0d6a-47fe-adba-1db7f8ecdd75",
        "outputId": "88dd6a78-87fd-40c5-b038-01937feac0df"
      },
      "outputs": [
        {
          "data": {
            "text/plain": [
              "{'criterion': 'gini', 'max_depth': 1, 'n_estimators': 300}"
            ]
          },
          "execution_count": 38,
          "metadata": {},
          "output_type": "execute_result"
        }
      ],
      "source": [
        "clf.best_params_"
      ],
      "id": "4cc07385-0d6a-47fe-adba-1db7f8ecdd75"
    },
    {
      "cell_type": "code",
      "execution_count": null,
      "metadata": {
        "id": "7e0e7112-c76f-4a3f-8267-36c54d15cacf",
        "outputId": "9de38444-d03e-4bdf-df27-bccbaa99d429"
      },
      "outputs": [
        {
          "data": {
            "text/plain": [
              "0.9794871794871796"
            ]
          },
          "execution_count": 39,
          "metadata": {},
          "output_type": "execute_result"
        }
      ],
      "source": [
        "clf.best_score_"
      ],
      "id": "7e0e7112-c76f-4a3f-8267-36c54d15cacf"
    },
    {
      "cell_type": "markdown",
      "source": [
        "# OOB Score"
      ],
      "metadata": {
        "id": "55rNVqDfPh2F"
      },
      "id": "55rNVqDfPh2F"
    },
    {
      "cell_type": "code",
      "execution_count": null,
      "metadata": {
        "id": "61e50128-d392-42f0-a097-30c26061a235"
      },
      "outputs": [],
      "source": [
        "from sklearn.ensemble import RandomForestClassifier\n",
        "from sklearn.datasets import make_classification"
      ],
      "id": "61e50128-d392-42f0-a097-30c26061a235"
    },
    {
      "cell_type": "code",
      "execution_count": null,
      "metadata": {
        "id": "42ec19d5-b6a9-4711-85b3-455985c67900"
      },
      "outputs": [],
      "source": [
        "X, y = make_classification(n_samples = 1000, n_features = 30, n_classes = 2, random_state=1)"
      ],
      "id": "42ec19d5-b6a9-4711-85b3-455985c67900"
    },
    {
      "cell_type": "code",
      "execution_count": null,
      "metadata": {
        "id": "0c4df3d3-8974-42a4-accd-8585a2d4b7b3"
      },
      "outputs": [],
      "source": [
        "rf = RandomForestClassifier(n_estimators=100, oob_score=True, random_state=1)"
      ],
      "id": "0c4df3d3-8974-42a4-accd-8585a2d4b7b3"
    },
    {
      "cell_type": "code",
      "execution_count": null,
      "metadata": {
        "id": "25bedba2-6b4f-458a-a5fc-507ad7c6f7dc",
        "outputId": "a5121fa4-37e3-40f7-f739-34f875f408e1"
      },
      "outputs": [
        {
          "data": {
            "text/html": [
              "<style>#sk-container-id-1 {color: black;background-color: white;}#sk-container-id-1 pre{padding: 0;}#sk-container-id-1 div.sk-toggleable {background-color: white;}#sk-container-id-1 label.sk-toggleable__label {cursor: pointer;display: block;width: 100%;margin-bottom: 0;padding: 0.3em;box-sizing: border-box;text-align: center;}#sk-container-id-1 label.sk-toggleable__label-arrow:before {content: \"▸\";float: left;margin-right: 0.25em;color: #696969;}#sk-container-id-1 label.sk-toggleable__label-arrow:hover:before {color: black;}#sk-container-id-1 div.sk-estimator:hover label.sk-toggleable__label-arrow:before {color: black;}#sk-container-id-1 div.sk-toggleable__content {max-height: 0;max-width: 0;overflow: hidden;text-align: left;background-color: #f0f8ff;}#sk-container-id-1 div.sk-toggleable__content pre {margin: 0.2em;color: black;border-radius: 0.25em;background-color: #f0f8ff;}#sk-container-id-1 input.sk-toggleable__control:checked~div.sk-toggleable__content {max-height: 200px;max-width: 100%;overflow: auto;}#sk-container-id-1 input.sk-toggleable__control:checked~label.sk-toggleable__label-arrow:before {content: \"▾\";}#sk-container-id-1 div.sk-estimator input.sk-toggleable__control:checked~label.sk-toggleable__label {background-color: #d4ebff;}#sk-container-id-1 div.sk-label input.sk-toggleable__control:checked~label.sk-toggleable__label {background-color: #d4ebff;}#sk-container-id-1 input.sk-hidden--visually {border: 0;clip: rect(1px 1px 1px 1px);clip: rect(1px, 1px, 1px, 1px);height: 1px;margin: -1px;overflow: hidden;padding: 0;position: absolute;width: 1px;}#sk-container-id-1 div.sk-estimator {font-family: monospace;background-color: #f0f8ff;border: 1px dotted black;border-radius: 0.25em;box-sizing: border-box;margin-bottom: 0.5em;}#sk-container-id-1 div.sk-estimator:hover {background-color: #d4ebff;}#sk-container-id-1 div.sk-parallel-item::after {content: \"\";width: 100%;border-bottom: 1px solid gray;flex-grow: 1;}#sk-container-id-1 div.sk-label:hover label.sk-toggleable__label {background-color: #d4ebff;}#sk-container-id-1 div.sk-serial::before {content: \"\";position: absolute;border-left: 1px solid gray;box-sizing: border-box;top: 0;bottom: 0;left: 50%;z-index: 0;}#sk-container-id-1 div.sk-serial {display: flex;flex-direction: column;align-items: center;background-color: white;padding-right: 0.2em;padding-left: 0.2em;position: relative;}#sk-container-id-1 div.sk-item {position: relative;z-index: 1;}#sk-container-id-1 div.sk-parallel {display: flex;align-items: stretch;justify-content: center;background-color: white;position: relative;}#sk-container-id-1 div.sk-item::before, #sk-container-id-1 div.sk-parallel-item::before {content: \"\";position: absolute;border-left: 1px solid gray;box-sizing: border-box;top: 0;bottom: 0;left: 50%;z-index: -1;}#sk-container-id-1 div.sk-parallel-item {display: flex;flex-direction: column;z-index: 1;position: relative;background-color: white;}#sk-container-id-1 div.sk-parallel-item:first-child::after {align-self: flex-end;width: 50%;}#sk-container-id-1 div.sk-parallel-item:last-child::after {align-self: flex-start;width: 50%;}#sk-container-id-1 div.sk-parallel-item:only-child::after {width: 0;}#sk-container-id-1 div.sk-dashed-wrapped {border: 1px dashed gray;margin: 0 0.4em 0.5em 0.4em;box-sizing: border-box;padding-bottom: 0.4em;background-color: white;}#sk-container-id-1 div.sk-label label {font-family: monospace;font-weight: bold;display: inline-block;line-height: 1.2em;}#sk-container-id-1 div.sk-label-container {text-align: center;}#sk-container-id-1 div.sk-container {/* jupyter's `normalize.less` sets `[hidden] { display: none; }` but bootstrap.min.css set `[hidden] { display: none !important; }` so we also need the `!important` here to be able to override the default hidden behavior on the sphinx rendered scikit-learn.org. See: https://github.com/scikit-learn/scikit-learn/issues/21755 */display: inline-block !important;position: relative;}#sk-container-id-1 div.sk-text-repr-fallback {display: none;}</style><div id=\"sk-container-id-1\" class=\"sk-top-container\"><div class=\"sk-text-repr-fallback\"><pre>RandomForestClassifier(oob_score=True, random_state=1)</pre><b>In a Jupyter environment, please rerun this cell to show the HTML representation or trust the notebook. <br />On GitHub, the HTML representation is unable to render, please try loading this page with nbviewer.org.</b></div><div class=\"sk-container\" hidden><div class=\"sk-item\"><div class=\"sk-estimator sk-toggleable\"><input class=\"sk-toggleable__control sk-hidden--visually\" id=\"sk-estimator-id-1\" type=\"checkbox\" checked><label for=\"sk-estimator-id-1\" class=\"sk-toggleable__label sk-toggleable__label-arrow\">RandomForestClassifier</label><div class=\"sk-toggleable__content\"><pre>RandomForestClassifier(oob_score=True, random_state=1)</pre></div></div></div></div></div>"
            ],
            "text/plain": [
              "RandomForestClassifier(oob_score=True, random_state=1)"
            ]
          },
          "execution_count": 6,
          "metadata": {},
          "output_type": "execute_result"
        }
      ],
      "source": [
        "rf.fit(X, y)"
      ],
      "id": "25bedba2-6b4f-458a-a5fc-507ad7c6f7dc"
    },
    {
      "cell_type": "code",
      "execution_count": null,
      "metadata": {
        "id": "63c5e5fc-2c0d-4f97-be1f-cea9915ad9a9",
        "outputId": "2bf7c9b7-c180-4c5b-8a77-5c98238cab69"
      },
      "outputs": [
        {
          "data": {
            "text/plain": [
              "0.86"
            ]
          },
          "execution_count": 7,
          "metadata": {},
          "output_type": "execute_result"
        }
      ],
      "source": [
        "rf.oob_score_"
      ],
      "id": "63c5e5fc-2c0d-4f97-be1f-cea9915ad9a9"
    },
    {
      "cell_type": "code",
      "execution_count": null,
      "metadata": {
        "id": "59b89b2f-c3f9-4ced-9a04-5068086ad073"
      },
      "outputs": [],
      "source": [
        "#internal homework:"
      ],
      "id": "59b89b2f-c3f9-4ced-9a04-5068086ad073"
    }
  ],
  "metadata": {
    "kernelspec": {
      "display_name": "Python 3 (ipykernel)",
      "language": "python",
      "name": "python3"
    },
    "language_info": {
      "codemirror_mode": {
        "name": "ipython",
        "version": 3
      },
      "file_extension": ".py",
      "mimetype": "text/x-python",
      "name": "python",
      "nbconvert_exporter": "python",
      "pygments_lexer": "ipython3",
      "version": "3.10.8"
    },
    "colab": {
      "provenance": []
    }
  },
  "nbformat": 4,
  "nbformat_minor": 5
}